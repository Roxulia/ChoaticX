{
 "cells": [
  {
   "cell_type": "code",
   "execution_count": null,
   "metadata": {
    "colab": {
     "base_uri": "https://localhost:8080/"
    },
    "executionInfo": {
     "elapsed": 8509,
     "status": "ok",
     "timestamp": 1747316872531,
     "user": {
      "displayName": "Yabanhito Narwoikie",
      "userId": "03656859950307606706"
     },
     "user_tz": -390
    },
    "id": "kvUIGHxL_VPf",
    "outputId": "f7e20cac-e859-434b-e1a6-2819afb0ec11"
   },
   "outputs": [
    {
     "ename": "",
     "evalue": "",
     "output_type": "error",
     "traceback": [
      "\u001b[1;31mRunning cells with '.venv (Python 3.12.7)' requires the ipykernel package.\n",
      "\u001b[1;31mInstall 'ipykernel' into the Python environment. \n",
      "\u001b[1;31mCommand: 'c:/Users/PC/Desktop/ChaoticX/ChoaticX-main/.venv/Scripts/python.exe -m pip install ipykernel -U --force-reinstall'"
     ]
    }
   ],
   "source": [
    "!pip install ta"
   ]
  },
  {
   "cell_type": "code",
   "execution_count": 1,
   "metadata": {},
   "outputs": [],
   "source": [
    "import sys\n",
    "import os\n",
    "\n",
    "# Add the root directory \"chaoticX\" to the system path\n",
    "sys.path.append(os.path.abspath(\"..\"))  # one level up from Notebooks/\n"
   ]
  },
  {
   "cell_type": "code",
   "execution_count": 2,
   "metadata": {
    "executionInfo": {
     "elapsed": 391,
     "status": "ok",
     "timestamp": 1747316872903,
     "user": {
      "displayName": "Yabanhito Narwoikie",
      "userId": "03656859950307606706"
     },
     "user_tz": -390
    },
    "id": "P8QucV-ZAOON"
   },
   "outputs": [],
   "source": [
    "import pandas as pd\n",
    "import numpy as np\n",
    "import matplotlib.pyplot as plt\n",
    "import ta\n",
    "from Data.timeFrames import timeFrame\n",
    "from Data.binanceAPI import BinanceAPI\n",
    "from Core.zone_detection import ZoneDetector\n",
    "from Core.zone_merge import ZoneMerger\n",
    "from Core.zone_reactions import ZoneReactor\n"
   ]
  },
  {
   "cell_type": "code",
   "execution_count": null,
   "metadata": {
    "colab": {
     "base_uri": "https://localhost:8080/"
    },
    "executionInfo": {
     "elapsed": 24211,
     "status": "ok",
     "timestamp": 1747316897116,
     "user": {
      "displayName": "Yabanhito Narwoikie",
      "userId": "03656859950307606706"
     },
     "user_tz": -390
    },
    "id": "cpGDr5ahAdMX",
    "outputId": "e33c44be-9855-492f-f265-058a3abb484f"
   },
   "outputs": [],
   "source": [
    "from google.colab import drive\n",
    "drive.mount('/content/drive')\n"
   ]
  },
  {
   "cell_type": "code",
   "execution_count": null,
   "metadata": {
    "executionInfo": {
     "elapsed": 1127,
     "status": "ok",
     "timestamp": 1747316919982,
     "user": {
      "displayName": "Yabanhito Narwoikie",
      "userId": "03656859950307606706"
     },
     "user_tz": -390
    },
    "id": "TbFogZNFAsaK"
   },
   "outputs": [],
   "source": [
    "df = pd.read_csv('/content/drive/MyDrive/Colab Notebooks/OHLC.csv')"
   ]
  },
  {
   "cell_type": "code",
   "execution_count": 3,
   "metadata": {
    "colab": {
     "base_uri": "https://localhost:8080/",
     "height": 398
    },
    "executionInfo": {
     "elapsed": 99,
     "status": "ok",
     "timestamp": 1747277162878,
     "user": {
      "displayName": "Yabanhito Narwoikie",
      "userId": "03656859950307606706"
     },
     "user_tz": 420
    },
    "id": "_1PB2OFF1Pkk",
    "outputId": "437cde30-c96c-400e-beaf-d87ebbca4d49"
   },
   "outputs": [],
   "source": [
    "api = BinanceAPI()\n",
    "df_4h = api.get_ohlcv(interval='4h')\n",
    "df_1d = api.get_ohlcv(interval='1D')\n",
    "df_1h = api.get_ohlcv()"
   ]
  },
  {
   "cell_type": "code",
   "execution_count": 4,
   "metadata": {},
   "outputs": [],
   "source": [
    "detector1h = ZoneDetector(df_1h)\n",
    "zone_1h = detector1h.get_zones()\n",
    "detector4h = ZoneDetector(df_4h,timeframe= \"4h\")\n",
    "zone_4h = detector4h.get_zones()\n",
    "detector1d = ZoneDetector(df_1d,timeframe=\"1D\")\n",
    "zone_1d = detector1d.get_zones()\n"
   ]
  },
  {
   "cell_type": "code",
   "execution_count": 5,
   "metadata": {},
   "outputs": [],
   "source": [
    "merger = ZoneMerger(zone_1h+zone_4h+zone_1d)\n",
    "\n",
    "zones = merger.merge()\n",
    "#zones = merger.add_liq_confluence(zones)"
   ]
  },
  {
   "cell_type": "code",
   "execution_count": 6,
   "metadata": {},
   "outputs": [],
   "source": [
    "reactor = ZoneReactor(df_1h, zones)\n",
    "zones = reactor.get_zone_reaction()\n",
    "zones = merger.getNearbyZone(zones)"
   ]
  },
  {
   "cell_type": "code",
   "execution_count": 8,
   "metadata": {},
   "outputs": [
    {
     "ename": "UnboundLocalError",
     "evalue": "cannot access local variable 'zone_copy' where it is not associated with a value",
     "output_type": "error",
     "traceback": [
      "\u001b[31m---------------------------------------------------------------------------\u001b[39m",
      "\u001b[31mUnboundLocalError\u001b[39m                         Traceback (most recent call last)",
      "\u001b[36mCell\u001b[39m\u001b[36m \u001b[39m\u001b[32mIn[8]\u001b[39m\u001b[32m, line 1\u001b[39m\n\u001b[32m----> \u001b[39m\u001b[32m1\u001b[39m zones = \u001b[43mreactor\u001b[49m\u001b[43m.\u001b[49m\u001b[43mget_next_target_zone\u001b[49m\u001b[43m(\u001b[49m\u001b[43m)\u001b[49m\n",
      "\u001b[36mFile \u001b[39m\u001b[32mc:\\Users\\PC\\Desktop\\ChaoticX\\ChoaticX-main\\Core\\zone_reactions.py:77\u001b[39m, in \u001b[36mget_next_target_zone\u001b[39m\u001b[34m(self)\u001b[39m\n\u001b[32m     74\u001b[39m next_low = next_zone[\u001b[33m'\u001b[39m\u001b[33mzone_low\u001b[39m\u001b[33m'\u001b[39m]\n\u001b[32m     76\u001b[39m \u001b[38;5;66;03m# Check from touch_index forward\u001b[39;00m\n\u001b[32m---> \u001b[39m\u001b[32m77\u001b[39m \u001b[38;5;28;01mfor\u001b[39;00m j \u001b[38;5;129;01min\u001b[39;00m \u001b[38;5;28mrange\u001b[39m(touch_index + \u001b[32m1\u001b[39m, \u001b[38;5;28mlen\u001b[39m(\u001b[38;5;28mself\u001b[39m.candles)):\n\u001b[32m     78\u001b[39m     candle = \u001b[38;5;28mself\u001b[39m.candles.iloc[j]\n\u001b[32m     79\u001b[39m     high, low, open_, close = candle[\u001b[33m'\u001b[39m\u001b[33mhigh\u001b[39m\u001b[33m'\u001b[39m], candle[\u001b[33m'\u001b[39m\u001b[33mlow\u001b[39m\u001b[33m'\u001b[39m], candle[\u001b[33m'\u001b[39m\u001b[33mopen\u001b[39m\u001b[33m'\u001b[39m], candle[\u001b[33m'\u001b[39m\u001b[33mclose\u001b[39m\u001b[33m'\u001b[39m]\n",
      "\u001b[31mUnboundLocalError\u001b[39m: cannot access local variable 'zone_copy' where it is not associated with a value"
     ]
    }
   ],
   "source": [
    "zones = reactor.get_next_target_zone()"
   ]
  },
  {
   "cell_type": "code",
   "execution_count": 7,
   "metadata": {},
   "outputs": [
    {
     "data": {
      "text/plain": [
       "{'zone_high': np.float32(113067.31),\n",
       " 'zone_low': np.float32(102969.484),\n",
       " 'zone_width': np.float32(10097.828),\n",
       " 'types': ['Bearish OB',\n",
       "  'Sell-Side Liq',\n",
       "  'Buy-Side Liq',\n",
       "  'Bullish OB',\n",
       "  'Bearish FVG'],\n",
       " 'timeframes': ['4h', '1h', '1D'],\n",
       " 'count': 10,\n",
       " 'start_index': 21168,\n",
       " 'end_index': 25848,\n",
       " 'mid_index': 23574,\n",
       " 'touch_type': 'body_close_above',\n",
       " 'touch_candle': open        113722.828125\n",
       " high        113760.968750\n",
       " low         112985.640625\n",
       " close       113420.000000\n",
       " volume        1310.784546\n",
       " ema20       111490.173210\n",
       " ema50       110466.427775\n",
       " atr            562.486114\n",
       " rsi             82.061862\n",
       " atr_mean       422.322237\n",
       " Name: 2025-07-10 18:00:00, dtype: float64,\n",
       " 'touch_index': 26094,\n",
       " 'distance_to_nearest_zone_above': inf,\n",
       " 'nearest_zone_above': None,\n",
       " 'distance_to_nearest_zone_below': np.float32(439.96094),\n",
       " 'nearest_zone_below': {'zone_high': np.float32(102529.52),\n",
       "  'zone_low': np.float32(96911.47),\n",
       "  'zone_width': np.float32(5618.0547),\n",
       "  'types': ['Bearish FVG', 'Bullish FVG', 'Buy-Side Liq'],\n",
       "  'timeframes': ['4h', '1h', '1D'],\n",
       "  'count': 6,\n",
       "  'start_index': 21062,\n",
       "  'end_index': 24678,\n",
       "  'mid_index': 23036,\n",
       "  'touch_type': 'body_close_inside',\n",
       "  'touch_candle': open        102678.523438\n",
       "  high        102743.429688\n",
       "  low         102352.859375\n",
       "  close       102510.101562\n",
       "  volume         479.238495\n",
       "  ema20       103203.255665\n",
       "  ema50       103468.766374\n",
       "  atr            779.975946\n",
       "  rsi             45.217842\n",
       "  atr_mean       575.499865\n",
       "  Name: 2025-05-12 21:00:00, dtype: float64,\n",
       "  'touch_index': 24681}}"
      ]
     },
     "execution_count": 7,
     "metadata": {},
     "output_type": "execute_result"
    }
   ],
   "source": [
    "zones[-1]"
   ]
  },
  {
   "cell_type": "code",
   "execution_count": null,
   "metadata": {},
   "outputs": [],
   "source": [
    "import requests\n",
    "\n",
    "def get_orderbook_price(symbol, target_price):\n",
    "    url = \"https://api.binance.com/api/v3/depth\"\n",
    "    params = {\"symbol\": symbol.upper(), \"limit\": 10000}\n",
    "    res = requests.get(url, params=params).json()\n",
    "\n",
    "    target_price = str(float(target_price))  # Ensure formatting\n",
    "\n",
    "    bids = {price: qty for price, qty in res[\"bids\"]}\n",
    "    asks = {price: qty for price, qty in res[\"asks\"]}\n",
    "\n",
    "    bid_qty = bids.get(target_price, None)\n",
    "    ask_qty = asks.get(target_price, None)\n",
    "\n",
    "    return {\n",
    "        \"bid_quantity\": bid_qty,\n",
    "        \"ask_quantity\": ask_qty,\n",
    "        \"response\" : res\n",
    "    }\n",
    "\n",
    "# Example usage:\n",
    "print(get_orderbook_price(\"BTCUSDT\", 109000.00))\n"
   ]
  },
  {
   "cell_type": "code",
   "execution_count": null,
   "metadata": {},
   "outputs": [],
   "source": [
    "df.to_csv('OHLC.csv')"
   ]
  },
  {
   "cell_type": "code",
   "execution_count": null,
   "metadata": {
    "id": "WA_1F9HwAOOT"
   },
   "outputs": [],
   "source": [
    "df_4h.tail(5)"
   ]
  },
  {
   "cell_type": "code",
   "execution_count": null,
   "metadata": {},
   "outputs": [],
   "source": [
    "zone_1d"
   ]
  },
  {
   "cell_type": "code",
   "execution_count": null,
   "metadata": {},
   "outputs": [],
   "source": [
    "merger.liq_zones"
   ]
  },
  {
   "cell_type": "code",
   "execution_count": null,
   "metadata": {},
   "outputs": [],
   "source": [
    "zone_df = pd.DataFrame(merger.core_zones)\n",
    "zone_df.to_csv('core_zone.csv')"
   ]
  },
  {
   "cell_type": "code",
   "execution_count": null,
   "metadata": {
    "id": "dT8LBIKWAOOd"
   },
   "outputs": [],
   "source": [
    "def check_fvg_reactions(df, fvg_list, lookahead=24, N=24):\n",
    "    results = []\n",
    "\n",
    "    for fvg in fvg_list:\n",
    "        idx = fvg['index']\n",
    "        high = fvg['zone_high']\n",
    "        low = fvg['zone_low']\n",
    "        direction = fvg['type']\n",
    "        entered = False\n",
    "        bounced = False\n",
    "        violated = False\n",
    "        partial_mitigated = False\n",
    "        time_to_entry = None\n",
    "        price_retrace_ratio = None\n",
    "        volume_on_entry = None\n",
    "        bounce_candles = None\n",
    "        violated_candles = None\n",
    "        max_price_move = None  # NEW\n",
    "        reaction_type = 'no entry'\n",
    "\n",
    "        for j in range(idx + 2, min(idx + 2 + lookahead, len(df))):\n",
    "            candle = df.iloc[j]\n",
    "\n",
    "            wick_enters = candle['low'] <= high and candle['high'] >= low\n",
    "            close_inside = low <= candle['close'] <= high\n",
    "\n",
    "            if wick_enters:\n",
    "                entered = True\n",
    "                entry_price = candle['low'] if direction == 'Bullish FVG' else candle['high']\n",
    "                price_retrace_ratio = (entry_price - low) / (high - low) if direction == 'Bullish FVG' else (high - entry_price) / (high - low)\n",
    "                volume_on_entry = candle['volume']\n",
    "                if time_to_entry is None:\n",
    "                    time_to_entry = j - idx\n",
    "\n",
    "                if not close_inside:\n",
    "                    partial_mitigated = True\n",
    "                    reaction_type = 'partial mitigate'\n",
    "\n",
    "                if direction == 'Bullish FVG':\n",
    "                    if candle['close'] > high:\n",
    "                        bounced = True\n",
    "                        bounce_candles = j - idx - time_to_entry\n",
    "\n",
    "\n",
    "                        for k in range(j+1,min(j +N, len(df))):\n",
    "                            # Check if price reverses (violation)\n",
    "                            if df.iloc[k]['close'] < low:\n",
    "                                violated = True\n",
    "                                violated_candles = k-j\n",
    "                                # Look ahead for max price movement after bounce\n",
    "                                max_high = df.iloc[j : k]['high'].max()\n",
    "                                max_price_move = max_high - high\n",
    "                                reaction_type = 'bounce + break'\n",
    "                                break\n",
    "                        if not violated:\n",
    "                            # Look ahead for max price movement after bounce\n",
    "                            max_high = df.iloc[j : j + N]['high'].max()\n",
    "                            max_price_move = max_high - high\n",
    "                            reaction_type = 'clean bounce'\n",
    "                        break\n",
    "\n",
    "                    elif candle['close'] < low:\n",
    "                        violated = True\n",
    "                        violated_candles = j-time_to_entry-idx\n",
    "                        reaction_type = 'violation'\n",
    "                        break\n",
    "\n",
    "                elif direction == 'Bearish FVG':\n",
    "                    if candle['close'] < low:\n",
    "                        bounced = True\n",
    "                        bounce_candles = j - idx -time_to_entry\n",
    "                        for k in range(j+1,min(j +N, len(df))):\n",
    "                            # Check if price reverses (violation)\n",
    "                            if df.iloc[k]['close'] > high:\n",
    "                                violated = True\n",
    "                                violated_candles = k-j\n",
    "                                min_low = df.iloc[j : k]['low'].min()\n",
    "                                max_price_move = low - min_low\n",
    "                                reaction_type = 'bounce + break'\n",
    "                                break\n",
    "                        if not violated:\n",
    "                            min_low = df.iloc[j : j+N]['low'].min()\n",
    "                            max_price_move = low - min_low\n",
    "                            reaction_type = 'clean bounce'\n",
    "                        break\n",
    "\n",
    "                    elif candle['close'] > high:\n",
    "                        violated = True\n",
    "                        violated_candles = j-time_to_entry-idx\n",
    "                        reaction_type = 'violation'\n",
    "                        break\n",
    "\n",
    "\n",
    "        results.append({\n",
    "            **fvg,\n",
    "            'entered': entered,\n",
    "            'partial_mitigated': partial_mitigated and not close_inside,\n",
    "            'bounced': bounced,\n",
    "            'violated': violated,\n",
    "            'time_to_entry' : time_to_entry,\n",
    "            'price_retrace_ratio' : price_retrace_ratio,\n",
    "            'volume_on_entry' : volume_on_entry,\n",
    "            'bounce_after_candles': bounce_candles,\n",
    "            'violated_after_candles' : violated_candles,\n",
    "            'max_price_move': max_price_move,  # NEW\n",
    "            'reaction_type' : reaction_type\n",
    "        })\n",
    "\n",
    "    return results\n"
   ]
  },
  {
   "cell_type": "code",
   "execution_count": null,
   "metadata": {
    "id": "lQfF-1WyAOOe"
   },
   "outputs": [],
   "source": [
    "def check_ob_reactions(df, ob_list, lookahead=24, N=24):\n",
    "    results = []\n",
    "\n",
    "    for ob in ob_list:\n",
    "        idx = ob['index']\n",
    "        high = ob['zone_high']\n",
    "        low = ob['zone_low']\n",
    "        direction = ob['type']\n",
    "        entered = False\n",
    "        bounced = False\n",
    "        violated = False\n",
    "        partial_mitigated = False\n",
    "        time_to_entry = None\n",
    "        price_retrace_ratio = None\n",
    "        volume_on_entry = None\n",
    "        bounce_candles = None\n",
    "        violated_candles = None\n",
    "        max_price_move = None  # NEW\n",
    "        reaction_type = 'no entry'\n",
    "\n",
    "        for j in range(idx + 2, min(idx + 2 + lookahead, len(df))):\n",
    "            candle = df.iloc[j]\n",
    "\n",
    "            wick_enters = candle['low'] <= high and candle['high'] >= low\n",
    "            close_inside = low <= candle['close'] <= high\n",
    "\n",
    "            if wick_enters:\n",
    "                entered = True\n",
    "                entry_price = candle['low'] if direction == 'Bullish OB' else candle['high']\n",
    "                price_retrace_ratio = (entry_price - low) / (high - low) if direction == 'Bullish OB' else (high - entry_price) / (high - low)\n",
    "                volume_on_entry = candle['volume']\n",
    "                if time_to_entry is None:\n",
    "                    time_to_entry = j - idx\n",
    "\n",
    "                if not close_inside:\n",
    "                    partial_mitigated = True\n",
    "                    reaction_type = 'partial mitigate'\n",
    "\n",
    "                if direction == 'Bullish OB':\n",
    "                    if candle['close'] > high:\n",
    "                        bounced = True\n",
    "                        bounce_candles = j - time_to_entry -idx\n",
    "\n",
    "\n",
    "                        for k in range(j+1,min(j +N, len(df))):\n",
    "                            # Check if price reverses (violation)\n",
    "                            if df.iloc[k]['close'] < low:\n",
    "                                violated = True\n",
    "                                violated_candles = k-j\n",
    "                                # Look ahead for max price movement after bounce\n",
    "                                max_high = df.iloc[j : k]['high'].max()\n",
    "                                max_price_move = max_high - high\n",
    "                                reaction_type = 'bounce + break'\n",
    "                                break\n",
    "                        if not violated:\n",
    "                            # Look ahead for max price movement after bounce\n",
    "                            max_high = df.iloc[j : j + N]['high'].max()\n",
    "                            max_price_move = max_high - high\n",
    "                            reaction_type = 'clean bounce'\n",
    "                        break\n",
    "\n",
    "                    elif candle['close'] < low:\n",
    "                        violated = True\n",
    "                        violated_candles = j-time_to_entry-idx\n",
    "                        reaction_type = 'violation'\n",
    "                        break\n",
    "\n",
    "                elif direction == 'Bearish OB':\n",
    "                    if candle['close'] < low:\n",
    "                        bounced = True\n",
    "                        bounce_candles = j - time_to_entry - idx\n",
    "                        for k in range(j+1,min(j +N, len(df))):\n",
    "                            # Check if price reverses (violation)\n",
    "                            if df.iloc[k]['close'] > high:\n",
    "                                violated = True\n",
    "                                violated_candles = k-j\n",
    "                                min_low = df.iloc[j : k]['low'].min()\n",
    "                                max_price_move = low - min_low\n",
    "                                reaction_type = 'bounce + break'\n",
    "                                break\n",
    "                        if not violated:\n",
    "                            min_low = df.iloc[j : j+N]['low'].min()\n",
    "                            max_price_move = low - min_low\n",
    "                            reaction_type = 'clean bounce'\n",
    "                        break\n",
    "\n",
    "                    elif candle['close'] > high:\n",
    "                        violated = True\n",
    "                        violated_candles = j-time_to_entry-idx\n",
    "                        reaction_type = 'violation'\n",
    "                        break\n",
    "\n",
    "\n",
    "        results.append({\n",
    "            **ob,\n",
    "            'entered': entered,\n",
    "            'partial_mitigated': partial_mitigated and not close_inside,\n",
    "            'bounced': bounced,\n",
    "            'violated': violated,\n",
    "            'time_to_entry' : time_to_entry,\n",
    "            'price_retrace_ratio' : price_retrace_ratio,\n",
    "            'volume_on_entry' : volume_on_entry,\n",
    "            'bounce_after_candles': bounce_candles,\n",
    "            'violated_after_candle' : violated_candles,\n",
    "            'max_price_move': max_price_move,  # NEW\n",
    "            'reaction_type' : reaction_type\n",
    "        })\n",
    "\n",
    "    return results"
   ]
  },
  {
   "cell_type": "code",
   "execution_count": null,
   "metadata": {
    "id": "Waxo7ivRAOOi"
   },
   "outputs": [],
   "source": [
    "def check_liquidity_reactions_on_touches(df, liquidity_zones, lookahead=24, max_touches=5):\n",
    "    results = []\n",
    "\n",
    "    for zone in liquidity_zones:\n",
    "        zone_high = zone['zone_high']\n",
    "        zone_low = zone['zone_low']\n",
    "        ltype = zone['type']\n",
    "\n",
    "        touches = []\n",
    "        touch_count = 0\n",
    "        start = zone['start_index']\n",
    "\n",
    "        for i in range(zone['start_index'] + 1, len(df)):\n",
    "            low = df['low'].iloc[i]\n",
    "            high = df['high'].iloc[i]\n",
    "            volume = df['volume'].iloc[i]\n",
    "            open_price = df['open'].iloc[i]\n",
    "\n",
    "            if (high >= zone_low and open_price < zone_low) or ( open_price > zone_high and low <= zone_high):\n",
    "                '''if touch_count >= max_touches:\n",
    "                    break'''\n",
    "                touch_index = i\n",
    "                touch_result = {\n",
    "                    'touch_index': touch_index,\n",
    "                    'touch_volume' : volume,\n",
    "                    'time_to_entry' : start - i,\n",
    "                    'reaction_type': 'neutral',\n",
    "                    'bounced': False,\n",
    "                    'violated': False,\n",
    "                    'price_move_after_touch': None\n",
    "                }\n",
    "\n",
    "                if touch_index + lookahead < len(df):\n",
    "                    future = df.iloc[touch_index + 1 : touch_index + 1 + lookahead]\n",
    "\n",
    "                    if ltype == 'Buy-Side Liq':\n",
    "                        if any(future['close'] < zone_low):\n",
    "                            touch_result['reaction_type'] = 'violation'\n",
    "                            touch_result['violated'] = True\n",
    "                        elif any(future['close'] > df['close'].iloc[touch_index]):\n",
    "                            touch_result['reaction_type'] = 'bounce'\n",
    "                            touch_result['bounced'] = True\n",
    "                        else:\n",
    "                            touch_result['reaction_type'] = 'neutral'\n",
    "                        touch_result['price_move_after_touch'] = future['high'].max() - df['high'].iloc[touch_index]\n",
    "\n",
    "                    elif ltype == 'Sell-Side Liq':\n",
    "                        if any(future['close'] > zone_high):\n",
    "                            touch_result['reaction_type'] = 'violation'\n",
    "                            touch_result['violated'] = True\n",
    "                        elif any(future['close'] < df['close'].iloc[touch_index]):\n",
    "                            touch_result['reaction_type'] = 'bounce'\n",
    "                            touch_result['bounced'] = True\n",
    "                        else:\n",
    "                            touch_result['reaction_type'] = 'neutral'\n",
    "                        touch_result['price_move_after_touch'] = df['low'].iloc[touch_index] - future['low'].min()\n",
    "\n",
    "                touches.append(touch_result)\n",
    "                touch_count += 1\n",
    "                start = i\n",
    "\n",
    "        results.append({\n",
    "            **zone,\n",
    "            'touch_count': len(touches),\n",
    "            'touches': touches\n",
    "        })\n",
    "\n",
    "    return results\n"
   ]
  },
  {
   "cell_type": "code",
   "execution_count": null,
   "metadata": {
    "executionInfo": {
     "elapsed": 57,
     "status": "ok",
     "timestamp": 1747317412462,
     "user": {
      "displayName": "Yabanhito Narwoikie",
      "userId": "03656859950307606706"
     },
     "user_tz": -390
    },
    "id": "oWoTNNkHAOOo"
   },
   "outputs": [],
   "source": [
    "def add_distance_to_nearest_zones_above_below(zones, threshold=0.1):\n",
    "    \"\"\"\n",
    "    Adds the nearest zone above and below the current zone based on mid-price distance.\n",
    "    Each zone must have: 'zone_high', 'zone_low', 'type', and either 'index' or 'start_index'.\n",
    "    \"\"\"\n",
    "    updated_zones = []\n",
    "\n",
    "    for i, zone in enumerate(zones):\n",
    "        this_mid = (zone['zone_high'] + zone['zone_low']) / 2\n",
    "\n",
    "        if zone['type'] in ['Sell-Side Liq','Buy-Side Liq']:\n",
    "          for index in zone['touch_indexs']:\n",
    "\n",
    "            min_dist_above = float('inf')\n",
    "            min_dist_below = float('inf')\n",
    "\n",
    "            nearest_above_type = None\n",
    "            nearest_below_type = None\n",
    "            nearest_above_zone = None\n",
    "            nearest_below_zone = None\n",
    "            nearest_above_index = None\n",
    "            nearest_below_index = None\n",
    "            h1=None\n",
    "            h2=None\n",
    "            l1=None\n",
    "            l2=None\n",
    "\n",
    "            valid_zones = [\n",
    "        z for z in zones\n",
    "        if z.get('touch_index') is None or z.get('touch_index') > index or (z.get('swept_index',0) > index)\n",
    "    ]\n",
    "\n",
    "\n",
    "            for j, other in enumerate(valid_zones):\n",
    "                if i == j:\n",
    "                    continue\n",
    "\n",
    "                other_mid = (other['zone_high'] + other['zone_low']) / 2\n",
    "                dist = abs(this_mid - other_mid)\n",
    "                if dist > (this_mid * threshold):\n",
    "                    continue\n",
    "\n",
    "                if other_mid > this_mid and dist < min_dist_above:\n",
    "                    min_dist_above = dist\n",
    "                    nearest_above_zone = other\n",
    "\n",
    "                elif other_mid < this_mid and dist < min_dist_below:\n",
    "                    min_dist_below = dist\n",
    "                    nearest_below_zone = other\n",
    "\n",
    "            updated = zone.copy()\n",
    "            updated['distance_to_nearest_zone_above'] = min_dist_above\n",
    "            updated['nearest_zone_above'] = nearest_above_zone\n",
    "\n",
    "            updated['distance_to_nearest_zone_below'] = min_dist_below\n",
    "            updated['nearest_zone_below'] = nearest_below_zone\n",
    "            updated['liq_touch_idx'] = index\n",
    "\n",
    "            #updated['valid_zones'] = valid_zones\n",
    "\n",
    "            updated_zones.append(updated)\n",
    "\n",
    "        else:\n",
    "\n",
    "          min_dist_above = float('inf')\n",
    "          min_dist_below = float('inf')\n",
    "\n",
    "          nearest_above_type = None\n",
    "          nearest_below_type = None\n",
    "          nearest_above_zone = None\n",
    "          nearest_below_zone = None\n",
    "          nearest_above_index = None\n",
    "          nearest_below_index = None\n",
    "          h1=None\n",
    "          h2=None\n",
    "          l1=None\n",
    "          l2=None\n",
    "\n",
    "          valid_zones = [\n",
    "      z for z in zones\n",
    "      if z.get('touch_index') is None or z.get('touch_index') > zone.get('index', 0) or (z.get('swept_index',0) > zone.get('index',0))\n",
    "  ]\n",
    "\n",
    "\n",
    "          for j, other in enumerate(valid_zones):\n",
    "              if i == j:\n",
    "                  continue\n",
    "\n",
    "              other_mid = (other['zone_high'] + other['zone_low']) / 2\n",
    "              dist = abs(this_mid - other_mid)\n",
    "              if dist > (this_mid * threshold):\n",
    "                  continue\n",
    "\n",
    "              if other_mid > this_mid and dist < min_dist_above:\n",
    "                  min_dist_above = dist\n",
    "                  nearest_above_zone = other\n",
    "\n",
    "              elif other_mid < this_mid and dist < min_dist_below:\n",
    "                  min_dist_below = dist\n",
    "                  nearest_below_zone = other\n",
    "\n",
    "          updated = zone.copy()\n",
    "          updated['distance_to_nearest_zone_above'] = min_dist_above\n",
    "          updated['nearest_zone_above'] = nearest_above_zone\n",
    "\n",
    "          updated['distance_to_nearest_zone_below'] = min_dist_below\n",
    "          updated['nearest_zone_below'] = nearest_below_zone\n",
    "\n",
    "          #updated['valid_zones'] = valid_zones\n",
    "\n",
    "          updated_zones.append(updated)\n",
    "\n",
    "    return updated_zones\n"
   ]
  },
  {
   "cell_type": "code",
   "execution_count": null,
   "metadata": {
    "id": "xWktstwF3rvi"
   },
   "outputs": [],
   "source": [
    "all_zones = fvg+ob+liq\n",
    "all_zones = add_distance_to_nearest_zones_above_below(all_zones)"
   ]
  },
  {
   "cell_type": "code",
   "execution_count": null,
   "metadata": {
    "id": "id3d7t1A4Cis"
   },
   "outputs": [],
   "source": [
    "all_zones = sorted(all_zones,key = lambda x : x['index'])"
   ]
  },
  {
   "cell_type": "code",
   "execution_count": null,
   "metadata": {
    "colab": {
     "base_uri": "https://localhost:8080/"
    },
    "executionInfo": {
     "elapsed": 8,
     "status": "ok",
     "timestamp": 1747284911164,
     "user": {
      "displayName": "Yabanhito Narwoikie",
      "userId": "03656859950307606706"
     },
     "user_tz": 420
    },
    "id": "Pesvbr3m_STO",
    "outputId": "0290b07d-f823-4433-f91c-5019f893ecd4"
   },
   "outputs": [],
   "source": [
    "all_zones[-1]"
   ]
  },
  {
   "cell_type": "code",
   "execution_count": null,
   "metadata": {
    "id": "EmGrsUaNAOOp"
   },
   "outputs": [],
   "source": [
    "all_zones_reactions = check_fvg_reactions(df,fvg) + check_ob_reactions(df,ob) + check_liquidity_reactions_on_touches(df,liq)"
   ]
  },
  {
   "cell_type": "code",
   "execution_count": null,
   "metadata": {
    "colab": {
     "base_uri": "https://localhost:8080/"
    },
    "executionInfo": {
     "elapsed": 841,
     "status": "ok",
     "timestamp": 1747109977221,
     "user": {
      "displayName": "Yabanhito Narwoikie",
      "userId": "03656859950307606706"
     },
     "user_tz": 420
    },
    "id": "lbPMf8YoAOOq",
    "outputId": "59fc7ea8-258e-4824-d0fb-6e318b8ebc80"
   },
   "outputs": [],
   "source": [
    "all_zones_reactions = add_distance_to_nearest_zones_above_below(all_zones_reactions)"
   ]
  },
  {
   "cell_type": "code",
   "execution_count": null,
   "metadata": {
    "colab": {
     "base_uri": "https://localhost:8080/",
     "height": 342
    },
    "executionInfo": {
     "elapsed": 128,
     "status": "ok",
     "timestamp": 1747110212246,
     "user": {
      "displayName": "Yabanhito Narwoikie",
      "userId": "03656859950307606706"
     },
     "user_tz": 420
    },
    "id": "xWe9Nk-DAOOr",
    "outputId": "ff805fa3-3c85-4240-e7b6-84c5c2d0fa2d"
   },
   "outputs": [],
   "source": [
    "df_zone_reaction = pd.DataFrame(all_zones_reactions)\n",
    "df_zone_reaction.head()"
   ]
  },
  {
   "cell_type": "code",
   "execution_count": null,
   "metadata": {
    "colab": {
     "base_uri": "https://localhost:8080/"
    },
    "executionInfo": {
     "elapsed": 67,
     "status": "ok",
     "timestamp": 1747110340776,
     "user": {
      "displayName": "Yabanhito Narwoikie",
      "userId": "03656859950307606706"
     },
     "user_tz": 420
    },
    "id": "oLyIjol04Wr9",
    "outputId": "b1a2a0d4-13e2-45f1-fb7b-8bc1340ca53e"
   },
   "outputs": [],
   "source": [
    "df_zone_reaction.columns"
   ]
  },
  {
   "cell_type": "code",
   "execution_count": null,
   "metadata": {
    "colab": {
     "base_uri": "https://localhost:8080/",
     "height": 373
    },
    "executionInfo": {
     "elapsed": 98,
     "status": "error",
     "timestamp": 1747110316116,
     "user": {
      "displayName": "Yabanhito Narwoikie",
      "userId": "03656859950307606706"
     },
     "user_tz": 420
    },
    "id": "BoiQXgM-AOOs",
    "outputId": "72056885-1dfa-4701-c80d-1be2c63d7539"
   },
   "outputs": [],
   "source": [
    "df_zone_reaction = df_zone_reaction.drop(columns=['entered',\n",
    "'partial_mitigated',\n",
    "'bounced',\n",
    "'violated',\n",
    "'price_retrace_ratio',\n",
    "'bounce_after_candles',\n",
    "'violated_after_candles','violated_after_candle','liquidity_height','avg_swing_strength',\n",
    "'max_price_move'])"
   ]
  },
  {
   "cell_type": "code",
   "execution_count": null,
   "metadata": {
    "id": "-rbJaWQdAOOs"
   },
   "outputs": [],
   "source": [
    "df_zone_reaction.loc[df_zone_reaction['start_index'].notna(),'index'] = df_zone_reaction.loc[df_zone_reaction['start_index'].notna(),'index'].fillna(df_zone_reaction['start_index'])"
   ]
  },
  {
   "cell_type": "code",
   "execution_count": null,
   "metadata": {
    "id": "n-HpshdWAOOs"
   },
   "outputs": [],
   "source": [
    "df_zone_reaction = df_zone_reaction.drop(columns=['start_index','end_index','swept_index','count','touch_count'])"
   ]
  },
  {
   "cell_type": "code",
   "execution_count": null,
   "metadata": {
    "id": "jIBddS_nAOOs"
   },
   "outputs": [],
   "source": [
    "def flatten_zone_reaction_row(row):\n",
    "    \"\"\"\n",
    "    Flattens a single liquidity zone row into multiple rows based on touches.\n",
    "\n",
    "    Args:\n",
    "        row (pd.Series): A row from a DataFrame containing a 'touches' column with list of dicts.\n",
    "\n",
    "    Returns:\n",
    "        List of dicts (flattened rows).\n",
    "    \"\"\"\n",
    "    flattened = []\n",
    "\n",
    "    touches = row.get('touches', [])\n",
    "    if not isinstance(touches, list) or len(touches) == 0:\n",
    "        # Return the row as-is with no touch-specific data\n",
    "        base = row.drop(labels='touches').to_dict()\n",
    "        flattened.append(base)\n",
    "        return flattened\n",
    "\n",
    "    for touch in touches:\n",
    "        base = row.drop(labels='touches').to_dict()\n",
    "        base['reaction_type'] = touch.get('reaction_type')\n",
    "        base['time_to_entry'] = touch.get('time_to_entry')\n",
    "        base['volume_on_entry'] = touch.get('touch_volume')\n",
    "        flattened.append(base)\n",
    "\n",
    "    return flattened\n",
    "\n",
    "def flatten_reaction_dataframe(df):\n",
    "    \"\"\"\n",
    "    Apply flatten_liquidity_row to each row and combine all into a new flattened DataFrame.\n",
    "    \"\"\"\n",
    "    all_rows = []\n",
    "    for _, row in df.iterrows():\n",
    "        flattened_rows = flatten_zone_reaction_row(row)\n",
    "        all_rows.extend(flattened_rows)\n",
    "    return pd.DataFrame(all_rows)\n"
   ]
  },
  {
   "cell_type": "code",
   "execution_count": null,
   "metadata": {
    "id": "mpTQxe7vAOOt"
   },
   "outputs": [],
   "source": [
    "df_zone_reaction = flatten_reaction_dataframe(df_zone_reaction)"
   ]
  },
  {
   "cell_type": "code",
   "execution_count": null,
   "metadata": {
    "id": "3JudR_eaAOOt"
   },
   "outputs": [],
   "source": [
    "df_zone_reaction['level'] = df_zone_reaction['level'].fillna((df_zone_reaction['zone_high']+df_zone_reaction['zone_low'])/2)\n",
    "df_zone_reaction['zone_width'] = df_zone_reaction['zone_width'].fillna(0)\n",
    "df_zone_reaction['body_size'] = df_zone_reaction['body_size'].fillna(0)\n",
    "df_zone_reaction['wick_ratio'] = df_zone_reaction['wick_ratio'].fillna(0)\n",
    "df_zone_reaction['volume_on_creation'] = df_zone_reaction['volume_on_creation'].fillna(0)\n",
    "df_zone_reaction['avg_volume_past_5'] = df_zone_reaction['avg_volume_past_5'].fillna(0)\n",
    "df_zone_reaction['prev_volatility_5'] = df_zone_reaction['prev_volatility_5'].fillna(0)\n",
    "df_zone_reaction['momentum_5'] = df_zone_reaction['momentum_5'].fillna(0)\n",
    "df_zone_reaction['avg_volume_around_zone'] = df_zone_reaction['avg_volume_around_zone'].fillna(0)\n",
    "df_zone_reaction['equal_level_deviation'] = df_zone_reaction['equal_level_deviation'].fillna(0)\n",
    "df_zone_reaction['duration_between_first_last_touch'] = df_zone_reaction['duration_between_first_last_touch'].fillna(0)"
   ]
  },
  {
   "cell_type": "code",
   "execution_count": null,
   "metadata": {
    "id": "DYBemBF3AOOt",
    "outputId": "a3f4a522-cc79-4913-8d21-3c51b8566bca"
   },
   "outputs": [],
   "source": [
    "df_zone_reaction['type'].unique()"
   ]
  },
  {
   "cell_type": "code",
   "execution_count": null,
   "metadata": {
    "id": "vOMqj8sLAOOt"
   },
   "outputs": [],
   "source": [
    "df_zone_reaction.to_csv('reactions.csv',index=False)"
   ]
  },
  {
   "cell_type": "code",
   "execution_count": null,
   "metadata": {
    "colab": {
     "base_uri": "https://localhost:8080/",
     "height": 300
    },
    "executionInfo": {
     "elapsed": 123,
     "status": "ok",
     "timestamp": 1746810630950,
     "user": {
      "displayName": "Yabanhito Narwoikie",
      "userId": "03656859950307606706"
     },
     "user_tz": 420
    },
    "id": "JEXvMuItAOOu",
    "outputId": "6df58099-10c0-4a77-ed20-9054a13cae5f"
   },
   "outputs": [],
   "source": [
    "df_zone_reaction.describe()"
   ]
  },
  {
   "cell_type": "code",
   "execution_count": null,
   "metadata": {
    "colab": {
     "base_uri": "https://localhost:8080/",
     "height": 743
    },
    "executionInfo": {
     "elapsed": 19,
     "status": "ok",
     "timestamp": 1747110356381,
     "user": {
      "displayName": "Yabanhito Narwoikie",
      "userId": "03656859950307606706"
     },
     "user_tz": 420
    },
    "id": "oOgwSYFYAOOu",
    "outputId": "39bae00a-2443-4050-ca98-75e136b78288"
   },
   "outputs": [],
   "source": [
    "df_zone_reaction.notna().sum()"
   ]
  },
  {
   "cell_type": "code",
   "execution_count": null,
   "metadata": {
    "id": "9QoE0RrrAOOu"
   },
   "outputs": [],
   "source": [
    "df_zone_reaction= df_zone_reaction.dropna()"
   ]
  },
  {
   "cell_type": "code",
   "execution_count": null,
   "metadata": {
    "id": "7KHUaiv5FpJ5"
   },
   "outputs": [],
   "source": [
    "df_ob_fvg_reaction = df_zone_reaction.loc[~df_zone_reaction['type'].isin(['Buy-Side Liq','Sell-Side Liq'])]\n",
    "df_liq_reaction = df_zone_reaction.loc[df_zone_reaction['type'] .isin(['Buy-Sidde Liq','Sell-Side Liq'])]"
   ]
  },
  {
   "cell_type": "code",
   "execution_count": null,
   "metadata": {
    "id": "asfQWph4AOOv"
   },
   "outputs": [],
   "source": [
    "reaction_type1 = list(df_ob_fvg_reaction.reaction_type.unique())\n",
    "reaction_type2 = list(df_liq_reaction.reaction_type.unique())\n",
    "zone_type = list(df_zone_reaction['type'].unique())"
   ]
  },
  {
   "cell_type": "code",
   "execution_count": null,
   "metadata": {
    "colab": {
     "base_uri": "https://localhost:8080/"
    },
    "executionInfo": {
     "elapsed": 21,
     "status": "ok",
     "timestamp": 1747110380190,
     "user": {
      "displayName": "Yabanhito Narwoikie",
      "userId": "03656859950307606706"
     },
     "user_tz": 420
    },
    "id": "R7BuRhSVAOOv",
    "outputId": "b7a26660-c068-4ff9-909f-96dcfe87b91a"
   },
   "outputs": [],
   "source": [
    "df_ob_fvg_reaction['type'] = df_ob_fvg_reaction['type'].apply(lambda x : zone_type.index(x))\n",
    "df_ob_fvg_reaction['nearest_zone_type'] = df_ob_fvg_reaction['nearest_zone_type'].apply(lambda x : zone_type.index(x))\n",
    "df_liq_reaction['type'] = df_liq_reaction['type'].apply(lambda x : zone_type.index(x))\n",
    "df_liq_reaction['nearest_zone_type'] = df_liq_reaction['nearest_zone_type'].apply(lambda x : zone_type.index(x))\n",
    "\n"
   ]
  },
  {
   "cell_type": "code",
   "execution_count": null,
   "metadata": {
    "colab": {
     "base_uri": "https://localhost:8080/"
    },
    "executionInfo": {
     "elapsed": 59,
     "status": "ok",
     "timestamp": 1747110383414,
     "user": {
      "displayName": "Yabanhito Narwoikie",
      "userId": "03656859950307606706"
     },
     "user_tz": 420
    },
    "id": "6PeQ4rxQAOOv",
    "outputId": "8384e3e7-7e6e-4bdb-d7fb-4f3ce4690c9a"
   },
   "outputs": [],
   "source": [
    "df_ob_fvg_reaction['reaction_type'] = df_ob_fvg_reaction['reaction_type'].apply(lambda x : reaction_type1.index(x))\n",
    "df_liq_reaction['reaction_type'] = df_liq_reaction['reaction_type'].apply(lambda x : reaction_type2.index(x))"
   ]
  },
  {
   "cell_type": "code",
   "execution_count": null,
   "metadata": {
    "colab": {
     "base_uri": "https://localhost:8080/",
     "height": 743
    },
    "executionInfo": {
     "elapsed": 55,
     "status": "ok",
     "timestamp": 1747110387384,
     "user": {
      "displayName": "Yabanhito Narwoikie",
      "userId": "03656859950307606706"
     },
     "user_tz": 420
    },
    "id": "txic68vgAOOw",
    "outputId": "462a5eae-d5ee-4afc-f5fe-b0b595fe93cb"
   },
   "outputs": [],
   "source": [
    "df_zone_reaction.dtypes"
   ]
  },
  {
   "cell_type": "code",
   "execution_count": null,
   "metadata": {
    "id": "ufDfjD-uAOOw"
   },
   "outputs": [],
   "source": [
    "X1 = df_liq_reaction.drop(columns=['reaction_type','nearest_zone_index','index','zone_high','zone_low','duration_between_first_last_touch'])\n",
    "Y1 = df_liq_reaction['reaction_type']\n",
    "X2 = df_ob_fvg_reaction.drop(columns=['reaction_type','nearest_zone_index','index','zone_high','zone_low','duration_between_first_last_touch'])\n",
    "Y2 = df_ob_fvg_reaction['reaction_type']"
   ]
  },
  {
   "cell_type": "code",
   "execution_count": null,
   "metadata": {
    "id": "K7x3wGN3HhOz"
   },
   "outputs": [],
   "source": [
    "from sklearn.model_selection import train_test_split\n",
    "\n",
    "train_x1,val_x1,train_y1,val_y1 = train_test_split(X1,Y1,test_size=0.7)\n",
    "train_x2,val_x2,train_y2,val_y2 = train_test_split(X2,Y2,test_size=0.7)"
   ]
  },
  {
   "cell_type": "code",
   "execution_count": null,
   "metadata": {
    "colab": {
     "base_uri": "https://localhost:8080/",
     "height": 393
    },
    "executionInfo": {
     "elapsed": 1747,
     "status": "ok",
     "timestamp": 1747110440943,
     "user": {
      "displayName": "Yabanhito Narwoikie",
      "userId": "03656859950307606706"
     },
     "user_tz": 420
    },
    "id": "brM12-HuHyzQ",
    "outputId": "81382e39-6776-4dc9-ba17-e697fe2447a9"
   },
   "outputs": [],
   "source": [
    "from xgboost import XGBClassifier\n",
    "\n",
    "liq_model = XGBClassifier(\n",
    "    n_estimators=150,\n",
    "    max_depth=6,\n",
    "    learning_rate=0.05,\n",
    "    random_state=42,\n",
    "    use_label_encoder=False,\n",
    "    eval_metric='logloss'\n",
    ")\n",
    "ob_fvg_model = XGBClassifier(\n",
    "    n_estimators=150,\n",
    "    max_depth=6,\n",
    "    learning_rate=0.05,\n",
    "    random_state=42,\n",
    "    use_label_encoder=False,\n",
    "    eval_metric='logloss'\n",
    ")\n",
    "liq_model.fit(train_x1, train_y1)\n",
    "ob_fvg_model.fit(train_x2,train_y2)"
   ]
  },
  {
   "cell_type": "code",
   "execution_count": null,
   "metadata": {
    "colab": {
     "base_uri": "https://localhost:8080/"
    },
    "executionInfo": {
     "elapsed": 77,
     "status": "ok",
     "timestamp": 1747110444663,
     "user": {
      "displayName": "Yabanhito Narwoikie",
      "userId": "03656859950307606706"
     },
     "user_tz": 420
    },
    "id": "JxOPZunAILDy",
    "outputId": "7d133daf-62b2-4c24-a575-06e4a1af428b"
   },
   "outputs": [],
   "source": [
    "from sklearn.metrics import classification_report, confusion_matrix, roc_auc_score\n",
    "\n",
    "# After training\n",
    "y_pred1 = liq_model.predict(val_x1)\n",
    "y_pred2 = ob_fvg_model.predict(val_x2)\n",
    "\n",
    "print(classification_report(val_y1, y_pred1))\n",
    "print(classification_report(val_y2, y_pred2))\n"
   ]
  },
  {
   "cell_type": "code",
   "execution_count": null,
   "metadata": {
    "colab": {
     "base_uri": "https://localhost:8080/"
    },
    "executionInfo": {
     "elapsed": 10,
     "status": "ok",
     "timestamp": 1746812627924,
     "user": {
      "displayName": "Yabanhito Narwoikie",
      "userId": "03656859950307606706"
     },
     "user_tz": 420
    },
    "id": "cv6xyldRJG2Y",
    "outputId": "d6e12de6-960c-4366-84ed-dd2d94f4e2f2"
   },
   "outputs": [],
   "source": [
    "print(X2.columns)\n",
    "print(X1.columns)"
   ]
  },
  {
   "cell_type": "code",
   "execution_count": null,
   "metadata": {
    "id": "NPAmgjxKAOOw"
   },
   "outputs": [],
   "source": [
    "def label_direction_based_on_zone_touch(df, fvg, ob, liq,  threshold=0.25):\n",
    "    labels = []\n",
    "    df = df.reset_index(drop=True)\n",
    "    n = len(df)\n",
    "\n",
    "    all_zones = []\n",
    "\n",
    "    for zone_list, zone_type in [(fvg, 'FVG'), (ob, 'OB'), (liq, 'LIQ')]:\n",
    "        for z in zone_list:\n",
    "            if 'zone_high' not in z:\n",
    "                z['zone_high'] = z.get('zone_high', z.get('Price', 0) + 0.001)\n",
    "            if 'zone_low' not in z:\n",
    "                z['zone_low'] = z.get('zone_low', z.get('Price', 0) - 0.001)\n",
    "            z['zone_type'] = zone_type if not (zone_type== 'Swing') else z['Type']\n",
    "            z['mid_price'] = (z['zone_high'] + z['zone_low']) / 2\n",
    "            z['index'] = z.get('index', z.get('start_index'))\n",
    "            if z['index'] is not None:\n",
    "                all_zones.append(z)\n",
    "\n",
    "    used_indx = set()\n",
    "    i = 0\n",
    "    while i < n:\n",
    "        print(f\"Processing candle {i+1}/{n}\", end='\\r')\n",
    "        curr_price = df.loc[i, 'close']\n",
    "\n",
    "        # Filter past zones once per i\n",
    "        past_zones = [\n",
    "            z for z in all_zones\n",
    "            if z['index'] < i and (z['zone_high'], z['zone_low'], z['zone_type']) not in used_indx\n",
    "            and abs(z['mid_price'] - curr_price) < curr_price*threshold\n",
    "            or (z['zone_type'] == 'LIQ' and not z['swept_index']==None and z['swept_index']>i and z['index'] < i and abs(z['mid_price'] - curr_price) < curr_price*threshold)\n",
    "        ]\n",
    "\n",
    "        if not past_zones:\n",
    "            labels.append({\n",
    "                'index': i,\n",
    "                'candle detail': df.iloc[i].to_dict(),\n",
    "                'direction': None,\n",
    "                'touched_index' : None,\n",
    "                'touched_zone_type': None,\n",
    "                'target_zone_index': None,\n",
    "                'zone_detail' : None,\n",
    "                'past_zones' : None\n",
    "            })\n",
    "            i += 1\n",
    "            continue\n",
    "\n",
    "        touched_zone = None\n",
    "        touched_index = None\n",
    "\n",
    "        for zone in past_zones:\n",
    "            z_high = zone['zone_high']\n",
    "            z_low = zone['zone_low']\n",
    "\n",
    "            # Use slicing and vectorized comparison instead of for-loop\n",
    "            future_slice = df.iloc[i+1:]\n",
    "            condition = ((future_slice['low'] <= z_high) & (future_slice['open'] > z_high)) | ((future_slice['open'] < z_low) & (future_slice['high'] >= z_low))\n",
    "            match = future_slice[condition]\n",
    "\n",
    "            if not match.empty:\n",
    "                touched_index = match.index[0]\n",
    "                touched_zone = zone\n",
    "                if(touched_zone['zone_type'] in ['FVG','Swing High','Swing Low','OB']):\n",
    "                    used_indx.add((zone['zone_high'], zone['zone_low'], zone['zone_type']))\n",
    "\n",
    "\n",
    "        if touched_zone and touched_index:\n",
    "            price_slice = df.loc[i:touched_index - 1].copy()\n",
    "            zone_mid = touched_zone['mid_price']\n",
    "            direction_series = np.where(zone_mid > price_slice['close'], 'long', 'short')\n",
    "\n",
    "            # Build labels all at once\n",
    "            for j, (idx, row) in enumerate(price_slice.iterrows()):\n",
    "                labels.append({\n",
    "                    'index': idx,\n",
    "                    'candle detail': row.to_dict(),\n",
    "                    'direction': direction_series[j],\n",
    "                    'touched_index' : touched_index,\n",
    "                    'touched_zone_type': touched_zone['zone_type'],\n",
    "                    'target_zone_index': touched_zone['index'],\n",
    "                    'zone_detail' : touched_zone,\n",
    "                    'past_zones' : past_zones\n",
    "                })\n",
    "\n",
    "            # Advance i\n",
    "            i = touched_index + 1  # skip to after the touch\n",
    "        else:\n",
    "            labels.append({\n",
    "                'index': i,\n",
    "                'candle detail': df.iloc[i].to_dict(),\n",
    "                'direction': 'none',\n",
    "                'touched_index' : None,\n",
    "                'touched_zone_type': None,\n",
    "                'target_zone_index': None,\n",
    "                'zone_detail' : None,\n",
    "                'past_zones' : past_zones\n",
    "            })\n",
    "            i += 1\n",
    "\n",
    "    return labels\n"
   ]
  },
  {
   "cell_type": "code",
   "execution_count": null,
   "metadata": {
    "id": "Q3kH3qvgAOOx"
   },
   "outputs": [],
   "source": [
    "labels = label_direction_based_on_zone_touch(df,fvg,ob,liq,threshold=0.1)"
   ]
  },
  {
   "cell_type": "code",
   "execution_count": null,
   "metadata": {
    "id": "VmcQFVJfAOOx"
   },
   "outputs": [],
   "source": [
    "# Assuming 'labels' is the result from your function\n",
    "df_labels = pd.DataFrame(labels)\n",
    "# Expand 'candle detail'\n",
    "candle_df = pd.json_normalize(df_labels['candle detail'])\n",
    "\n",
    "# Expand 'touched_zone_detail'\n",
    "zone_df = pd.json_normalize(df_labels['zone_detail'])\n",
    "\n",
    "# Combine with top-level fields\n",
    "df_final = pd.concat([df_labels.drop(columns=['candle detail', 'zone_detail']),\n",
    "                      candle_df.add_prefix('candle_'),\n",
    "                      zone_df.add_prefix('zone_')],\n",
    "                     axis=1)\n"
   ]
  },
  {
   "cell_type": "code",
   "execution_count": null,
   "metadata": {
    "id": "15jR3EDTAOOx"
   },
   "outputs": [],
   "source": [
    "candle_df.head()"
   ]
  },
  {
   "cell_type": "code",
   "execution_count": null,
   "metadata": {
    "id": "o7PIREaAAOOy"
   },
   "outputs": [],
   "source": [
    "df_final.head(10)"
   ]
  },
  {
   "cell_type": "code",
   "execution_count": null,
   "metadata": {
    "id": "RplrxRCwAOOy"
   },
   "outputs": [],
   "source": [
    "df_final.to_csv('direction_1h.csv',index= False)"
   ]
  },
  {
   "cell_type": "code",
   "execution_count": null,
   "metadata": {
    "id": "9rlZZ3Y-AOOy"
   },
   "outputs": [],
   "source": [
    "def flatten_label_row(labeled_row):\n",
    "    flat_rows = []\n",
    "    current_index = labeled_row['index']\n",
    "    curr_price = labeled_row['candle detail']['close']\n",
    "    touched_zone = labeled_row.get('zone_detail')\n",
    "    past_zones = labeled_row.get('past_zones',[])\n",
    "    if not past_zones:\n",
    "        return []\n",
    "\n",
    "    for zone in labeled_row['past_zones']:\n",
    "        flat_row = {\n",
    "            'candle_index': current_index,\n",
    "            'zone_index': zone.get('index',None),\n",
    "            'zone_type': zone.get('zone_type',None),\n",
    "            'zone_mid_price': float(zone['mid_price']),\n",
    "            'zone_high': float(zone['zone_high']),\n",
    "            'zone_low': float(zone['zone_low']),\n",
    "            'zone_age': current_index - zone['index'],\n",
    "            'zone_range': float(zone['zone_high']) - float(zone['zone_low']),\n",
    "            'zone_mid_distance': abs(curr_price - float(zone['mid_price'])),\n",
    "            'price_above_zone': (curr_price > float(zone['zone_high'])),\n",
    "            'price_inside_zone': (float(zone['zone_low']) < curr_price < float(zone['zone_high'])),\n",
    "            'candle_close': curr_price,\n",
    "            'candle_open': labeled_row['candle detail']['open'],\n",
    "            'candle_high': labeled_row['candle detail']['high'],\n",
    "            'candle_low': labeled_row['candle detail']['low'],\n",
    "            'touched_index': labeled_row.get('touched_index'),\n",
    "            'is_target': (\n",
    "                touched_zone and\n",
    "                zone['index'] == touched_zone['index'] and\n",
    "                zone['zone_type'] == touched_zone['zone_type'] and\n",
    "                abs(zone['zone_high'] - touched_zone['zone_high']) < 1e-6 and\n",
    "                abs(zone['zone_low'] - touched_zone['zone_low']) < 1e-6\n",
    "            )\n",
    "        }\n",
    "\n",
    "        flat_rows.append(flat_row)\n",
    "\n",
    "    return flat_rows\n"
   ]
  },
  {
   "cell_type": "code",
   "execution_count": null,
   "metadata": {
    "id": "jIFobjWfAOOz"
   },
   "outputs": [],
   "source": [
    "def flatten_all_rows(labeled_data):\n",
    "    all_flat = []\n",
    "    for row in labeled_data:\n",
    "        all_flat.extend(flatten_label_row(row))\n",
    "    return pd.DataFrame(all_flat)\n"
   ]
  },
  {
   "cell_type": "code",
   "execution_count": null,
   "metadata": {
    "id": "N2v7J6ihAOOz"
   },
   "outputs": [],
   "source": [
    "df_past_zones = flatten_all_rows(labels)"
   ]
  },
  {
   "cell_type": "code",
   "execution_count": null,
   "metadata": {
    "id": "WpqwhkaUAOOz"
   },
   "outputs": [],
   "source": [
    "df_past_zones = pd.read_csv('past_zone.csv')"
   ]
  },
  {
   "cell_type": "code",
   "execution_count": null,
   "metadata": {
    "id": "YgyBifdAAOO0"
   },
   "outputs": [],
   "source": [
    "df_past_zones = df_past_zones.dropna()"
   ]
  },
  {
   "cell_type": "code",
   "execution_count": null,
   "metadata": {
    "id": "zZX_kYJsAOO0"
   },
   "outputs": [],
   "source": [
    "zone_type = list(df_past_zones['zone_type'].unique())\n",
    "is_target = list(df_past_zones['is_target'].unique())\n",
    "price_above_zone = list(df_past_zones['price_above_zone'].unique())\n",
    "prive_inside_zone = list(df_past_zones['price_inside_zone'].unique())"
   ]
  },
  {
   "cell_type": "code",
   "execution_count": null,
   "metadata": {
    "id": "g1s92_o-AOO1"
   },
   "outputs": [],
   "source": [
    "df_past_zones['zone_type'] = df_past_zones['zone_type'].apply(lambda x : zone_type.index(x))\n",
    "df_past_zones['is_target'] = df_past_zones['is_target'].apply(lambda x : is_target.index(x))\n",
    "df_past_zones['price_above_zone'] = df_past_zones['price_above_zone'].apply(lambda x : price_above_zone.index(x))\n",
    "df_past_zones['price_inside_zone'] = df_past_zones['price_inside_zone'].apply(lambda x : prive_inside_zone.index(x))"
   ]
  },
  {
   "cell_type": "code",
   "execution_count": null,
   "metadata": {
    "id": "-i-_9c9tAOO1"
   },
   "outputs": [],
   "source": [
    "df_past_zones.columns"
   ]
  },
  {
   "cell_type": "code",
   "execution_count": null,
   "metadata": {
    "id": "aSCeQ8MOAOO1"
   },
   "outputs": [],
   "source": [
    "df_past_zones.to_csv('past_zone.csv',index=False)"
   ]
  },
  {
   "cell_type": "code",
   "execution_count": null,
   "metadata": {
    "id": "8tl5Bp19AOO1"
   },
   "outputs": [],
   "source": [
    "df_swings = pd.DataFrame(swings)\n",
    "df_swings.to_csv('swings.csv',index=False)"
   ]
  },
  {
   "cell_type": "code",
   "execution_count": null,
   "metadata": {
    "id": "KRwWbM0sAOO2"
   },
   "outputs": [],
   "source": [
    "df_final.notna().sum()"
   ]
  },
  {
   "cell_type": "code",
   "execution_count": null,
   "metadata": {
    "id": "OGZlDW4SAOO2"
   },
   "outputs": [],
   "source": [
    "labels[10]"
   ]
  },
  {
   "cell_type": "code",
   "execution_count": null,
   "metadata": {
    "id": "DMOU4bo-AOO2"
   },
   "outputs": [],
   "source": [
    "for i in labels:\n",
    "    if i['index'] == 13670:\n",
    "        print(i)"
   ]
  },
  {
   "cell_type": "code",
   "execution_count": null,
   "metadata": {
    "id": "vMQY51qXAOO2"
   },
   "outputs": [],
   "source": [
    "fvg"
   ]
  },
  {
   "cell_type": "code",
   "execution_count": null,
   "metadata": {
    "id": "FY6yioZVAOO3"
   },
   "outputs": [],
   "source": [
    "print(labels)"
   ]
  },
  {
   "cell_type": "code",
   "execution_count": null,
   "metadata": {
    "id": "6C1fpmxXAOO3"
   },
   "outputs": [],
   "source": [
    "df_with_labels = df_1h.join(labels, how='left')\n"
   ]
  },
  {
   "cell_type": "code",
   "execution_count": null,
   "metadata": {
    "id": "Q6rlWwI9AOO4"
   },
   "outputs": [],
   "source": [
    "df.iloc[17254]"
   ]
  },
  {
   "cell_type": "markdown",
   "metadata": {
    "id": "k0Os0Z8LAOO4"
   },
   "source": [
    "Data Combination of SMC Elements"
   ]
  },
  {
   "cell_type": "code",
   "execution_count": null,
   "metadata": {
    "id": "P690Nq6lAOO4"
   },
   "outputs": [],
   "source": [
    "def smc_combine(df):\n",
    "    merged = df.copy()\n",
    "    merged = merged.reset_index(drop = True)\n",
    "    merged['index'] = merged.index  # ensure index column exists\n",
    "    fvg = detect_fvg(df)\n",
    "    #fvg = check_fvg_reactions(df,fvg)\n",
    "    ob = detect_order_blocks(df)\n",
    "    #ob = check_ob_reactions(df,ob)\n",
    "    swings = detect_swings(df,20)\n",
    "    labeled_swings = label_structure_from_swings(swings)\n",
    "    bos_choch=lookahead_bos_choch(labeled_swings,df,50)\n",
    "    liq = detect_liquidity_zones(df,swings)\n",
    "    #liq = check_liquidity_reactions(df,liq)\n",
    "\n",
    "    fvg_df = pd.DataFrame(fvg).set_index('index')\n",
    "    ob_df = pd.DataFrame(ob).set_index('index')\n",
    "    bos_choch_df = pd.DataFrame(bos_choch).set_index('trigger_candle')\n",
    "    labeled_swings_df = pd.DataFrame(labeled_swings).set_index('index')\n",
    "    liq_df = pd.DataFrame(liq).set_index('start_index')\n",
    "    merged = merged.merge(fvg_df, on='index', how='left', suffixes=('', '_fvg'))\n",
    "    merged = merged.merge(ob_df, on='index', how='left', suffixes=('', '_ob'))\n",
    "    merged = merged.merge(labeled_swings_df,on = 'index',how='left',suffixes=('','_swings'))\n",
    "    merged = merged.merge(bos_choch_df, on='index', how='left', suffixes=('', '_bos_choch'))\n",
    "    merged = merged.merge(liq_df, left_on='index', right_index=True, how='left', suffixes=('', '_liq'))\n",
    "    merged['timestamp'] = df.index\n",
    "    return merged"
   ]
  },
  {
   "cell_type": "code",
   "execution_count": null,
   "metadata": {
    "id": "fHyqjynCAOO4"
   },
   "outputs": [],
   "source": [
    "smc_15m = smc_combine(df)\n",
    "smc_1hr = smc_combine(df_1h)\n",
    "smc_4hr = smc_combine(df_4h)\n",
    "smc_1d = smc_combine(df_1d)"
   ]
  },
  {
   "cell_type": "code",
   "execution_count": null,
   "metadata": {
    "id": "dBVmemI2AOO5"
   },
   "outputs": [],
   "source": [
    "def add_htf_features(base_df,htf_df,prefix):\n",
    "    base_df = base_df.copy()\n",
    "    htf_df = htf_df.copy()\n",
    "    base_df = base_df.set_index('timestamp')\n",
    "    htf_df = htf_df.set_index('timestamp')\n",
    "    for feature in ['trend', 'fvg_high', 'fvg_low', 'ob_high', 'ob_low','level','swing_type']:\n",
    "        if feature in htf_df.columns:\n",
    "            base_df[f'{prefix}_{feature}'] = htf_df[feature].reindex(base_df.index, method='ffill')\n",
    "\n",
    "    return base_df.reset_index()"
   ]
  },
  {
   "cell_type": "code",
   "execution_count": null,
   "metadata": {
    "id": "zNE1J16LAOO5"
   },
   "outputs": [],
   "source": [
    "smc_15m = add_htf_features(smc_15m, smc_1hr, prefix='1h')\n",
    "smc_15m = add_htf_features(smc_15m,smc_4hr, prefix='4h')\n",
    "smc_15m = add_htf_features(smc_15m, smc_1d, prefix='1d')\n"
   ]
  },
  {
   "cell_type": "code",
   "execution_count": null,
   "metadata": {
    "id": "jfsKAI16AOO5"
   },
   "outputs": [],
   "source": [
    "smc_15m.tail()"
   ]
  },
  {
   "cell_type": "code",
   "execution_count": null,
   "metadata": {
    "id": "bsShZX8XAOO5"
   },
   "outputs": [],
   "source": [
    "smc_4hr.tail(20)"
   ]
  },
  {
   "cell_type": "code",
   "execution_count": null,
   "metadata": {
    "id": "Fb8XulV0AOO6"
   },
   "outputs": [],
   "source": [
    "smc_15m.to_csv('smc.csv',index=False)"
   ]
  },
  {
   "cell_type": "code",
   "execution_count": null,
   "metadata": {
    "id": "3IKL53yAAOO6"
   },
   "outputs": [],
   "source": [
    "train_data = pd.read_csv('smc.csv')\n",
    "\n",
    "# --- 1. Zone Confluence ---\n",
    "train_data['fvg_ob_confluence'] = (\n",
    "    (train_data['type'] == train_data['type_ob']) &\n",
    "    train_data['type'].notna()\n",
    ").astype(int)\n",
    "\n",
    "train_data['fvg_liq_confluence'] = (\n",
    "    (train_data['type'].notna()) &\n",
    "    (train_data['type_liq'].notna()) &\n",
    "    (abs(train_data['level'] - train_data['low']) < 1000)\n",
    ").astype(int)\n",
    "\n",
    "train_data['ob_liq_confluence'] = (\n",
    "    (train_data['type_ob'].notna()) &\n",
    "    (train_data['type_liq'].notna()) &\n",
    "    (abs(train_data['level'] - train_data['low']) < 1000)\n",
    ").astype(int)\n",
    "\n",
    "# --- 2. Timing Features ---\n",
    "train_data['time_since_bos_choch'] = train_data['index'] - train_data['trigger_candle']\n",
    "train_data['delay_to_liquidity_sweep'] = train_data['swept_index'] - train_data['index']\n",
    "\n",
    "# --- 3. Reaction Strengths ---\n",
    "train_data['avg_max_price_move'] = train_data[[\n",
    "    'max_price_move',\n",
    "    'max_price_move_ob',\n",
    "    'max_price_move_liq'\n",
    "]].mean(axis=1)\n",
    "\n",
    "train_data['has_strong_reaction'] = train_data['reaction_type'].isin(['clean bounce', 'bounce + break']).astype(int)\n",
    "\n",
    "# --- 4. Labels ---\n",
    "train_data['reaction_success'] = train_data['reaction_type'].isin(['clean bounce', 'bounce + break']).astype(int)\n",
    "train_data['reaction_failed'] = (train_data['reaction_type'] == 'violation').astype(int)\n",
    "\n",
    "train_data['setup_success'] = (\n",
    "    (train_data['reaction_type_ob'].isin(['clean bounce'])) |\n",
    "    (train_data['reaction_type'].isin(['clean bounce'])) |\n",
    "    (train_data['reaction_type_liq'].isin(['clean bounce']))\n",
    ").astype(int)\n",
    "\n",
    "# Show the newly added features\n",
    "train_data.tail()\n"
   ]
  },
  {
   "cell_type": "code",
   "execution_count": null,
   "metadata": {
    "id": "v725N-FNAOO6"
   },
   "outputs": [],
   "source": [
    "drop_cols = [\n",
    "    'timestamp', 'index', 'price', 'trigger_candle', 'price_bos_choch',\n",
    "    'trend_bos_choch', 'signal_bos_choch', 'trend_after_bos_choch','reaction_type',\n",
    "    'reaction_type_ob',\n",
    "    'reaction_type_liq','has_strong_reaction',\n",
    "       'reaction_success', 'reaction_failed','price_retrace_ratio','max_price_move','price_retrace_ratio_ob',\n",
    "       'max_price_move_ob','max_price_move_liq','avg_max_price_move','bounced','partial_mitigated','bounced_ob'\n",
    "       ,'partial_mitigated_ob','bounced_liq' ,'violated','violated_ob','violated_liq'\n",
    "]\n"
   ]
  },
  {
   "cell_type": "code",
   "execution_count": null,
   "metadata": {
    "id": "Be6VGDCcAOO7"
   },
   "outputs": [],
   "source": [
    "train_data.fillna({\n",
    "    'structure_label': 'None',\n",
    "    'signal': 'None',\n",
    "    'trend': 'Unknown',\n",
    "\n",
    "    'swing_type': 'None',\n",
    "    'type': 'None',\n",
    "    'type_ob': 'None',\n",
    "    'type_liq': 'None'\n",
    "}, inplace=True)\n",
    "\n",
    "# Fill numeric NaNs\n",
    "train_data.fillna(0, inplace=True)\n"
   ]
  },
  {
   "cell_type": "code",
   "execution_count": null,
   "metadata": {
    "id": "TNXts9yvAOO7"
   },
   "outputs": [],
   "source": [
    "from sklearn.preprocessing import LabelEncoder\n",
    "\n",
    "categorical_cols = [\n",
    "    'structure_label', 'signal', 'trend',\n",
    "    'swing_type', 'type', 'type_ob', 'type_liq'\n",
    "]\n",
    "\n",
    "le = LabelEncoder()\n",
    "for col in categorical_cols:\n",
    "    train_data[col] = le.fit_transform(train_data[col].astype(str))\n"
   ]
  },
  {
   "cell_type": "code",
   "execution_count": null,
   "metadata": {
    "id": "BXY3NviDAOO8"
   },
   "outputs": [],
   "source": [
    "X = df_past_zones.drop(columns=['reaction_type','index','zone_high','zone_low'])\n",
    "Y = df_past_zones['reaction_type']"
   ]
  },
  {
   "cell_type": "code",
   "execution_count": null,
   "metadata": {
    "id": "_oMYK2_OAOO8"
   },
   "outputs": [],
   "source": [
    "X = df_past_zones.drop(columns=['is_target','candle_index','zone_index','touched_index','zone_type'])\n",
    "Y = df_past_zones['is_target']\n"
   ]
  },
  {
   "cell_type": "code",
   "execution_count": null,
   "metadata": {
    "id": "mC9IXvB8AOO8"
   },
   "outputs": [],
   "source": [
    "X = X.reset_index(drop= True)"
   ]
  },
  {
   "cell_type": "code",
   "execution_count": null,
   "metadata": {
    "id": "pmCnZpsEAOO8"
   },
   "outputs": [],
   "source": [
    "from sklearn.preprocessing import LabelEncoder\n",
    "\n",
    "# Encode all object columns\n",
    "for col in X.columns:\n",
    "    if X[col].dtype == 'object':\n",
    "        X[col] = LabelEncoder().fit_transform(X[col].astype(str))\n",
    "\n",
    "# Cast entire DataFrame to float32\n",
    "X = X.astype('float32')\n"
   ]
  },
  {
   "cell_type": "code",
   "execution_count": null,
   "metadata": {
    "id": "pnkAWYNjAOO8"
   },
   "outputs": [],
   "source": [
    "# Ensure all features are either int or float\n",
    "cols = list(X.columns)\n",
    "cols\n"
   ]
  },
  {
   "cell_type": "code",
   "execution_count": null,
   "metadata": {
    "id": "9QPRmFJcAOO9",
    "outputId": "4a612dbf-54b1-4272-e035-8b4bbc176cf9"
   },
   "outputs": [],
   "source": [
    "correlations = df_zone_reaction.corr()['reaction_type'].sort_values(ascending=False)\n",
    "print(correlations)\n"
   ]
  },
  {
   "cell_type": "code",
   "execution_count": null,
   "metadata": {
    "id": "K6rLUE_pAOO9"
   },
   "outputs": [],
   "source": [
    "from sklearn.model_selection import train_test_split\n",
    "\n",
    "train_x,val_x,train_y,val_y = train_test_split(X,Y,test_size=0.7)\n"
   ]
  },
  {
   "cell_type": "code",
   "execution_count": null,
   "metadata": {
    "id": "QeUawiDsAOO9",
    "outputId": "3a64c7fc-1c84-4d9d-dee4-bbe58db89c64"
   },
   "outputs": [],
   "source": [
    "val_x.tail(5)"
   ]
  },
  {
   "cell_type": "code",
   "execution_count": null,
   "metadata": {
    "id": "VQ_O6eGDAOO-",
    "outputId": "7f54cbf3-bbc3-4ceb-e1c1-4db8e5144a3d"
   },
   "outputs": [],
   "source": [
    "from xgboost import XGBClassifier\n",
    "\n",
    "model = XGBClassifier(\n",
    "    n_estimators=150,\n",
    "    max_depth=6,\n",
    "    learning_rate=0.05,\n",
    "    random_state=42,\n",
    "    use_label_encoder=False,\n",
    "    eval_metric='logloss'\n",
    ")\n",
    "\n",
    "model.fit(train_x, train_y)"
   ]
  },
  {
   "cell_type": "code",
   "execution_count": null,
   "metadata": {
    "id": "Yyd6uS7UAOO-",
    "outputId": "381bad62-445c-41d2-b2df-d92a478ae35f"
   },
   "outputs": [],
   "source": [
    "from sklearn.ensemble import RandomForestClassifier\n",
    "\n",
    "model = RandomForestClassifier(\n",
    "    n_estimators=150,\n",
    "    max_depth=6,\n",
    "    random_state=42,\n",
    ")\n",
    "\n",
    "model.fit(train_x, train_y)"
   ]
  },
  {
   "cell_type": "code",
   "execution_count": null,
   "metadata": {
    "id": "kfydF8B_AOO-",
    "outputId": "87857011-38f2-454a-9a97-0e9071419769"
   },
   "outputs": [],
   "source": [
    "from sklearn.metrics import classification_report, confusion_matrix, roc_auc_score\n",
    "\n",
    "# After training\n",
    "y_pred = model.predict(val_x)\n",
    "y_proba = model.predict_proba(val_x)[:,1]\n",
    "\n",
    "print(classification_report(val_y, y_pred))\n",
    "print(\"AUC:\", roc_auc_score(val_y, y_proba))\n"
   ]
  },
  {
   "cell_type": "code",
   "execution_count": null,
   "metadata": {
    "id": "DsBBIYhwAOO_",
    "outputId": "3f040344-bec4-4fd3-e1e6-17b62d442987"
   },
   "outputs": [],
   "source": [
    "# Get feature importance as dictionary\n",
    "importance_dict = model.get_booster().get_score(importance_type='gain')  # You can also use: 'weight', 'cover', 'total_gain', 'total_cover'\n",
    "\n",
    "# Convert to DataFrame for easier viewing\n",
    "importance_df = pd.DataFrame.from_dict(importance_dict, orient='index', columns=['Importance'])\n",
    "importance_df.index.name = 'Feature'\n",
    "importance_df = importance_df.sort_values(by='Importance', ascending=False)\n",
    "\n",
    "print(importance_df)"
   ]
  },
  {
   "cell_type": "code",
   "execution_count": null,
   "metadata": {
    "id": "MrwsTqx_AOO_",
    "outputId": "af1b8631-329d-40f5-8820-0a000ab325a9"
   },
   "outputs": [],
   "source": [
    "reaction_type"
   ]
  },
  {
   "cell_type": "code",
   "execution_count": null,
   "metadata": {
    "id": "yHZj_zJpAOO_"
   },
   "outputs": [],
   "source": [
    "model.feature_importances_"
   ]
  },
  {
   "cell_type": "code",
   "execution_count": null,
   "metadata": {
    "id": "cb4LzYi1AOO_"
   },
   "outputs": [],
   "source": [
    "X.iloc[-40]"
   ]
  },
  {
   "cell_type": "code",
   "execution_count": null,
   "metadata": {
    "id": "EEeSgGNYAOO_"
   },
   "outputs": [],
   "source": [
    "model.predict(X.iloc[-41].values.reshape(1,-1))\n"
   ]
  },
  {
   "cell_type": "code",
   "execution_count": null,
   "metadata": {
    "id": "Y7Hq9ztEAOPA"
   },
   "outputs": [],
   "source": [
    "from joblib import dump, load\n",
    "\n",
    "\n",
    "dump(model,'smcXGBoost.pkl')\n",
    "print(\"Saved successfully\")"
   ]
  },
  {
   "cell_type": "code",
   "execution_count": null,
   "metadata": {
    "id": "MOrJjU_qAOPA"
   },
   "outputs": [],
   "source": [
    "for k in train_data.iloc[50].keys():\n",
    "    print(f'{k} : {train_data.iloc[50][k]}')"
   ]
  }
 ],
 "metadata": {
  "colab": {
   "provenance": []
  },
  "kernelspec": {
   "display_name": ".venv",
   "language": "python",
   "name": "python3"
  },
  "language_info": {
   "codemirror_mode": {
    "name": "ipython",
    "version": 3
   },
   "file_extension": ".py",
   "mimetype": "text/x-python",
   "name": "python",
   "nbconvert_exporter": "python",
   "pygments_lexer": "ipython3",
   "version": "3.12.7"
  }
 },
 "nbformat": 4,
 "nbformat_minor": 0
}
