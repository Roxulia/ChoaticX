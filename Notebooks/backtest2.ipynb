{
 "cells": [
  {
   "cell_type": "code",
   "execution_count": null,
   "metadata": {
    "colab": {
     "base_uri": "https://localhost:8080/"
    },
    "executionInfo": {
     "elapsed": 8509,
     "status": "ok",
     "timestamp": 1747316872531,
     "user": {
      "displayName": "Yabanhito Narwoikie",
      "userId": "03656859950307606706"
     },
     "user_tz": -390
    },
    "id": "kvUIGHxL_VPf",
    "outputId": "f7e20cac-e859-434b-e1a6-2819afb0ec11"
   },
   "outputs": [],
   "source": [
    "!pip install ta"
   ]
  },
  {
   "cell_type": "code",
   "execution_count": null,
   "metadata": {},
   "outputs": [],
   "source": [
    "import sys\n",
    "import os\n",
    "\n",
    "# Add the root directory \"chaoticX\" to the system path\n",
    "sys.path.append(os.path.abspath(\"..\"))  # one level up from Notebooks/\n"
   ]
  },
  {
   "cell_type": "code",
   "execution_count": null,
   "metadata": {
    "executionInfo": {
     "elapsed": 391,
     "status": "ok",
     "timestamp": 1747316872903,
     "user": {
      "displayName": "Yabanhito Narwoikie",
      "userId": "03656859950307606706"
     },
     "user_tz": -390
    },
    "id": "P8QucV-ZAOON"
   },
   "outputs": [],
   "source": [
    "import pandas as pd\n",
    "import numpy as np\n",
    "import matplotlib.pyplot as plt\n",
    "import ta\n",
    "from Data.timeFrames import timeFrame\n",
    "from Data.binanceAPI import BinanceAPI\n",
    "from Core.zone_detection import ZoneDetector\n",
    "from Core.zone_merge import ZoneMerger\n",
    "from Core.zone_reactions import ZoneReactor\n"
   ]
  },
  {
   "cell_type": "code",
   "execution_count": null,
   "metadata": {
    "colab": {
     "base_uri": "https://localhost:8080/"
    },
    "executionInfo": {
     "elapsed": 24211,
     "status": "ok",
     "timestamp": 1747316897116,
     "user": {
      "displayName": "Yabanhito Narwoikie",
      "userId": "03656859950307606706"
     },
     "user_tz": -390
    },
    "id": "cpGDr5ahAdMX",
    "outputId": "e33c44be-9855-492f-f265-058a3abb484f"
   },
   "outputs": [],
   "source": [
    "from google.colab import drive\n",
    "drive.mount('/content/drive')\n"
   ]
  },
  {
   "cell_type": "code",
   "execution_count": null,
   "metadata": {
    "executionInfo": {
     "elapsed": 1127,
     "status": "ok",
     "timestamp": 1747316919982,
     "user": {
      "displayName": "Yabanhito Narwoikie",
      "userId": "03656859950307606706"
     },
     "user_tz": -390
    },
    "id": "TbFogZNFAsaK"
   },
   "outputs": [],
   "source": [
    "df = pd.read_csv('/content/drive/MyDrive/Colab Notebooks/OHLC.csv')"
   ]
  },
  {
   "cell_type": "code",
   "execution_count": null,
   "metadata": {},
   "outputs": [],
   "source": [
    "df"
   ]
  },
  {
   "cell_type": "code",
   "execution_count": null,
   "metadata": {},
   "outputs": [],
   "source": [
    "import requests\n",
    "\n",
    "def get_orderbook_price(symbol, target_price):\n",
    "    url = \"https://api.binance.com/api/v3/depth\"\n",
    "    params = {\"symbol\": symbol.upper(), \"limit\": 10000}\n",
    "    res = requests.get(url, params=params).json()\n",
    "\n",
    "    target_price = str(float(target_price))  # Ensure formatting\n",
    "\n",
    "    bids = {price: qty for price, qty in res[\"bids\"]}\n",
    "    asks = {price: qty for price, qty in res[\"asks\"]}\n",
    "\n",
    "    bid_qty = bids.get(target_price, None)\n",
    "    ask_qty = asks.get(target_price, None)\n",
    "\n",
    "    return {\n",
    "        \"bid_quantity\": bid_qty,\n",
    "        \"ask_quantity\": ask_qty,\n",
    "        \"response\" : res\n",
    "    }\n",
    "\n",
    "# Example usage:\n",
    "print(get_orderbook_price(\"BTCUSDT\", 109000.00))\n"
   ]
  },
  {
   "cell_type": "code",
   "execution_count": null,
   "metadata": {},
   "outputs": [],
   "source": [
    "df.to_csv('OHLC.csv')"
   ]
  },
  {
   "cell_type": "code",
   "execution_count": null,
   "metadata": {
    "colab": {
     "base_uri": "https://localhost:8080/",
     "height": 398
    },
    "executionInfo": {
     "elapsed": 99,
     "status": "ok",
     "timestamp": 1747277162878,
     "user": {
      "displayName": "Yabanhito Narwoikie",
      "userId": "03656859950307606706"
     },
     "user_tz": 420
    },
    "id": "_1PB2OFF1Pkk",
    "outputId": "437cde30-c96c-400e-beaf-d87ebbca4d49"
   },
   "outputs": [],
   "source": [
    "api = BinanceAPI()\n",
    "df_4h = api.get_ohlcv(interval='4h')\n",
    "df_1d = api.get_ohlcv(interval='1D')\n",
    "df_1h = api.get_ohlcv()"
   ]
  },
  {
   "cell_type": "code",
   "execution_count": null,
   "metadata": {
    "id": "WA_1F9HwAOOT"
   },
   "outputs": [],
   "source": [
    "df_4h.tail(5)"
   ]
  },
  {
   "cell_type": "code",
   "execution_count": null,
   "metadata": {},
   "outputs": [],
   "source": [
    "detector1h = ZoneDetector(df_1h)\n",
    "zone_1h = detector1h.get_zones()\n",
    "detector4h = ZoneDetector(df_4h,timeframe= \"4h\")\n",
    "zone_4h = detector4h.get_zones()\n",
    "detector1d = ZoneDetector(df_1d,timeframe=\"1D\")\n",
    "zone_1d = detector1d.get_zones()\n"
   ]
  },
  {
   "cell_type": "code",
   "execution_count": null,
   "metadata": {},
   "outputs": [],
   "source": [
    "zone_1d"
   ]
  },
  {
   "cell_type": "code",
   "execution_count": null,
   "metadata": {},
   "outputs": [],
   "source": [
    "merger = ZoneMerger(zone_1h+zone_4h+zone_1d)\n",
    "zones = merger.merge()\n",
    "#zones = merger.add_liq_confluence(zones)"
   ]
  },
  {
   "cell_type": "markdown",
   "metadata": {
    "id": "RPCuGNg0AOOc"
   },
   "source": [
    "SMC Structure Detection (FVG)"
   ]
  },
  {
   "cell_type": "code",
   "execution_count": null,
   "metadata": {
    "executionInfo": {
     "elapsed": 36,
     "status": "ok",
     "timestamp": 1747316979623,
     "user": {
      "displayName": "Yabanhito Narwoikie",
      "userId": "03656859950307606706"
     },
     "user_tz": -390
    },
    "id": "sC4br3slAOOc"
   },
   "outputs": [],
   "source": [
    "def detect_fvg(df,threshold = 300,timeframe = '1h'):\n",
    "    \"\"\"\n",
    "    Detect Fair Value Gaps (FVGs)\n",
    "    \"\"\"\n",
    "\n",
    "    fvg_indices = []\n",
    "\n",
    "    highs = df['high'].values\n",
    "    lows = df['low'].values\n",
    "    opens = df['open'].values\n",
    "    closes = df['close'].values\n",
    "    volumes = df['volume'].values\n",
    "    ema20 = df['ema20'].values\n",
    "    ema50 = df['ema50'].values\n",
    "    atr = df['atr'].values\n",
    "    rsi = df['rsi'].values\n",
    "    atr_mean = df['atr_mean'].values\n",
    "\n",
    "    length = len(df)\n",
    "\n",
    "    close_rolling = df['close'].rolling(window=5)\n",
    "    volume_rolling = df['volume'].rolling(window=5)\n",
    "\n",
    "    avg_volume_past_5 = volume_rolling.mean().values\n",
    "    prev_volatility_5 = close_rolling.std().values\n",
    "    momentum_5 = closes - np.roll(closes, 5)\n",
    "\n",
    "    for i in range(5, length - 1):\n",
    "        prev_high = highs[i - 1]\n",
    "        prev_low = lows[i - 1]\n",
    "        next_high = highs[i + 1]\n",
    "        next_low = lows[i + 1]\n",
    "\n",
    "        body = abs(opens[i] - closes[i])\n",
    "        candle_range = highs[i] - lows[i]\n",
    "        body_ratio = body / candle_range if candle_range != 0 else 0\n",
    "        wick_ratio = 1 - body_ratio\n",
    "        body_size = body\n",
    "        volume_on_creation = volumes[i]\n",
    "\n",
    "        if next_low > prev_high:\n",
    "            gap = next_low - prev_high\n",
    "            if gap >= threshold:\n",
    "                # Touch index search — can be optimized further with precomputed conditions if needed\n",
    "                touch_indx = next(\n",
    "                    (j for j in range(i + 2, length) if opens[j] > next_low and lows[j] < next_low), None\n",
    "                )\n",
    "                fvg_indices.append({\n",
    "                    'index': i,\n",
    "                    'type': 'Bullish FVG',\n",
    "                    'ema 20': ema20[i],\n",
    "                    'ema 50': ema50[i],\n",
    "                    'atr': atr[i],\n",
    "                    'rsi': rsi[i],\n",
    "                    'atr_mean': atr_mean[i],\n",
    "                    'zone_high': next_low,\n",
    "                    'zone_low': prev_high,\n",
    "                    'zone_width': gap,\n",
    "                    'body_size': body_size,\n",
    "                    'wick_ratio': wick_ratio,\n",
    "                    'volume_on_creation': volume_on_creation,\n",
    "                    'avg_volume_past_5': avg_volume_past_5[i],\n",
    "                    'prev_volatility_5': prev_volatility_5[i],\n",
    "                    'momentum_5': momentum_5[i],\n",
    "                    'touch_index': touch_indx,\n",
    "                    'time_frame': timeframe,\n",
    "                })\n",
    "\n",
    "        elif next_high < prev_low:\n",
    "            gap = prev_low - next_high\n",
    "            if gap >= threshold:\n",
    "                touch_indx = next(\n",
    "                    (j for j in range(i + 2, length) if opens[j] < next_high and highs[j] > next_high), None\n",
    "                )\n",
    "                fvg_indices.append({\n",
    "                    'index': i,\n",
    "                    'type': 'Bearish FVG',\n",
    "                    'ema 20': ema20[i],\n",
    "                    'ema 50': ema50[i],\n",
    "                    'atr': atr[i],\n",
    "                    'rsi': rsi[i],\n",
    "                    'atr_mean': atr_mean[i],\n",
    "                    'zone_high': prev_low,\n",
    "                    'zone_low': next_high,\n",
    "                    'zone_width': gap,\n",
    "                    'body_size': body_size,\n",
    "                    'wick_ratio': wick_ratio,\n",
    "                    'volume_on_creation': volume_on_creation,\n",
    "                    'avg_volume_past_5': avg_volume_past_5[i],\n",
    "                    'prev_volatility_5': prev_volatility_5[i],\n",
    "                    'momentum_5': momentum_5[i],\n",
    "                    'touch_index': touch_indx,\n",
    "                    'time_frame': timeframe,\n",
    "                })\n",
    "\n",
    "    return fvg_indices"
   ]
  },
  {
   "cell_type": "code",
   "execution_count": null,
   "metadata": {
    "id": "dT8LBIKWAOOd"
   },
   "outputs": [],
   "source": [
    "def check_fvg_reactions(df, fvg_list, lookahead=24, N=24):\n",
    "    results = []\n",
    "\n",
    "    for fvg in fvg_list:\n",
    "        idx = fvg['index']\n",
    "        high = fvg['zone_high']\n",
    "        low = fvg['zone_low']\n",
    "        direction = fvg['type']\n",
    "        entered = False\n",
    "        bounced = False\n",
    "        violated = False\n",
    "        partial_mitigated = False\n",
    "        time_to_entry = None\n",
    "        price_retrace_ratio = None\n",
    "        volume_on_entry = None\n",
    "        bounce_candles = None\n",
    "        violated_candles = None\n",
    "        max_price_move = None  # NEW\n",
    "        reaction_type = 'no entry'\n",
    "\n",
    "        for j in range(idx + 2, min(idx + 2 + lookahead, len(df))):\n",
    "            candle = df.iloc[j]\n",
    "\n",
    "            wick_enters = candle['low'] <= high and candle['high'] >= low\n",
    "            close_inside = low <= candle['close'] <= high\n",
    "\n",
    "            if wick_enters:\n",
    "                entered = True\n",
    "                entry_price = candle['low'] if direction == 'Bullish FVG' else candle['high']\n",
    "                price_retrace_ratio = (entry_price - low) / (high - low) if direction == 'Bullish FVG' else (high - entry_price) / (high - low)\n",
    "                volume_on_entry = candle['volume']\n",
    "                if time_to_entry is None:\n",
    "                    time_to_entry = j - idx\n",
    "\n",
    "                if not close_inside:\n",
    "                    partial_mitigated = True\n",
    "                    reaction_type = 'partial mitigate'\n",
    "\n",
    "                if direction == 'Bullish FVG':\n",
    "                    if candle['close'] > high:\n",
    "                        bounced = True\n",
    "                        bounce_candles = j - idx - time_to_entry\n",
    "\n",
    "\n",
    "                        for k in range(j+1,min(j +N, len(df))):\n",
    "                            # Check if price reverses (violation)\n",
    "                            if df.iloc[k]['close'] < low:\n",
    "                                violated = True\n",
    "                                violated_candles = k-j\n",
    "                                # Look ahead for max price movement after bounce\n",
    "                                max_high = df.iloc[j : k]['high'].max()\n",
    "                                max_price_move = max_high - high\n",
    "                                reaction_type = 'bounce + break'\n",
    "                                break\n",
    "                        if not violated:\n",
    "                            # Look ahead for max price movement after bounce\n",
    "                            max_high = df.iloc[j : j + N]['high'].max()\n",
    "                            max_price_move = max_high - high\n",
    "                            reaction_type = 'clean bounce'\n",
    "                        break\n",
    "\n",
    "                    elif candle['close'] < low:\n",
    "                        violated = True\n",
    "                        violated_candles = j-time_to_entry-idx\n",
    "                        reaction_type = 'violation'\n",
    "                        break\n",
    "\n",
    "                elif direction == 'Bearish FVG':\n",
    "                    if candle['close'] < low:\n",
    "                        bounced = True\n",
    "                        bounce_candles = j - idx -time_to_entry\n",
    "                        for k in range(j+1,min(j +N, len(df))):\n",
    "                            # Check if price reverses (violation)\n",
    "                            if df.iloc[k]['close'] > high:\n",
    "                                violated = True\n",
    "                                violated_candles = k-j\n",
    "                                min_low = df.iloc[j : k]['low'].min()\n",
    "                                max_price_move = low - min_low\n",
    "                                reaction_type = 'bounce + break'\n",
    "                                break\n",
    "                        if not violated:\n",
    "                            min_low = df.iloc[j : j+N]['low'].min()\n",
    "                            max_price_move = low - min_low\n",
    "                            reaction_type = 'clean bounce'\n",
    "                        break\n",
    "\n",
    "                    elif candle['close'] > high:\n",
    "                        violated = True\n",
    "                        violated_candles = j-time_to_entry-idx\n",
    "                        reaction_type = 'violation'\n",
    "                        break\n",
    "\n",
    "\n",
    "        results.append({\n",
    "            **fvg,\n",
    "            'entered': entered,\n",
    "            'partial_mitigated': partial_mitigated and not close_inside,\n",
    "            'bounced': bounced,\n",
    "            'violated': violated,\n",
    "            'time_to_entry' : time_to_entry,\n",
    "            'price_retrace_ratio' : price_retrace_ratio,\n",
    "            'volume_on_entry' : volume_on_entry,\n",
    "            'bounce_after_candles': bounce_candles,\n",
    "            'violated_after_candles' : violated_candles,\n",
    "            'max_price_move': max_price_move,  # NEW\n",
    "            'reaction_type' : reaction_type\n",
    "        })\n",
    "\n",
    "    return results\n"
   ]
  },
  {
   "cell_type": "code",
   "execution_count": null,
   "metadata": {
    "executionInfo": {
     "elapsed": 5,
     "status": "ok",
     "timestamp": 1747316984883,
     "user": {
      "displayName": "Yabanhito Narwoikie",
      "userId": "03656859950307606706"
     },
     "user_tz": -390
    },
    "id": "4Vt9nk6RAOOd"
   },
   "outputs": [],
   "source": [
    "fvg = detect_fvg(df)\n"
   ]
  },
  {
   "cell_type": "code",
   "execution_count": null,
   "metadata": {
    "colab": {
     "base_uri": "https://localhost:8080/"
    },
    "collapsed": true,
    "executionInfo": {
     "elapsed": 645,
     "status": "ok",
     "timestamp": 1747277593068,
     "user": {
      "displayName": "Yabanhito Narwoikie",
      "userId": "03656859950307606706"
     },
     "user_tz": 420
    },
    "id": "3d8Sx3tvAOOe",
    "outputId": "8018f71b-98a0-412b-f03a-2ac7dfd2d52b"
   },
   "outputs": [],
   "source": [
    "fvg"
   ]
  },
  {
   "cell_type": "markdown",
   "metadata": {
    "id": "SXg9jodDAOOe"
   },
   "source": [
    "SMC Structure Detection (OB)"
   ]
  },
  {
   "cell_type": "code",
   "execution_count": null,
   "metadata": {
    "executionInfo": {
     "elapsed": 33,
     "status": "ok",
     "timestamp": 1747317166759,
     "user": {
      "displayName": "Yabanhito Narwoikie",
      "userId": "03656859950307606706"
     },
     "user_tz": -390
    },
    "id": "B-VwnoqKAOOe"
   },
   "outputs": [],
   "source": [
    "def detect_order_blocks(df, min_body_ratio=0.3, timeframe='1h'):\n",
    "    \"\"\"\n",
    "    Optimized detection of bullish and bearish Order Blocks (OB).\n",
    "    \"\"\"\n",
    "    ob_list = []\n",
    "\n",
    "    highs = df['high'].values\n",
    "    lows = df['low'].values\n",
    "    opens = df['open'].values\n",
    "    closes = df['close'].values\n",
    "    volumes = df['volume'].values\n",
    "    ema20 = df['ema20'].values\n",
    "    ema50 = df['ema50'].values\n",
    "    atr = df['atr'].values\n",
    "    rsi = df['rsi'].values\n",
    "    atr_mean = df['atr_mean'].values\n",
    "\n",
    "    for i in range(5, len(df) - 2):\n",
    "        open_, close_ = opens[i], closes[i]\n",
    "        high_, low_ = highs[i], lows[i]\n",
    "        prev_close = closes[i - 1]\n",
    "        next_close = closes[i + 1]\n",
    "        next2_close = closes[i + 2]\n",
    "\n",
    "        body = abs(open_ - close_)\n",
    "        candle_range = high_ - low_\n",
    "        if candle_range == 0:\n",
    "            continue\n",
    "\n",
    "        body_ratio = body / candle_range\n",
    "        if body_ratio < min_body_ratio:\n",
    "            continue\n",
    "\n",
    "        wick_ratio = 1 - body_ratio\n",
    "        zone_high, zone_low = high_, low_\n",
    "        zone_width = zone_high - zone_low\n",
    "        body_size = body\n",
    "        volume_on_creation = volumes[i]\n",
    "\n",
    "        avg_volume_past_5 = volumes[i-5:i].mean()\n",
    "        prev_volatility_5 = closes[i-5:i].std()\n",
    "        momentum_5 = close_ - closes[i - 5]\n",
    "\n",
    "        # --- Bullish OB Detection ---\n",
    "        if close_ < open_:\n",
    "            if (prev_close > low_ and\n",
    "                next_close > high_ and\n",
    "                next2_close > closes[i + 1]):\n",
    "\n",
    "                # Delay touch check until required\n",
    "                touch_indx = next(\n",
    "                    (j for j in range(i + 3, len(df))\n",
    "                     if opens[j] > zone_high and lows[j] < zone_high),\n",
    "                    None\n",
    "                )\n",
    "\n",
    "                ob_list.append({\n",
    "                    'index': i,\n",
    "                    'type': 'Bullish OB',\n",
    "                    'ema 20': ema20[i],\n",
    "                    'ema 50': ema50[i],\n",
    "                    'atr': atr[i],\n",
    "                    'rsi': rsi[i],\n",
    "                    'atr_mean': atr_mean[i],\n",
    "                    'zone_high': zone_high,\n",
    "                    'zone_low': zone_low,\n",
    "                    'zone_width': zone_width,\n",
    "                    'body_size': body_size,\n",
    "                    'wick_ratio': wick_ratio,\n",
    "                    'volume_on_creation': volume_on_creation,\n",
    "                    'avg_volume_past_5': avg_volume_past_5,\n",
    "                    'prev_volatility_5': prev_volatility_5,\n",
    "                    'momentum_5': momentum_5,\n",
    "                    'touch_index': touch_indx,\n",
    "                    'time_frame': timeframe,\n",
    "                })\n",
    "\n",
    "        # --- Bearish OB Detection ---\n",
    "        elif close_ > open_:\n",
    "            if (prev_close < high_ and\n",
    "                next_close < low_ and\n",
    "                next2_close < closes[i + 1]):\n",
    "\n",
    "                touch_indx = next(\n",
    "                    (j for j in range(i + 3, len(df))\n",
    "                     if opens[j] < zone_low and highs[j] > zone_low),\n",
    "                    None\n",
    "                )\n",
    "\n",
    "                ob_list.append({\n",
    "                    'index': i,\n",
    "                    'type': 'Bearish OB',\n",
    "                    'ema 20': ema20[i],\n",
    "                    'ema 50': ema50[i],\n",
    "                    'atr': atr[i],\n",
    "                    'rsi': rsi[i],\n",
    "                    'atr_mean': atr_mean[i],\n",
    "                    'zone_high': zone_high,\n",
    "                    'zone_low': zone_low,\n",
    "                    'zone_width': zone_width,\n",
    "                    'body_size': body_size,\n",
    "                    'wick_ratio': wick_ratio,\n",
    "                    'volume_on_creation': volume_on_creation,\n",
    "                    'avg_volume_past_5': avg_volume_past_5,\n",
    "                    'prev_volatility_5': prev_volatility_5,\n",
    "                    'momentum_5': momentum_5,\n",
    "                    'touch_index': touch_indx,\n",
    "                    'time_frame': timeframe,\n",
    "                })\n",
    "\n",
    "    return ob_list\n"
   ]
  },
  {
   "cell_type": "code",
   "execution_count": null,
   "metadata": {
    "id": "lQfF-1WyAOOe"
   },
   "outputs": [],
   "source": [
    "def check_ob_reactions(df, ob_list, lookahead=24, N=24):\n",
    "    results = []\n",
    "\n",
    "    for ob in ob_list:\n",
    "        idx = ob['index']\n",
    "        high = ob['zone_high']\n",
    "        low = ob['zone_low']\n",
    "        direction = ob['type']\n",
    "        entered = False\n",
    "        bounced = False\n",
    "        violated = False\n",
    "        partial_mitigated = False\n",
    "        time_to_entry = None\n",
    "        price_retrace_ratio = None\n",
    "        volume_on_entry = None\n",
    "        bounce_candles = None\n",
    "        violated_candles = None\n",
    "        max_price_move = None  # NEW\n",
    "        reaction_type = 'no entry'\n",
    "\n",
    "        for j in range(idx + 2, min(idx + 2 + lookahead, len(df))):\n",
    "            candle = df.iloc[j]\n",
    "\n",
    "            wick_enters = candle['low'] <= high and candle['high'] >= low\n",
    "            close_inside = low <= candle['close'] <= high\n",
    "\n",
    "            if wick_enters:\n",
    "                entered = True\n",
    "                entry_price = candle['low'] if direction == 'Bullish OB' else candle['high']\n",
    "                price_retrace_ratio = (entry_price - low) / (high - low) if direction == 'Bullish OB' else (high - entry_price) / (high - low)\n",
    "                volume_on_entry = candle['volume']\n",
    "                if time_to_entry is None:\n",
    "                    time_to_entry = j - idx\n",
    "\n",
    "                if not close_inside:\n",
    "                    partial_mitigated = True\n",
    "                    reaction_type = 'partial mitigate'\n",
    "\n",
    "                if direction == 'Bullish OB':\n",
    "                    if candle['close'] > high:\n",
    "                        bounced = True\n",
    "                        bounce_candles = j - time_to_entry -idx\n",
    "\n",
    "\n",
    "                        for k in range(j+1,min(j +N, len(df))):\n",
    "                            # Check if price reverses (violation)\n",
    "                            if df.iloc[k]['close'] < low:\n",
    "                                violated = True\n",
    "                                violated_candles = k-j\n",
    "                                # Look ahead for max price movement after bounce\n",
    "                                max_high = df.iloc[j : k]['high'].max()\n",
    "                                max_price_move = max_high - high\n",
    "                                reaction_type = 'bounce + break'\n",
    "                                break\n",
    "                        if not violated:\n",
    "                            # Look ahead for max price movement after bounce\n",
    "                            max_high = df.iloc[j : j + N]['high'].max()\n",
    "                            max_price_move = max_high - high\n",
    "                            reaction_type = 'clean bounce'\n",
    "                        break\n",
    "\n",
    "                    elif candle['close'] < low:\n",
    "                        violated = True\n",
    "                        violated_candles = j-time_to_entry-idx\n",
    "                        reaction_type = 'violation'\n",
    "                        break\n",
    "\n",
    "                elif direction == 'Bearish OB':\n",
    "                    if candle['close'] < low:\n",
    "                        bounced = True\n",
    "                        bounce_candles = j - time_to_entry - idx\n",
    "                        for k in range(j+1,min(j +N, len(df))):\n",
    "                            # Check if price reverses (violation)\n",
    "                            if df.iloc[k]['close'] > high:\n",
    "                                violated = True\n",
    "                                violated_candles = k-j\n",
    "                                min_low = df.iloc[j : k]['low'].min()\n",
    "                                max_price_move = low - min_low\n",
    "                                reaction_type = 'bounce + break'\n",
    "                                break\n",
    "                        if not violated:\n",
    "                            min_low = df.iloc[j : j+N]['low'].min()\n",
    "                            max_price_move = low - min_low\n",
    "                            reaction_type = 'clean bounce'\n",
    "                        break\n",
    "\n",
    "                    elif candle['close'] > high:\n",
    "                        violated = True\n",
    "                        violated_candles = j-time_to_entry-idx\n",
    "                        reaction_type = 'violation'\n",
    "                        break\n",
    "\n",
    "\n",
    "        results.append({\n",
    "            **ob,\n",
    "            'entered': entered,\n",
    "            'partial_mitigated': partial_mitigated and not close_inside,\n",
    "            'bounced': bounced,\n",
    "            'violated': violated,\n",
    "            'time_to_entry' : time_to_entry,\n",
    "            'price_retrace_ratio' : price_retrace_ratio,\n",
    "            'volume_on_entry' : volume_on_entry,\n",
    "            'bounce_after_candles': bounce_candles,\n",
    "            'violated_after_candle' : violated_candles,\n",
    "            'max_price_move': max_price_move,  # NEW\n",
    "            'reaction_type' : reaction_type\n",
    "        })\n",
    "\n",
    "    return results"
   ]
  },
  {
   "cell_type": "code",
   "execution_count": null,
   "metadata": {
    "colab": {
     "base_uri": "https://localhost:8080/"
    },
    "collapsed": true,
    "executionInfo": {
     "elapsed": 2055,
     "status": "ok",
     "timestamp": 1747317174432,
     "user": {
      "displayName": "Yabanhito Narwoikie",
      "userId": "03656859950307606706"
     },
     "user_tz": -390
    },
    "id": "fFyfGUVYAOOf",
    "outputId": "a0c55422-cbc6-41c2-ee9a-be95b9b1aee3"
   },
   "outputs": [],
   "source": [
    "obs = detect_order_blocks(df)\n",
    "obs"
   ]
  },
  {
   "cell_type": "code",
   "execution_count": null,
   "metadata": {
    "id": "JQ9d7ek2AOOf"
   },
   "outputs": [],
   "source": [
    "ob_res = check_ob_reactions(df,obs)\n",
    "ob_res"
   ]
  },
  {
   "cell_type": "code",
   "execution_count": null,
   "metadata": {
    "id": "cf5zzluKAOOf"
   },
   "outputs": [],
   "source": [
    "import seaborn as sns\n",
    "import matplotlib.pyplot as plt\n",
    "def analysis_on_structure(result):\n",
    "    df = pd.DataFrame(result)\n",
    "    print(df['reaction_type'].value_counts())\n",
    "    mean_by_reaction = df.groupby('reaction_type')[[\n",
    "         'price_retrace_ratio', 'volume_on_entry',\n",
    "        'time_to_entry', 'bounce_after_candles', 'max_price_move'\n",
    "    ]].mean()\n",
    "\n",
    "    print(mean_by_reaction)\n",
    "    success = df['reaction_type'].isin(['clean bounce', 'bounce + break'])\n",
    "    success_rate = success.sum() / len(df)\n",
    "\n",
    "    print(f\"Success rate: {success_rate:.2%}\")\n",
    "    print(\"Average time to entry:\", df['time_to_entry'].mean())\n",
    "    print(\"Average price retrace ratio:\", df['price_retrace_ratio'].mean())\n",
    "    bounce_moves = df[df['bounced'] == True]['max_price_move'].mean()\n",
    "    violation_count = df[df['violated'] == True].shape[0]\n",
    "\n",
    "    print(\"Average max price move after bounce:\", bounce_moves)\n",
    "    print(\"Number of violated :\", violation_count)\n",
    "\n",
    "    sns.boxplot(x='reaction_type', y='max_price_move', data=df)\n",
    "    plt.xticks(rotation=45)\n",
    "    plt.title(\"Max Price Move by Reaction Type\")\n",
    "    plt.show()\n"
   ]
  },
  {
   "cell_type": "code",
   "execution_count": null,
   "metadata": {
    "id": "eEU68xvyAOOf"
   },
   "outputs": [],
   "source": [
    "analysis_on_structure(ob_res)"
   ]
  },
  {
   "cell_type": "code",
   "execution_count": null,
   "metadata": {
    "id": "vkNBIXlZAOOg"
   },
   "outputs": [],
   "source": [
    "analysis_on_structure(fvg_res)"
   ]
  },
  {
   "cell_type": "code",
   "execution_count": null,
   "metadata": {
    "id": "N4yt3EZUAOOg"
   },
   "outputs": [],
   "source": [
    "df.iloc[4533]"
   ]
  },
  {
   "cell_type": "markdown",
   "metadata": {
    "id": "A-LZm0sdAOOg"
   },
   "source": [
    "SMC Structure Detection(BOS/CHOCH)"
   ]
  },
  {
   "cell_type": "code",
   "execution_count": null,
   "metadata": {
    "executionInfo": {
     "elapsed": 38,
     "status": "ok",
     "timestamp": 1747317352128,
     "user": {
      "displayName": "Yabanhito Narwoikie",
      "userId": "03656859950307606706"
     },
     "user_tz": -390
    },
    "id": "0TthA9C2AOOg"
   },
   "outputs": [],
   "source": [
    "def detect_swings(df, window=20):\n",
    "    swings = []\n",
    "\n",
    "    for i in range(0, len(df)):\n",
    "\n",
    "        if(i < window):\n",
    "            high_window = df['high'].iloc[i:i + window + 1]\n",
    "            low_window = df['low'].iloc[i:i + window + 1]\n",
    "        elif(i+window >= len(df)):\n",
    "            high_window = df['high'].iloc[i - window:]\n",
    "            low_window = df['low'].iloc[i - window:]\n",
    "        else:\n",
    "            high_window = df['high'].iloc[i - window:i + window + 1]\n",
    "            low_window = df['low'].iloc[i - window:i + window + 1]\n",
    "\n",
    "        center_high = df['high'].iloc[i]\n",
    "        center_low = df['low'].iloc[i]\n",
    "\n",
    "        is_swing_high = center_high == high_window.max()\n",
    "        is_swing_low = center_low == low_window.min()\n",
    "\n",
    "        if is_swing_high:\n",
    "            swings.append({'index': i, 'Type': 'Swing High', 'Price': center_high,'swing_strength':window,\n",
    "                        'ema 20' : df.iloc[i]['ema20'],\n",
    "                        'ema 50' : df.iloc[i]['ema50'],\n",
    "                        'atr' : df.iloc[i]['atr'],\n",
    "                        'rsi' : df.iloc[i]['rsi'],\n",
    "                        'atr_mean' : df.iloc[i]['atr_mean']})\n",
    "        elif is_swing_low:\n",
    "            swings.append({'index': i, 'Type': 'Swing Low', 'Price': center_low,'swing_strength':window,\n",
    "                        'ema 20' : df.iloc[i]['ema20'],\n",
    "                        'ema 50' : df.iloc[i]['ema50'],\n",
    "                        'atr' : df.iloc[i]['atr'],\n",
    "                        'rsi' : df.iloc[i]['rsi'],\n",
    "                        'atr_mean' : df.iloc[i]['atr_mean']})\n",
    "\n",
    "    return swings\n",
    "\n",
    "\n",
    "def label_structure_from_swings(swings):\n",
    "    labeled_swings = []\n",
    "    last_high = None\n",
    "    last_low = None\n",
    "    trend = None\n",
    "\n",
    "    for s in swings:\n",
    "        idx = s['index']\n",
    "        stype = s['Type']\n",
    "        price = s['Price']\n",
    "        label = None\n",
    "\n",
    "        if stype == 'Swing High':\n",
    "            label = 'HH' if last_high is None or price > last_high else 'LH'\n",
    "            last_high = price\n",
    "        elif stype == 'Swing Low':\n",
    "            label = 'HL' if last_low is None or price > last_low else 'LL'\n",
    "            last_low = price\n",
    "\n",
    "        trend = 'Bullish' if label == 'HH' else ('Bearish' if label == 'LL' else trend)\n",
    "\n",
    "        labeled_swings.append({\n",
    "            'index': idx,\n",
    "            'swing_type': stype,\n",
    "            'price': price,\n",
    "            'structure_label': label,\n",
    "            'trend': trend\n",
    "        })\n",
    "\n",
    "    return labeled_swings\n",
    "\n",
    "\n",
    "def lookahead_bos_choch(labeled_swings, df, lookahead=20):\n",
    "    results = []\n",
    "    current_trend = None\n",
    "\n",
    "    for s in labeled_swings:\n",
    "        idx = s['index']\n",
    "        label = s['structure_label']\n",
    "        price = s['price']\n",
    "        signal = None\n",
    "        trigger_candle = None\n",
    "\n",
    "        for j in range(1, lookahead + 1):\n",
    "            if idx + j >= len(df):\n",
    "                break\n",
    "            close_price = df['close'].iloc[idx + j]\n",
    "\n",
    "            if label == 'HH' and close_price > price:\n",
    "                signal = 'BOS'\n",
    "                current_trend = 'Bullish'\n",
    "                trigger_candle = idx + j\n",
    "                break\n",
    "\n",
    "            elif label == 'LH' and close_price > price:\n",
    "                signal = 'CHOCH'\n",
    "                current_trend = 'Bullish'\n",
    "                trigger_candle = idx + j\n",
    "                break\n",
    "\n",
    "            elif label == 'LL' and close_price < price:\n",
    "                signal = 'BOS'\n",
    "                current_trend = 'Bearish'\n",
    "                trigger_candle = idx + j\n",
    "                break\n",
    "\n",
    "            elif label == 'HL' and close_price < price:\n",
    "                signal = 'CHOCH'\n",
    "                current_trend = 'Bearish'\n",
    "                trigger_candle = idx + j\n",
    "                break\n",
    "\n",
    "\n",
    "        s['signal'] = signal\n",
    "        s['trigger_candle'] = trigger_candle\n",
    "        s['trend_after'] = current_trend\n",
    "        results.append(s)\n",
    "\n",
    "    return results\n",
    "\n",
    "\n",
    "def extract_structure_features(df, window=20, lookahead=20):\n",
    "    swings = detect_swings(df, window)\n",
    "    labeled_swings = label_structure_from_swings(swings)\n",
    "    structure_events = lookahead_bos_choch(labeled_swings, df, lookahead)\n",
    "\n",
    "    features = []\n",
    "    prev = None\n",
    "    highest = None\n",
    "    lowest = None\n",
    "\n",
    "    for s in structure_events:\n",
    "        entry = s.copy()\n",
    "        entry['distance_to_prev_swing'] = s['index'] - prev['index'] if prev else None\n",
    "        entry['price_change_from_last'] = s['price'] - prev['price'] if prev else None\n",
    "\n",
    "        if s['structure_label'] in ['HH', 'LH']:\n",
    "            entry['swing_strength'] = abs(s['price'] - (highest if highest is not None else s['price']))\n",
    "            highest = max(highest or s['price'], s['price'])\n",
    "        elif s['structure_label'] in ['LL', 'HL']:\n",
    "            entry['swing_strength'] = abs(s['price'] - (lowest if lowest is not None else s['price']))\n",
    "            lowest = min(lowest or s['price'], s['price'])\n",
    "        else:\n",
    "            entry['swing_strength'] = None\n",
    "\n",
    "        entry['is_extreme'] = (\n",
    "            (s['trend'] == 'Bullish' and s['price'] == highest) or\n",
    "            (s['trend'] == 'Bearish' and s['price'] == lowest)\n",
    "        )\n",
    "\n",
    "        features.append(entry)\n",
    "        prev = s\n",
    "\n",
    "    return features\n"
   ]
  },
  {
   "cell_type": "code",
   "execution_count": null,
   "metadata": {
    "id": "7wAX1Sn6AOOh"
   },
   "outputs": [],
   "source": [
    "structure_feature = extract_structure_features(df,20,50)\n",
    "structure_feature_df = pd.DataFrame(structure_feature)"
   ]
  },
  {
   "cell_type": "code",
   "execution_count": null,
   "metadata": {
    "id": "gb3hl0AgAOOh"
   },
   "outputs": [],
   "source": [
    "print(structure_feature_df['signal'].value_counts())\n",
    "print(structure_feature_df.groupby('signal')[['swing_strength', 'distance_to_prev_swing', 'price_change_from_last']].mean()\n",
    ")\n",
    "print(pd.crosstab(structure_feature_df['signal'], structure_feature_df['trend'])\n",
    ")\n",
    "structure_feature_df['bos_delay'] = structure_feature_df['trigger_candle'] - structure_feature_df['index']\n",
    "print(structure_feature_df.groupby('signal')['bos_delay'].mean())\n",
    "extreme_stats = structure_feature_df[structure_feature_df['signal'] == 'BOS'].groupby('is_extreme')['swing_strength'].mean()\n",
    "print(extreme_stats)\n",
    "\n"
   ]
  },
  {
   "cell_type": "markdown",
   "metadata": {
    "id": "85rgkP0eAOOh"
   },
   "source": [
    "SMC Structure Detection (Liquidity Zone)"
   ]
  },
  {
   "cell_type": "code",
   "execution_count": null,
   "metadata": {
    "executionInfo": {
     "elapsed": 3,
     "status": "ok",
     "timestamp": 1747317356768,
     "user": {
      "displayName": "Yabanhito Narwoikie",
      "userId": "03656859950307606706"
     },
     "user_tz": -390
    },
    "id": "WWBl9d3BAOOi"
   },
   "outputs": [],
   "source": [
    "def detect_liquidity_zones(df, swings, range_pct=0.01,timeframe = '1h'):\n",
    "    \"\"\"\n",
    "    Detect buy-side and sell-side liquidity zones based on repeated highs/lows.\n",
    "\n",
    "    Args:\n",
    "        df (pd.DataFrame): OHLCV dataframe with 'high' and 'low' columns.\n",
    "        swings (list): Output of detect_swings(), containing swing highs/lows.\n",
    "        range_pct (float): Percent range to cluster equal highs/lows.\n",
    "\n",
    "    Returns:\n",
    "        List of liquidity zones with type, level, start/end index, and swept index.\n",
    "    \"\"\"\n",
    "    n = len(df)\n",
    "    liquidity_zones = []\n",
    "\n",
    "    highs = [s for s in swings if s['Type'] == 'Swing High']\n",
    "    lows = [s for s in swings if s['Type'] == 'Swing Low']\n",
    "\n",
    "    pip_range = (df['high'].max() - df['low'].min()) * range_pct\n",
    "    ohlc_high = df['high'].values\n",
    "    ohlc_low = df['low'].values\n",
    "\n",
    "    def process_zone(candidates, direction):\n",
    "        result = []\n",
    "        used = set()\n",
    "        for i, base in enumerate(candidates):\n",
    "            if base['index'] in used:\n",
    "                continue\n",
    "\n",
    "            base_level = base['Price']\n",
    "            range_low = base_level - pip_range\n",
    "            range_high = base_level + pip_range\n",
    "\n",
    "            group = [base]\n",
    "            prices = [base['Price']]\n",
    "            end_idx = base['index']\n",
    "\n",
    "            for other in candidates[i+1:]:\n",
    "                if other['index'] in used:\n",
    "                    continue\n",
    "                if range_low <= other['Price'] <= range_high:\n",
    "                    group.append(other)\n",
    "                    used.add(other['index'])\n",
    "                    prices.append(other['Price'])\n",
    "                    end_idx = other['index']\n",
    "\n",
    "            if len(group) < 2:\n",
    "                continue  # not enough for liquidity\n",
    "\n",
    "            avg_level = sum(prices) / len(prices)\n",
    "            zone_high = avg_level + pip_range\n",
    "            zone_low = avg_level - pip_range\n",
    "            liquidity_height = zone_high - zone_low\n",
    "            equal_level_deviation = np.std(prices)\n",
    "            duration = end_idx - group[0]['index']\n",
    "            swing_strengths = [g['swing_strength'] for g in group if 'swing_strength' in g]\n",
    "            avg_swing_strength = np.mean(swing_strengths) if swing_strengths else None\n",
    "\n",
    "            # Average volume around touches\n",
    "            volumes = [df.iloc[g['index']]['volume'] for g in group if g['index'] < len(df)]\n",
    "            avg_volume = np.mean(volumes) if volumes else None\n",
    "\n",
    "            ema20s = [g['ema 20'] for g in group if 'ema 20' in g]\n",
    "            ema50s = [g['ema 50'] for g in group if 'ema 50' in g]\n",
    "            rsis = [g['rsi'] for g in group if 'rsi' in g]\n",
    "            atrs = [g['atr'] for g in group if 'atr' in g]\n",
    "            atr_means = [g['atr_mean'] for g in group if 'atr_mean' in g]\n",
    "\n",
    "            # Find sweep candle\n",
    "            start = end_idx + 1\n",
    "            swept_index = None\n",
    "            if start < n:\n",
    "                if direction == 'Sell-Side':\n",
    "                    cond = ohlc_high[start:] >= range_high\n",
    "                else:\n",
    "                    cond = ohlc_low[start:] <= range_low\n",
    "\n",
    "                if np.any(cond):\n",
    "                    swept_index = start + int(np.argmax(cond))\n",
    "\n",
    "            result.append({\n",
    "                'type': f'{direction} Liq',\n",
    "                'level': avg_level,\n",
    "                'zone_high': zone_high,\n",
    "                'zone_low': zone_low,\n",
    "                'count': len(group),\n",
    "                'index' : group[0]['index'],\n",
    "                'indexs': [g['index'] for g in group],\n",
    "                'end_index': end_idx,\n",
    "                'swept_index': swept_index,\n",
    "                'liquidity_height': liquidity_height,\n",
    "                'equal_level_deviation': equal_level_deviation,\n",
    "                'avg_volume_around_zone': avg_volume,\n",
    "                'duration_between_first_last_touch': duration,\n",
    "                'avg_swing_strength': avg_swing_strength,\n",
    "                'avg_ema_20' : np.mean(ema20s),\n",
    "                'avg_ema_50' : np.mean(ema50s),\n",
    "                'avg_rsi' : np.mean(rsis),\n",
    "                'avg_atr' : np.mean(atrs),\n",
    "                'avg_atr_mean' : np.mean(atr_means),\n",
    "                'time_frame' : timeframe,\n",
    "            })\n",
    "\n",
    "\n",
    "        return result\n",
    "\n",
    "    buy_side = process_zone(lows, 'Buy-Side')\n",
    "    sell_side = process_zone(highs, 'Sell-Side')\n",
    "\n",
    "    return buy_side + sell_side\n"
   ]
  },
  {
   "cell_type": "code",
   "execution_count": null,
   "metadata": {
    "executionInfo": {
     "elapsed": 5,
     "status": "ok",
     "timestamp": 1747317359888,
     "user": {
      "displayName": "Yabanhito Narwoikie",
      "userId": "03656859950307606706"
     },
     "user_tz": -390
    },
    "id": "euOVamKdG7Yo"
   },
   "outputs": [],
   "source": [
    "def get_liq_touches(df, liquidity_zones):\n",
    "    lows = df['low'].values\n",
    "    highs = df['high'].values\n",
    "    opens = df['open'].values\n",
    "\n",
    "    results = []\n",
    "    for zone in liquidity_zones:\n",
    "        zone_high = zone['zone_high']\n",
    "        zone_low = zone['zone_low']\n",
    "        start_idx = zone['index'] + 2\n",
    "        end_idx = zone['end_index'] - 2\n",
    "\n",
    "        touches = []\n",
    "        for i in range(start_idx, min(end_idx, len(df))):\n",
    "            low = lows[i]\n",
    "            high = highs[i]\n",
    "            open_price = opens[i]\n",
    "\n",
    "            if (high >= zone_low and open_price < zone_low) or (open_price > zone_high and low <= zone_high):\n",
    "                touches.append(i)\n",
    "\n",
    "        results.append({**zone, 'touch_indexs': touches})\n",
    "\n",
    "    return results\n"
   ]
  },
  {
   "cell_type": "code",
   "execution_count": null,
   "metadata": {
    "id": "FcA0N4QDAOOi"
   },
   "outputs": [],
   "source": [
    "swings = detect_swings(df, 15)\n",
    "liquidity = detect_liquidity_zones(df,swings)\n",
    "liquidity"
   ]
  },
  {
   "cell_type": "code",
   "execution_count": null,
   "metadata": {
    "id": "Waxo7ivRAOOi"
   },
   "outputs": [],
   "source": [
    "def check_liquidity_reactions_on_touches(df, liquidity_zones, lookahead=24, max_touches=5):\n",
    "    results = []\n",
    "\n",
    "    for zone in liquidity_zones:\n",
    "        zone_high = zone['zone_high']\n",
    "        zone_low = zone['zone_low']\n",
    "        ltype = zone['type']\n",
    "\n",
    "        touches = []\n",
    "        touch_count = 0\n",
    "        start = zone['start_index']\n",
    "\n",
    "        for i in range(zone['start_index'] + 1, len(df)):\n",
    "            low = df['low'].iloc[i]\n",
    "            high = df['high'].iloc[i]\n",
    "            volume = df['volume'].iloc[i]\n",
    "            open_price = df['open'].iloc[i]\n",
    "\n",
    "            if (high >= zone_low and open_price < zone_low) or ( open_price > zone_high and low <= zone_high):\n",
    "                '''if touch_count >= max_touches:\n",
    "                    break'''\n",
    "                touch_index = i\n",
    "                touch_result = {\n",
    "                    'touch_index': touch_index,\n",
    "                    'touch_volume' : volume,\n",
    "                    'time_to_entry' : start - i,\n",
    "                    'reaction_type': 'neutral',\n",
    "                    'bounced': False,\n",
    "                    'violated': False,\n",
    "                    'price_move_after_touch': None\n",
    "                }\n",
    "\n",
    "                if touch_index + lookahead < len(df):\n",
    "                    future = df.iloc[touch_index + 1 : touch_index + 1 + lookahead]\n",
    "\n",
    "                    if ltype == 'Buy-Side Liq':\n",
    "                        if any(future['close'] < zone_low):\n",
    "                            touch_result['reaction_type'] = 'violation'\n",
    "                            touch_result['violated'] = True\n",
    "                        elif any(future['close'] > df['close'].iloc[touch_index]):\n",
    "                            touch_result['reaction_type'] = 'bounce'\n",
    "                            touch_result['bounced'] = True\n",
    "                        else:\n",
    "                            touch_result['reaction_type'] = 'neutral'\n",
    "                        touch_result['price_move_after_touch'] = future['high'].max() - df['high'].iloc[touch_index]\n",
    "\n",
    "                    elif ltype == 'Sell-Side Liq':\n",
    "                        if any(future['close'] > zone_high):\n",
    "                            touch_result['reaction_type'] = 'violation'\n",
    "                            touch_result['violated'] = True\n",
    "                        elif any(future['close'] < df['close'].iloc[touch_index]):\n",
    "                            touch_result['reaction_type'] = 'bounce'\n",
    "                            touch_result['bounced'] = True\n",
    "                        else:\n",
    "                            touch_result['reaction_type'] = 'neutral'\n",
    "                        touch_result['price_move_after_touch'] = df['low'].iloc[touch_index] - future['low'].min()\n",
    "\n",
    "                touches.append(touch_result)\n",
    "                touch_count += 1\n",
    "                start = i\n",
    "\n",
    "        results.append({\n",
    "            **zone,\n",
    "            'touch_count': len(touches),\n",
    "            'touches': touches\n",
    "        })\n",
    "\n",
    "    return results\n"
   ]
  },
  {
   "cell_type": "code",
   "execution_count": null,
   "metadata": {
    "colab": {
     "base_uri": "https://localhost:8080/",
     "height": 159
    },
    "executionInfo": {
     "elapsed": 225,
     "status": "error",
     "timestamp": 1747110199353,
     "user": {
      "displayName": "Yabanhito Narwoikie",
      "userId": "03656859950307606706"
     },
     "user_tz": 420
    },
    "id": "imCD7APzAOOi",
    "outputId": "06bb5158-7d9c-4a2a-a931-20a01778fff6"
   },
   "outputs": [],
   "source": [
    "liq_res = check_liquidity_reactions_on_touches(df,liquidity)\n",
    "liq_res"
   ]
  },
  {
   "cell_type": "code",
   "execution_count": null,
   "metadata": {
    "executionInfo": {
     "elapsed": 57,
     "status": "ok",
     "timestamp": 1747317412462,
     "user": {
      "displayName": "Yabanhito Narwoikie",
      "userId": "03656859950307606706"
     },
     "user_tz": -390
    },
    "id": "oWoTNNkHAOOo"
   },
   "outputs": [],
   "source": [
    "def add_distance_to_nearest_zones_above_below(zones, threshold=0.1):\n",
    "    \"\"\"\n",
    "    Adds the nearest zone above and below the current zone based on mid-price distance.\n",
    "    Each zone must have: 'zone_high', 'zone_low', 'type', and either 'index' or 'start_index'.\n",
    "    \"\"\"\n",
    "    updated_zones = []\n",
    "\n",
    "    for i, zone in enumerate(zones):\n",
    "        this_mid = (zone['zone_high'] + zone['zone_low']) / 2\n",
    "\n",
    "        if zone['type'] in ['Sell-Side Liq','Buy-Side Liq']:\n",
    "          for index in zone['touch_indexs']:\n",
    "\n",
    "            min_dist_above = float('inf')\n",
    "            min_dist_below = float('inf')\n",
    "\n",
    "            nearest_above_type = None\n",
    "            nearest_below_type = None\n",
    "            nearest_above_zone = None\n",
    "            nearest_below_zone = None\n",
    "            nearest_above_index = None\n",
    "            nearest_below_index = None\n",
    "            h1=None\n",
    "            h2=None\n",
    "            l1=None\n",
    "            l2=None\n",
    "\n",
    "            valid_zones = [\n",
    "        z for z in zones\n",
    "        if z.get('touch_index') is None or z.get('touch_index') > index or (z.get('swept_index',0) > index)\n",
    "    ]\n",
    "\n",
    "\n",
    "            for j, other in enumerate(valid_zones):\n",
    "                if i == j:\n",
    "                    continue\n",
    "\n",
    "                other_mid = (other['zone_high'] + other['zone_low']) / 2\n",
    "                dist = abs(this_mid - other_mid)\n",
    "                if dist > (this_mid * threshold):\n",
    "                    continue\n",
    "\n",
    "                if other_mid > this_mid and dist < min_dist_above:\n",
    "                    min_dist_above = dist\n",
    "                    nearest_above_zone = other\n",
    "\n",
    "                elif other_mid < this_mid and dist < min_dist_below:\n",
    "                    min_dist_below = dist\n",
    "                    nearest_below_zone = other\n",
    "\n",
    "            updated = zone.copy()\n",
    "            updated['distance_to_nearest_zone_above'] = min_dist_above\n",
    "            updated['nearest_zone_above'] = nearest_above_zone\n",
    "\n",
    "            updated['distance_to_nearest_zone_below'] = min_dist_below\n",
    "            updated['nearest_zone_below'] = nearest_below_zone\n",
    "            updated['liq_touch_idx'] = index\n",
    "\n",
    "            #updated['valid_zones'] = valid_zones\n",
    "\n",
    "            updated_zones.append(updated)\n",
    "\n",
    "        else:\n",
    "\n",
    "          min_dist_above = float('inf')\n",
    "          min_dist_below = float('inf')\n",
    "\n",
    "          nearest_above_type = None\n",
    "          nearest_below_type = None\n",
    "          nearest_above_zone = None\n",
    "          nearest_below_zone = None\n",
    "          nearest_above_index = None\n",
    "          nearest_below_index = None\n",
    "          h1=None\n",
    "          h2=None\n",
    "          l1=None\n",
    "          l2=None\n",
    "\n",
    "          valid_zones = [\n",
    "      z for z in zones\n",
    "      if z.get('touch_index') is None or z.get('touch_index') > zone.get('index', 0) or (z.get('swept_index',0) > zone.get('index',0))\n",
    "  ]\n",
    "\n",
    "\n",
    "          for j, other in enumerate(valid_zones):\n",
    "              if i == j:\n",
    "                  continue\n",
    "\n",
    "              other_mid = (other['zone_high'] + other['zone_low']) / 2\n",
    "              dist = abs(this_mid - other_mid)\n",
    "              if dist > (this_mid * threshold):\n",
    "                  continue\n",
    "\n",
    "              if other_mid > this_mid and dist < min_dist_above:\n",
    "                  min_dist_above = dist\n",
    "                  nearest_above_zone = other\n",
    "\n",
    "              elif other_mid < this_mid and dist < min_dist_below:\n",
    "                  min_dist_below = dist\n",
    "                  nearest_below_zone = other\n",
    "\n",
    "          updated = zone.copy()\n",
    "          updated['distance_to_nearest_zone_above'] = min_dist_above\n",
    "          updated['nearest_zone_above'] = nearest_above_zone\n",
    "\n",
    "          updated['distance_to_nearest_zone_below'] = min_dist_below\n",
    "          updated['nearest_zone_below'] = nearest_below_zone\n",
    "\n",
    "          #updated['valid_zones'] = valid_zones\n",
    "\n",
    "          updated_zones.append(updated)\n",
    "\n",
    "    return updated_zones\n"
   ]
  },
  {
   "cell_type": "code",
   "execution_count": null,
   "metadata": {
    "id": "-PgSzHagAOOp"
   },
   "outputs": [],
   "source": [
    "fvg_1h = detect_fvg(df)\n",
    "ob_1h = detect_order_blocks(df,0.3)\n",
    "swings = detect_swings(df,15)\n",
    "liq_1h = detect_liquidity_zones(df,swings)\n",
    "liq_1h = get_liq_touches(df,liq_1h)\n",
    "fvg_4h = detect_fvg(df_4h,timeframe='4h')\n",
    "ob_4h = detect_order_blocks(df_4h,0.3,'4h')\n",
    "swings_4h = detect_swings(df_4h,15)\n",
    "liq_4h = detect_liquidity_zones(df_4h,swings_4h,timeframe='4h')\n",
    "liq_4h = get_liq_touches(df_4h,liq_4h)\n",
    "fvg_1d = detect_fvg(df_1d,timeframe='1D')\n",
    "ob_1d = detect_order_blocks(df_1d,0.3,'1D')\n",
    "swings_1d = detect_swings(df_1d,15)\n",
    "liq_1d = detect_liquidity_zones(df_1d,swings_1d,timeframe='1D')\n",
    "liq_1d = get_liq_touches(df_1d,liq_1d)"
   ]
  },
  {
   "cell_type": "code",
   "execution_count": null,
   "metadata": {},
   "outputs": [],
   "source": [
    "for fvg in fvg_4h + ob_4h:\n",
    "    if fvg.get('index') is not None:\n",
    "        fvg['index'] = fvg['index'] * 4\n",
    "    if fvg.get('touch_index') is not None:\n",
    "        fvg['touch_index'] = fvg['touch_index'] * 4\n",
    "\n",
    "for fvg in fvg_1d + ob_1d:\n",
    "    if fvg.get('index') is not None:\n",
    "        fvg['index'] = fvg['index'] * 24\n",
    "    if fvg.get('touch_index') is not None:\n",
    "        fvg['touch_index'] = fvg['touch_index'] * 24\n",
    "\n",
    "for liq in liq_4h:\n",
    "    if liq.get('index') is not None:\n",
    "        liq['index'] = liq['index'] * 4\n",
    "    if liq.get('swept_index') is not None:\n",
    "        liq['swept_index'] = liq['swept_index'] * 4\n",
    "    if liq.get('end_index') is not None:\n",
    "        liq['end_index'] = liq['end_index'] * 4\n",
    "    if liq.get('touch_indexs') is not None:\n",
    "        liq['touch_indexs'] = [i * 4 for i in liq['touch_indexs'] if i is not None]\n",
    "\n",
    "for liq in liq_1d:\n",
    "    if liq.get('index') is not None:\n",
    "        liq['index'] = liq['index'] * 24\n",
    "    if liq.get('swept_index') is not None:\n",
    "        liq['swept_index'] = liq['swept_index'] * 24\n",
    "    if liq.get('end_index') is not None:\n",
    "        liq['end_index'] = liq['end_index'] * 24\n",
    "    if liq.get('touch_indexs') is not None:\n",
    "        liq['touch_indexs'] = [i * 24 for i in liq['touch_indexs'] if i is not None]\n"
   ]
  },
  {
   "cell_type": "code",
   "execution_count": null,
   "metadata": {},
   "outputs": [],
   "source": [
    "class ZoneMerger:\n",
    "    def __init__(self, zones, threshold=0.002):\n",
    "        self.zones = zones\n",
    "        self.threshold = threshold\n",
    "\n",
    "    def merge(self):\n",
    "            merged = []\n",
    "            used = set()\n",
    "\n",
    "            for i, zone in enumerate(self.zones):\n",
    "                if i in used:\n",
    "                    continue\n",
    "\n",
    "                group = [zone]\n",
    "                used.add(i)\n",
    "\n",
    "                z_high = zone['zone_high'] * (1 + self.threshold)\n",
    "                z_low = zone['zone_low'] * (1 - self.threshold)\n",
    "\n",
    "                for j, other in enumerate(self.zones):\n",
    "                    if j in used or i == j:\n",
    "                        continue\n",
    "\n",
    "                    other_high = other['zone_high'] * (1 + self.threshold)\n",
    "                    other_low = other['zone_low'] * (1 - self.threshold)\n",
    "\n",
    "                    # Check if zones overlap\n",
    "                    if (\n",
    "                        (other_low <= z_high and other_high >= z_high) or\n",
    "                        (other_high >= z_low and other_low <= z_low) or\n",
    "                        (other_low >= z_low and other_high <= z_high) or\n",
    "                        (other_low <= z_low and other_high >= z_high)\n",
    "                    ):\n",
    "                        group.append(other)\n",
    "                        used.add(j)\n",
    "\n",
    "                        # Expand merged zone bounds\n",
    "                        z_high = max(z_high, other['zone_high'] * (1 + self.threshold))\n",
    "                        z_low = min(z_low, other['zone_low'] * (1 - self.threshold))\n",
    "\n",
    "                # Merge metadata\n",
    "                merged_zone = {\n",
    "                    'zone_high': max(z['zone_high'] for z in group),\n",
    "                    'zone_low': min(z['zone_low'] for z in group),\n",
    "                    'zone_width': max(z['zone_high'] for z in group) - min(z['zone_low'] for z in group),\n",
    "                    'types': list(set(z['type'] for z in group)),\n",
    "                    'timeframes': list(set(z['time_frame'] for z in group)),\n",
    "                    'count': len(group),\n",
    "                    'sources': group\n",
    "                }\n",
    "\n",
    "                merged.append(merged_zone)\n",
    "\n",
    "            return merged\n"
   ]
  },
  {
   "cell_type": "code",
   "execution_count": null,
   "metadata": {},
   "outputs": [],
   "source": [
    "all_zones = fvg_1h+ob_1h+liq_1h + fvg_4h+ob_4h+liq_4h+fvg_1d+ob_1d+liq_1d\n",
    "zm = ZoneMerger(all_zones)\n",
    "result = zm.merge()"
   ]
  },
  {
   "cell_type": "code",
   "execution_count": null,
   "metadata": {},
   "outputs": [],
   "source": [
    "result[0]"
   ]
  },
  {
   "cell_type": "code",
   "execution_count": null,
   "metadata": {
    "id": "xWktstwF3rvi"
   },
   "outputs": [],
   "source": [
    "all_zones = fvg+ob+liq\n",
    "all_zones = add_distance_to_nearest_zones_above_below(all_zones)"
   ]
  },
  {
   "cell_type": "code",
   "execution_count": null,
   "metadata": {
    "id": "id3d7t1A4Cis"
   },
   "outputs": [],
   "source": [
    "all_zones = sorted(all_zones,key = lambda x : x['index'])"
   ]
  },
  {
   "cell_type": "code",
   "execution_count": null,
   "metadata": {
    "colab": {
     "base_uri": "https://localhost:8080/"
    },
    "executionInfo": {
     "elapsed": 8,
     "status": "ok",
     "timestamp": 1747284911164,
     "user": {
      "displayName": "Yabanhito Narwoikie",
      "userId": "03656859950307606706"
     },
     "user_tz": 420
    },
    "id": "Pesvbr3m_STO",
    "outputId": "0290b07d-f823-4433-f91c-5019f893ecd4"
   },
   "outputs": [],
   "source": [
    "all_zones[-1]"
   ]
  },
  {
   "cell_type": "code",
   "execution_count": null,
   "metadata": {
    "id": "EmGrsUaNAOOp"
   },
   "outputs": [],
   "source": [
    "all_zones_reactions = check_fvg_reactions(df,fvg) + check_ob_reactions(df,ob) + check_liquidity_reactions_on_touches(df,liq)"
   ]
  },
  {
   "cell_type": "code",
   "execution_count": null,
   "metadata": {
    "colab": {
     "base_uri": "https://localhost:8080/"
    },
    "executionInfo": {
     "elapsed": 841,
     "status": "ok",
     "timestamp": 1747109977221,
     "user": {
      "displayName": "Yabanhito Narwoikie",
      "userId": "03656859950307606706"
     },
     "user_tz": 420
    },
    "id": "lbPMf8YoAOOq",
    "outputId": "59fc7ea8-258e-4824-d0fb-6e318b8ebc80"
   },
   "outputs": [],
   "source": [
    "all_zones_reactions = add_distance_to_nearest_zones_above_below(all_zones_reactions)"
   ]
  },
  {
   "cell_type": "code",
   "execution_count": null,
   "metadata": {
    "colab": {
     "base_uri": "https://localhost:8080/",
     "height": 342
    },
    "executionInfo": {
     "elapsed": 128,
     "status": "ok",
     "timestamp": 1747110212246,
     "user": {
      "displayName": "Yabanhito Narwoikie",
      "userId": "03656859950307606706"
     },
     "user_tz": 420
    },
    "id": "xWe9Nk-DAOOr",
    "outputId": "ff805fa3-3c85-4240-e7b6-84c5c2d0fa2d"
   },
   "outputs": [],
   "source": [
    "df_zone_reaction = pd.DataFrame(all_zones_reactions)\n",
    "df_zone_reaction.head()"
   ]
  },
  {
   "cell_type": "code",
   "execution_count": null,
   "metadata": {
    "colab": {
     "base_uri": "https://localhost:8080/"
    },
    "executionInfo": {
     "elapsed": 67,
     "status": "ok",
     "timestamp": 1747110340776,
     "user": {
      "displayName": "Yabanhito Narwoikie",
      "userId": "03656859950307606706"
     },
     "user_tz": 420
    },
    "id": "oLyIjol04Wr9",
    "outputId": "b1a2a0d4-13e2-45f1-fb7b-8bc1340ca53e"
   },
   "outputs": [],
   "source": [
    "df_zone_reaction.columns"
   ]
  },
  {
   "cell_type": "code",
   "execution_count": null,
   "metadata": {
    "colab": {
     "base_uri": "https://localhost:8080/",
     "height": 373
    },
    "executionInfo": {
     "elapsed": 98,
     "status": "error",
     "timestamp": 1747110316116,
     "user": {
      "displayName": "Yabanhito Narwoikie",
      "userId": "03656859950307606706"
     },
     "user_tz": 420
    },
    "id": "BoiQXgM-AOOs",
    "outputId": "72056885-1dfa-4701-c80d-1be2c63d7539"
   },
   "outputs": [],
   "source": [
    "df_zone_reaction = df_zone_reaction.drop(columns=['entered',\n",
    "'partial_mitigated',\n",
    "'bounced',\n",
    "'violated',\n",
    "'price_retrace_ratio',\n",
    "'bounce_after_candles',\n",
    "'violated_after_candles','violated_after_candle','liquidity_height','avg_swing_strength',\n",
    "'max_price_move'])"
   ]
  },
  {
   "cell_type": "code",
   "execution_count": null,
   "metadata": {
    "id": "-rbJaWQdAOOs"
   },
   "outputs": [],
   "source": [
    "df_zone_reaction.loc[df_zone_reaction['start_index'].notna(),'index'] = df_zone_reaction.loc[df_zone_reaction['start_index'].notna(),'index'].fillna(df_zone_reaction['start_index'])"
   ]
  },
  {
   "cell_type": "code",
   "execution_count": null,
   "metadata": {
    "id": "n-HpshdWAOOs"
   },
   "outputs": [],
   "source": [
    "df_zone_reaction = df_zone_reaction.drop(columns=['start_index','end_index','swept_index','count','touch_count'])"
   ]
  },
  {
   "cell_type": "code",
   "execution_count": null,
   "metadata": {
    "id": "jIBddS_nAOOs"
   },
   "outputs": [],
   "source": [
    "def flatten_zone_reaction_row(row):\n",
    "    \"\"\"\n",
    "    Flattens a single liquidity zone row into multiple rows based on touches.\n",
    "\n",
    "    Args:\n",
    "        row (pd.Series): A row from a DataFrame containing a 'touches' column with list of dicts.\n",
    "\n",
    "    Returns:\n",
    "        List of dicts (flattened rows).\n",
    "    \"\"\"\n",
    "    flattened = []\n",
    "\n",
    "    touches = row.get('touches', [])\n",
    "    if not isinstance(touches, list) or len(touches) == 0:\n",
    "        # Return the row as-is with no touch-specific data\n",
    "        base = row.drop(labels='touches').to_dict()\n",
    "        flattened.append(base)\n",
    "        return flattened\n",
    "\n",
    "    for touch in touches:\n",
    "        base = row.drop(labels='touches').to_dict()\n",
    "        base['reaction_type'] = touch.get('reaction_type')\n",
    "        base['time_to_entry'] = touch.get('time_to_entry')\n",
    "        base['volume_on_entry'] = touch.get('touch_volume')\n",
    "        flattened.append(base)\n",
    "\n",
    "    return flattened\n",
    "\n",
    "def flatten_reaction_dataframe(df):\n",
    "    \"\"\"\n",
    "    Apply flatten_liquidity_row to each row and combine all into a new flattened DataFrame.\n",
    "    \"\"\"\n",
    "    all_rows = []\n",
    "    for _, row in df.iterrows():\n",
    "        flattened_rows = flatten_zone_reaction_row(row)\n",
    "        all_rows.extend(flattened_rows)\n",
    "    return pd.DataFrame(all_rows)\n"
   ]
  },
  {
   "cell_type": "code",
   "execution_count": null,
   "metadata": {
    "id": "mpTQxe7vAOOt"
   },
   "outputs": [],
   "source": [
    "df_zone_reaction = flatten_reaction_dataframe(df_zone_reaction)"
   ]
  },
  {
   "cell_type": "code",
   "execution_count": null,
   "metadata": {
    "id": "3JudR_eaAOOt"
   },
   "outputs": [],
   "source": [
    "df_zone_reaction['level'] = df_zone_reaction['level'].fillna((df_zone_reaction['zone_high']+df_zone_reaction['zone_low'])/2)\n",
    "df_zone_reaction['zone_width'] = df_zone_reaction['zone_width'].fillna(0)\n",
    "df_zone_reaction['body_size'] = df_zone_reaction['body_size'].fillna(0)\n",
    "df_zone_reaction['wick_ratio'] = df_zone_reaction['wick_ratio'].fillna(0)\n",
    "df_zone_reaction['volume_on_creation'] = df_zone_reaction['volume_on_creation'].fillna(0)\n",
    "df_zone_reaction['avg_volume_past_5'] = df_zone_reaction['avg_volume_past_5'].fillna(0)\n",
    "df_zone_reaction['prev_volatility_5'] = df_zone_reaction['prev_volatility_5'].fillna(0)\n",
    "df_zone_reaction['momentum_5'] = df_zone_reaction['momentum_5'].fillna(0)\n",
    "df_zone_reaction['avg_volume_around_zone'] = df_zone_reaction['avg_volume_around_zone'].fillna(0)\n",
    "df_zone_reaction['equal_level_deviation'] = df_zone_reaction['equal_level_deviation'].fillna(0)\n",
    "df_zone_reaction['duration_between_first_last_touch'] = df_zone_reaction['duration_between_first_last_touch'].fillna(0)"
   ]
  },
  {
   "cell_type": "code",
   "execution_count": null,
   "metadata": {
    "id": "DYBemBF3AOOt",
    "outputId": "a3f4a522-cc79-4913-8d21-3c51b8566bca"
   },
   "outputs": [],
   "source": [
    "df_zone_reaction['type'].unique()"
   ]
  },
  {
   "cell_type": "code",
   "execution_count": null,
   "metadata": {
    "id": "vOMqj8sLAOOt"
   },
   "outputs": [],
   "source": [
    "df_zone_reaction.to_csv('reactions.csv',index=False)"
   ]
  },
  {
   "cell_type": "code",
   "execution_count": null,
   "metadata": {
    "colab": {
     "base_uri": "https://localhost:8080/",
     "height": 300
    },
    "executionInfo": {
     "elapsed": 123,
     "status": "ok",
     "timestamp": 1746810630950,
     "user": {
      "displayName": "Yabanhito Narwoikie",
      "userId": "03656859950307606706"
     },
     "user_tz": 420
    },
    "id": "JEXvMuItAOOu",
    "outputId": "6df58099-10c0-4a77-ed20-9054a13cae5f"
   },
   "outputs": [],
   "source": [
    "df_zone_reaction.describe()"
   ]
  },
  {
   "cell_type": "code",
   "execution_count": null,
   "metadata": {
    "colab": {
     "base_uri": "https://localhost:8080/",
     "height": 743
    },
    "executionInfo": {
     "elapsed": 19,
     "status": "ok",
     "timestamp": 1747110356381,
     "user": {
      "displayName": "Yabanhito Narwoikie",
      "userId": "03656859950307606706"
     },
     "user_tz": 420
    },
    "id": "oOgwSYFYAOOu",
    "outputId": "39bae00a-2443-4050-ca98-75e136b78288"
   },
   "outputs": [],
   "source": [
    "df_zone_reaction.notna().sum()"
   ]
  },
  {
   "cell_type": "code",
   "execution_count": null,
   "metadata": {
    "id": "9QoE0RrrAOOu"
   },
   "outputs": [],
   "source": [
    "df_zone_reaction= df_zone_reaction.dropna()"
   ]
  },
  {
   "cell_type": "code",
   "execution_count": null,
   "metadata": {
    "id": "7KHUaiv5FpJ5"
   },
   "outputs": [],
   "source": [
    "df_ob_fvg_reaction = df_zone_reaction.loc[~df_zone_reaction['type'].isin(['Buy-Side Liq','Sell-Side Liq'])]\n",
    "df_liq_reaction = df_zone_reaction.loc[df_zone_reaction['type'] .isin(['Buy-Sidde Liq','Sell-Side Liq'])]"
   ]
  },
  {
   "cell_type": "code",
   "execution_count": null,
   "metadata": {
    "id": "asfQWph4AOOv"
   },
   "outputs": [],
   "source": [
    "reaction_type1 = list(df_ob_fvg_reaction.reaction_type.unique())\n",
    "reaction_type2 = list(df_liq_reaction.reaction_type.unique())\n",
    "zone_type = list(df_zone_reaction['type'].unique())"
   ]
  },
  {
   "cell_type": "code",
   "execution_count": null,
   "metadata": {
    "colab": {
     "base_uri": "https://localhost:8080/"
    },
    "executionInfo": {
     "elapsed": 21,
     "status": "ok",
     "timestamp": 1747110380190,
     "user": {
      "displayName": "Yabanhito Narwoikie",
      "userId": "03656859950307606706"
     },
     "user_tz": 420
    },
    "id": "R7BuRhSVAOOv",
    "outputId": "b7a26660-c068-4ff9-909f-96dcfe87b91a"
   },
   "outputs": [],
   "source": [
    "df_ob_fvg_reaction['type'] = df_ob_fvg_reaction['type'].apply(lambda x : zone_type.index(x))\n",
    "df_ob_fvg_reaction['nearest_zone_type'] = df_ob_fvg_reaction['nearest_zone_type'].apply(lambda x : zone_type.index(x))\n",
    "df_liq_reaction['type'] = df_liq_reaction['type'].apply(lambda x : zone_type.index(x))\n",
    "df_liq_reaction['nearest_zone_type'] = df_liq_reaction['nearest_zone_type'].apply(lambda x : zone_type.index(x))\n",
    "\n"
   ]
  },
  {
   "cell_type": "code",
   "execution_count": null,
   "metadata": {
    "colab": {
     "base_uri": "https://localhost:8080/"
    },
    "executionInfo": {
     "elapsed": 59,
     "status": "ok",
     "timestamp": 1747110383414,
     "user": {
      "displayName": "Yabanhito Narwoikie",
      "userId": "03656859950307606706"
     },
     "user_tz": 420
    },
    "id": "6PeQ4rxQAOOv",
    "outputId": "8384e3e7-7e6e-4bdb-d7fb-4f3ce4690c9a"
   },
   "outputs": [],
   "source": [
    "df_ob_fvg_reaction['reaction_type'] = df_ob_fvg_reaction['reaction_type'].apply(lambda x : reaction_type1.index(x))\n",
    "df_liq_reaction['reaction_type'] = df_liq_reaction['reaction_type'].apply(lambda x : reaction_type2.index(x))"
   ]
  },
  {
   "cell_type": "code",
   "execution_count": null,
   "metadata": {
    "colab": {
     "base_uri": "https://localhost:8080/",
     "height": 743
    },
    "executionInfo": {
     "elapsed": 55,
     "status": "ok",
     "timestamp": 1747110387384,
     "user": {
      "displayName": "Yabanhito Narwoikie",
      "userId": "03656859950307606706"
     },
     "user_tz": 420
    },
    "id": "txic68vgAOOw",
    "outputId": "462a5eae-d5ee-4afc-f5fe-b0b595fe93cb"
   },
   "outputs": [],
   "source": [
    "df_zone_reaction.dtypes"
   ]
  },
  {
   "cell_type": "code",
   "execution_count": null,
   "metadata": {
    "id": "ufDfjD-uAOOw"
   },
   "outputs": [],
   "source": [
    "X1 = df_liq_reaction.drop(columns=['reaction_type','nearest_zone_index','index','zone_high','zone_low','duration_between_first_last_touch'])\n",
    "Y1 = df_liq_reaction['reaction_type']\n",
    "X2 = df_ob_fvg_reaction.drop(columns=['reaction_type','nearest_zone_index','index','zone_high','zone_low','duration_between_first_last_touch'])\n",
    "Y2 = df_ob_fvg_reaction['reaction_type']"
   ]
  },
  {
   "cell_type": "code",
   "execution_count": null,
   "metadata": {
    "id": "K7x3wGN3HhOz"
   },
   "outputs": [],
   "source": [
    "from sklearn.model_selection import train_test_split\n",
    "\n",
    "train_x1,val_x1,train_y1,val_y1 = train_test_split(X1,Y1,test_size=0.7)\n",
    "train_x2,val_x2,train_y2,val_y2 = train_test_split(X2,Y2,test_size=0.7)"
   ]
  },
  {
   "cell_type": "code",
   "execution_count": null,
   "metadata": {
    "colab": {
     "base_uri": "https://localhost:8080/",
     "height": 393
    },
    "executionInfo": {
     "elapsed": 1747,
     "status": "ok",
     "timestamp": 1747110440943,
     "user": {
      "displayName": "Yabanhito Narwoikie",
      "userId": "03656859950307606706"
     },
     "user_tz": 420
    },
    "id": "brM12-HuHyzQ",
    "outputId": "81382e39-6776-4dc9-ba17-e697fe2447a9"
   },
   "outputs": [],
   "source": [
    "from xgboost import XGBClassifier\n",
    "\n",
    "liq_model = XGBClassifier(\n",
    "    n_estimators=150,\n",
    "    max_depth=6,\n",
    "    learning_rate=0.05,\n",
    "    random_state=42,\n",
    "    use_label_encoder=False,\n",
    "    eval_metric='logloss'\n",
    ")\n",
    "ob_fvg_model = XGBClassifier(\n",
    "    n_estimators=150,\n",
    "    max_depth=6,\n",
    "    learning_rate=0.05,\n",
    "    random_state=42,\n",
    "    use_label_encoder=False,\n",
    "    eval_metric='logloss'\n",
    ")\n",
    "liq_model.fit(train_x1, train_y1)\n",
    "ob_fvg_model.fit(train_x2,train_y2)"
   ]
  },
  {
   "cell_type": "code",
   "execution_count": null,
   "metadata": {
    "colab": {
     "base_uri": "https://localhost:8080/"
    },
    "executionInfo": {
     "elapsed": 77,
     "status": "ok",
     "timestamp": 1747110444663,
     "user": {
      "displayName": "Yabanhito Narwoikie",
      "userId": "03656859950307606706"
     },
     "user_tz": 420
    },
    "id": "JxOPZunAILDy",
    "outputId": "7d133daf-62b2-4c24-a575-06e4a1af428b"
   },
   "outputs": [],
   "source": [
    "from sklearn.metrics import classification_report, confusion_matrix, roc_auc_score\n",
    "\n",
    "# After training\n",
    "y_pred1 = liq_model.predict(val_x1)\n",
    "y_pred2 = ob_fvg_model.predict(val_x2)\n",
    "\n",
    "print(classification_report(val_y1, y_pred1))\n",
    "print(classification_report(val_y2, y_pred2))\n"
   ]
  },
  {
   "cell_type": "code",
   "execution_count": null,
   "metadata": {
    "colab": {
     "base_uri": "https://localhost:8080/"
    },
    "executionInfo": {
     "elapsed": 10,
     "status": "ok",
     "timestamp": 1746812627924,
     "user": {
      "displayName": "Yabanhito Narwoikie",
      "userId": "03656859950307606706"
     },
     "user_tz": 420
    },
    "id": "cv6xyldRJG2Y",
    "outputId": "d6e12de6-960c-4366-84ed-dd2d94f4e2f2"
   },
   "outputs": [],
   "source": [
    "print(X2.columns)\n",
    "print(X1.columns)"
   ]
  },
  {
   "cell_type": "code",
   "execution_count": null,
   "metadata": {
    "id": "NPAmgjxKAOOw"
   },
   "outputs": [],
   "source": [
    "def label_direction_based_on_zone_touch(df, fvg, ob, liq,  threshold=0.25):\n",
    "    labels = []\n",
    "    df = df.reset_index(drop=True)\n",
    "    n = len(df)\n",
    "\n",
    "    all_zones = []\n",
    "\n",
    "    for zone_list, zone_type in [(fvg, 'FVG'), (ob, 'OB'), (liq, 'LIQ')]:\n",
    "        for z in zone_list:\n",
    "            if 'zone_high' not in z:\n",
    "                z['zone_high'] = z.get('zone_high', z.get('Price', 0) + 0.001)\n",
    "            if 'zone_low' not in z:\n",
    "                z['zone_low'] = z.get('zone_low', z.get('Price', 0) - 0.001)\n",
    "            z['zone_type'] = zone_type if not (zone_type== 'Swing') else z['Type']\n",
    "            z['mid_price'] = (z['zone_high'] + z['zone_low']) / 2\n",
    "            z['index'] = z.get('index', z.get('start_index'))\n",
    "            if z['index'] is not None:\n",
    "                all_zones.append(z)\n",
    "\n",
    "    used_indx = set()\n",
    "    i = 0\n",
    "    while i < n:\n",
    "        print(f\"Processing candle {i+1}/{n}\", end='\\r')\n",
    "        curr_price = df.loc[i, 'close']\n",
    "\n",
    "        # Filter past zones once per i\n",
    "        past_zones = [\n",
    "            z for z in all_zones\n",
    "            if z['index'] < i and (z['zone_high'], z['zone_low'], z['zone_type']) not in used_indx\n",
    "            and abs(z['mid_price'] - curr_price) < curr_price*threshold\n",
    "            or (z['zone_type'] == 'LIQ' and not z['swept_index']==None and z['swept_index']>i and z['index'] < i and abs(z['mid_price'] - curr_price) < curr_price*threshold)\n",
    "        ]\n",
    "\n",
    "        if not past_zones:\n",
    "            labels.append({\n",
    "                'index': i,\n",
    "                'candle detail': df.iloc[i].to_dict(),\n",
    "                'direction': None,\n",
    "                'touched_index' : None,\n",
    "                'touched_zone_type': None,\n",
    "                'target_zone_index': None,\n",
    "                'zone_detail' : None,\n",
    "                'past_zones' : None\n",
    "            })\n",
    "            i += 1\n",
    "            continue\n",
    "\n",
    "        touched_zone = None\n",
    "        touched_index = None\n",
    "\n",
    "        for zone in past_zones:\n",
    "            z_high = zone['zone_high']\n",
    "            z_low = zone['zone_low']\n",
    "\n",
    "            # Use slicing and vectorized comparison instead of for-loop\n",
    "            future_slice = df.iloc[i+1:]\n",
    "            condition = ((future_slice['low'] <= z_high) & (future_slice['open'] > z_high)) | ((future_slice['open'] < z_low) & (future_slice['high'] >= z_low))\n",
    "            match = future_slice[condition]\n",
    "\n",
    "            if not match.empty:\n",
    "                touched_index = match.index[0]\n",
    "                touched_zone = zone\n",
    "                if(touched_zone['zone_type'] in ['FVG','Swing High','Swing Low','OB']):\n",
    "                    used_indx.add((zone['zone_high'], zone['zone_low'], zone['zone_type']))\n",
    "\n",
    "\n",
    "        if touched_zone and touched_index:\n",
    "            price_slice = df.loc[i:touched_index - 1].copy()\n",
    "            zone_mid = touched_zone['mid_price']\n",
    "            direction_series = np.where(zone_mid > price_slice['close'], 'long', 'short')\n",
    "\n",
    "            # Build labels all at once\n",
    "            for j, (idx, row) in enumerate(price_slice.iterrows()):\n",
    "                labels.append({\n",
    "                    'index': idx,\n",
    "                    'candle detail': row.to_dict(),\n",
    "                    'direction': direction_series[j],\n",
    "                    'touched_index' : touched_index,\n",
    "                    'touched_zone_type': touched_zone['zone_type'],\n",
    "                    'target_zone_index': touched_zone['index'],\n",
    "                    'zone_detail' : touched_zone,\n",
    "                    'past_zones' : past_zones\n",
    "                })\n",
    "\n",
    "            # Advance i\n",
    "            i = touched_index + 1  # skip to after the touch\n",
    "        else:\n",
    "            labels.append({\n",
    "                'index': i,\n",
    "                'candle detail': df.iloc[i].to_dict(),\n",
    "                'direction': 'none',\n",
    "                'touched_index' : None,\n",
    "                'touched_zone_type': None,\n",
    "                'target_zone_index': None,\n",
    "                'zone_detail' : None,\n",
    "                'past_zones' : past_zones\n",
    "            })\n",
    "            i += 1\n",
    "\n",
    "    return labels\n"
   ]
  },
  {
   "cell_type": "code",
   "execution_count": null,
   "metadata": {
    "id": "Q3kH3qvgAOOx"
   },
   "outputs": [],
   "source": [
    "labels = label_direction_based_on_zone_touch(df,fvg,ob,liq,threshold=0.1)"
   ]
  },
  {
   "cell_type": "code",
   "execution_count": null,
   "metadata": {
    "id": "VmcQFVJfAOOx"
   },
   "outputs": [],
   "source": [
    "# Assuming 'labels' is the result from your function\n",
    "df_labels = pd.DataFrame(labels)\n",
    "# Expand 'candle detail'\n",
    "candle_df = pd.json_normalize(df_labels['candle detail'])\n",
    "\n",
    "# Expand 'touched_zone_detail'\n",
    "zone_df = pd.json_normalize(df_labels['zone_detail'])\n",
    "\n",
    "# Combine with top-level fields\n",
    "df_final = pd.concat([df_labels.drop(columns=['candle detail', 'zone_detail']),\n",
    "                      candle_df.add_prefix('candle_'),\n",
    "                      zone_df.add_prefix('zone_')],\n",
    "                     axis=1)\n"
   ]
  },
  {
   "cell_type": "code",
   "execution_count": null,
   "metadata": {
    "id": "15jR3EDTAOOx"
   },
   "outputs": [],
   "source": [
    "candle_df.head()"
   ]
  },
  {
   "cell_type": "code",
   "execution_count": null,
   "metadata": {
    "id": "o7PIREaAAOOy"
   },
   "outputs": [],
   "source": [
    "df_final.head(10)"
   ]
  },
  {
   "cell_type": "code",
   "execution_count": null,
   "metadata": {
    "id": "RplrxRCwAOOy"
   },
   "outputs": [],
   "source": [
    "df_final.to_csv('direction_1h.csv',index= False)"
   ]
  },
  {
   "cell_type": "code",
   "execution_count": null,
   "metadata": {
    "id": "9rlZZ3Y-AOOy"
   },
   "outputs": [],
   "source": [
    "def flatten_label_row(labeled_row):\n",
    "    flat_rows = []\n",
    "    current_index = labeled_row['index']\n",
    "    curr_price = labeled_row['candle detail']['close']\n",
    "    touched_zone = labeled_row.get('zone_detail')\n",
    "    past_zones = labeled_row.get('past_zones',[])\n",
    "    if not past_zones:\n",
    "        return []\n",
    "\n",
    "    for zone in labeled_row['past_zones']:\n",
    "        flat_row = {\n",
    "            'candle_index': current_index,\n",
    "            'zone_index': zone.get('index',None),\n",
    "            'zone_type': zone.get('zone_type',None),\n",
    "            'zone_mid_price': float(zone['mid_price']),\n",
    "            'zone_high': float(zone['zone_high']),\n",
    "            'zone_low': float(zone['zone_low']),\n",
    "            'zone_age': current_index - zone['index'],\n",
    "            'zone_range': float(zone['zone_high']) - float(zone['zone_low']),\n",
    "            'zone_mid_distance': abs(curr_price - float(zone['mid_price'])),\n",
    "            'price_above_zone': (curr_price > float(zone['zone_high'])),\n",
    "            'price_inside_zone': (float(zone['zone_low']) < curr_price < float(zone['zone_high'])),\n",
    "            'candle_close': curr_price,\n",
    "            'candle_open': labeled_row['candle detail']['open'],\n",
    "            'candle_high': labeled_row['candle detail']['high'],\n",
    "            'candle_low': labeled_row['candle detail']['low'],\n",
    "            'touched_index': labeled_row.get('touched_index'),\n",
    "            'is_target': (\n",
    "                touched_zone and\n",
    "                zone['index'] == touched_zone['index'] and\n",
    "                zone['zone_type'] == touched_zone['zone_type'] and\n",
    "                abs(zone['zone_high'] - touched_zone['zone_high']) < 1e-6 and\n",
    "                abs(zone['zone_low'] - touched_zone['zone_low']) < 1e-6\n",
    "            )\n",
    "        }\n",
    "\n",
    "        flat_rows.append(flat_row)\n",
    "\n",
    "    return flat_rows\n"
   ]
  },
  {
   "cell_type": "code",
   "execution_count": null,
   "metadata": {
    "id": "jIFobjWfAOOz"
   },
   "outputs": [],
   "source": [
    "def flatten_all_rows(labeled_data):\n",
    "    all_flat = []\n",
    "    for row in labeled_data:\n",
    "        all_flat.extend(flatten_label_row(row))\n",
    "    return pd.DataFrame(all_flat)\n"
   ]
  },
  {
   "cell_type": "code",
   "execution_count": null,
   "metadata": {
    "id": "N2v7J6ihAOOz"
   },
   "outputs": [],
   "source": [
    "df_past_zones = flatten_all_rows(labels)"
   ]
  },
  {
   "cell_type": "code",
   "execution_count": null,
   "metadata": {
    "id": "WpqwhkaUAOOz"
   },
   "outputs": [],
   "source": [
    "df_past_zones = pd.read_csv('past_zone.csv')"
   ]
  },
  {
   "cell_type": "code",
   "execution_count": null,
   "metadata": {
    "id": "YgyBifdAAOO0"
   },
   "outputs": [],
   "source": [
    "df_past_zones = df_past_zones.dropna()"
   ]
  },
  {
   "cell_type": "code",
   "execution_count": null,
   "metadata": {
    "id": "zZX_kYJsAOO0"
   },
   "outputs": [],
   "source": [
    "zone_type = list(df_past_zones['zone_type'].unique())\n",
    "is_target = list(df_past_zones['is_target'].unique())\n",
    "price_above_zone = list(df_past_zones['price_above_zone'].unique())\n",
    "prive_inside_zone = list(df_past_zones['price_inside_zone'].unique())"
   ]
  },
  {
   "cell_type": "code",
   "execution_count": null,
   "metadata": {
    "id": "g1s92_o-AOO1"
   },
   "outputs": [],
   "source": [
    "df_past_zones['zone_type'] = df_past_zones['zone_type'].apply(lambda x : zone_type.index(x))\n",
    "df_past_zones['is_target'] = df_past_zones['is_target'].apply(lambda x : is_target.index(x))\n",
    "df_past_zones['price_above_zone'] = df_past_zones['price_above_zone'].apply(lambda x : price_above_zone.index(x))\n",
    "df_past_zones['price_inside_zone'] = df_past_zones['price_inside_zone'].apply(lambda x : prive_inside_zone.index(x))"
   ]
  },
  {
   "cell_type": "code",
   "execution_count": null,
   "metadata": {
    "id": "-i-_9c9tAOO1"
   },
   "outputs": [],
   "source": [
    "df_past_zones.columns"
   ]
  },
  {
   "cell_type": "code",
   "execution_count": null,
   "metadata": {
    "id": "aSCeQ8MOAOO1"
   },
   "outputs": [],
   "source": [
    "df_past_zones.to_csv('past_zone.csv',index=False)"
   ]
  },
  {
   "cell_type": "code",
   "execution_count": null,
   "metadata": {
    "id": "8tl5Bp19AOO1"
   },
   "outputs": [],
   "source": [
    "df_swings = pd.DataFrame(swings)\n",
    "df_swings.to_csv('swings.csv',index=False)"
   ]
  },
  {
   "cell_type": "code",
   "execution_count": null,
   "metadata": {
    "id": "KRwWbM0sAOO2"
   },
   "outputs": [],
   "source": [
    "df_final.notna().sum()"
   ]
  },
  {
   "cell_type": "code",
   "execution_count": null,
   "metadata": {
    "id": "OGZlDW4SAOO2"
   },
   "outputs": [],
   "source": [
    "labels[10]"
   ]
  },
  {
   "cell_type": "code",
   "execution_count": null,
   "metadata": {
    "id": "DMOU4bo-AOO2"
   },
   "outputs": [],
   "source": [
    "for i in labels:\n",
    "    if i['index'] == 13670:\n",
    "        print(i)"
   ]
  },
  {
   "cell_type": "code",
   "execution_count": null,
   "metadata": {
    "id": "vMQY51qXAOO2"
   },
   "outputs": [],
   "source": [
    "fvg"
   ]
  },
  {
   "cell_type": "code",
   "execution_count": null,
   "metadata": {
    "id": "FY6yioZVAOO3"
   },
   "outputs": [],
   "source": [
    "print(labels)"
   ]
  },
  {
   "cell_type": "code",
   "execution_count": null,
   "metadata": {
    "id": "6C1fpmxXAOO3"
   },
   "outputs": [],
   "source": [
    "df_with_labels = df_1h.join(labels, how='left')\n"
   ]
  },
  {
   "cell_type": "code",
   "execution_count": null,
   "metadata": {
    "id": "Q6rlWwI9AOO4"
   },
   "outputs": [],
   "source": [
    "df.iloc[17254]"
   ]
  },
  {
   "cell_type": "markdown",
   "metadata": {
    "id": "k0Os0Z8LAOO4"
   },
   "source": [
    "Data Combination of SMC Elements"
   ]
  },
  {
   "cell_type": "code",
   "execution_count": null,
   "metadata": {
    "id": "P690Nq6lAOO4"
   },
   "outputs": [],
   "source": [
    "def smc_combine(df):\n",
    "    merged = df.copy()\n",
    "    merged = merged.reset_index(drop = True)\n",
    "    merged['index'] = merged.index  # ensure index column exists\n",
    "    fvg = detect_fvg(df)\n",
    "    #fvg = check_fvg_reactions(df,fvg)\n",
    "    ob = detect_order_blocks(df)\n",
    "    #ob = check_ob_reactions(df,ob)\n",
    "    swings = detect_swings(df,20)\n",
    "    labeled_swings = label_structure_from_swings(swings)\n",
    "    bos_choch=lookahead_bos_choch(labeled_swings,df,50)\n",
    "    liq = detect_liquidity_zones(df,swings)\n",
    "    #liq = check_liquidity_reactions(df,liq)\n",
    "\n",
    "    fvg_df = pd.DataFrame(fvg).set_index('index')\n",
    "    ob_df = pd.DataFrame(ob).set_index('index')\n",
    "    bos_choch_df = pd.DataFrame(bos_choch).set_index('trigger_candle')\n",
    "    labeled_swings_df = pd.DataFrame(labeled_swings).set_index('index')\n",
    "    liq_df = pd.DataFrame(liq).set_index('start_index')\n",
    "    merged = merged.merge(fvg_df, on='index', how='left', suffixes=('', '_fvg'))\n",
    "    merged = merged.merge(ob_df, on='index', how='left', suffixes=('', '_ob'))\n",
    "    merged = merged.merge(labeled_swings_df,on = 'index',how='left',suffixes=('','_swings'))\n",
    "    merged = merged.merge(bos_choch_df, on='index', how='left', suffixes=('', '_bos_choch'))\n",
    "    merged = merged.merge(liq_df, left_on='index', right_index=True, how='left', suffixes=('', '_liq'))\n",
    "    merged['timestamp'] = df.index\n",
    "    return merged"
   ]
  },
  {
   "cell_type": "code",
   "execution_count": null,
   "metadata": {
    "id": "fHyqjynCAOO4"
   },
   "outputs": [],
   "source": [
    "smc_15m = smc_combine(df)\n",
    "smc_1hr = smc_combine(df_1h)\n",
    "smc_4hr = smc_combine(df_4h)\n",
    "smc_1d = smc_combine(df_1d)"
   ]
  },
  {
   "cell_type": "code",
   "execution_count": null,
   "metadata": {
    "id": "dBVmemI2AOO5"
   },
   "outputs": [],
   "source": [
    "def add_htf_features(base_df,htf_df,prefix):\n",
    "    base_df = base_df.copy()\n",
    "    htf_df = htf_df.copy()\n",
    "    base_df = base_df.set_index('timestamp')\n",
    "    htf_df = htf_df.set_index('timestamp')\n",
    "    for feature in ['trend', 'fvg_high', 'fvg_low', 'ob_high', 'ob_low','level','swing_type']:\n",
    "        if feature in htf_df.columns:\n",
    "            base_df[f'{prefix}_{feature}'] = htf_df[feature].reindex(base_df.index, method='ffill')\n",
    "\n",
    "    return base_df.reset_index()"
   ]
  },
  {
   "cell_type": "code",
   "execution_count": null,
   "metadata": {
    "id": "zNE1J16LAOO5"
   },
   "outputs": [],
   "source": [
    "smc_15m = add_htf_features(smc_15m, smc_1hr, prefix='1h')\n",
    "smc_15m = add_htf_features(smc_15m,smc_4hr, prefix='4h')\n",
    "smc_15m = add_htf_features(smc_15m, smc_1d, prefix='1d')\n"
   ]
  },
  {
   "cell_type": "code",
   "execution_count": null,
   "metadata": {
    "id": "jfsKAI16AOO5"
   },
   "outputs": [],
   "source": [
    "smc_15m.tail()"
   ]
  },
  {
   "cell_type": "code",
   "execution_count": null,
   "metadata": {
    "id": "bsShZX8XAOO5"
   },
   "outputs": [],
   "source": [
    "smc_4hr.tail(20)"
   ]
  },
  {
   "cell_type": "code",
   "execution_count": null,
   "metadata": {
    "id": "Fb8XulV0AOO6"
   },
   "outputs": [],
   "source": [
    "smc_15m.to_csv('smc.csv',index=False)"
   ]
  },
  {
   "cell_type": "code",
   "execution_count": null,
   "metadata": {
    "id": "3IKL53yAAOO6"
   },
   "outputs": [],
   "source": [
    "train_data = pd.read_csv('smc.csv')\n",
    "\n",
    "# --- 1. Zone Confluence ---\n",
    "train_data['fvg_ob_confluence'] = (\n",
    "    (train_data['type'] == train_data['type_ob']) &\n",
    "    train_data['type'].notna()\n",
    ").astype(int)\n",
    "\n",
    "train_data['fvg_liq_confluence'] = (\n",
    "    (train_data['type'].notna()) &\n",
    "    (train_data['type_liq'].notna()) &\n",
    "    (abs(train_data['level'] - train_data['low']) < 1000)\n",
    ").astype(int)\n",
    "\n",
    "train_data['ob_liq_confluence'] = (\n",
    "    (train_data['type_ob'].notna()) &\n",
    "    (train_data['type_liq'].notna()) &\n",
    "    (abs(train_data['level'] - train_data['low']) < 1000)\n",
    ").astype(int)\n",
    "\n",
    "# --- 2. Timing Features ---\n",
    "train_data['time_since_bos_choch'] = train_data['index'] - train_data['trigger_candle']\n",
    "train_data['delay_to_liquidity_sweep'] = train_data['swept_index'] - train_data['index']\n",
    "\n",
    "# --- 3. Reaction Strengths ---\n",
    "train_data['avg_max_price_move'] = train_data[[\n",
    "    'max_price_move',\n",
    "    'max_price_move_ob',\n",
    "    'max_price_move_liq'\n",
    "]].mean(axis=1)\n",
    "\n",
    "train_data['has_strong_reaction'] = train_data['reaction_type'].isin(['clean bounce', 'bounce + break']).astype(int)\n",
    "\n",
    "# --- 4. Labels ---\n",
    "train_data['reaction_success'] = train_data['reaction_type'].isin(['clean bounce', 'bounce + break']).astype(int)\n",
    "train_data['reaction_failed'] = (train_data['reaction_type'] == 'violation').astype(int)\n",
    "\n",
    "train_data['setup_success'] = (\n",
    "    (train_data['reaction_type_ob'].isin(['clean bounce'])) |\n",
    "    (train_data['reaction_type'].isin(['clean bounce'])) |\n",
    "    (train_data['reaction_type_liq'].isin(['clean bounce']))\n",
    ").astype(int)\n",
    "\n",
    "# Show the newly added features\n",
    "train_data.tail()\n"
   ]
  },
  {
   "cell_type": "code",
   "execution_count": null,
   "metadata": {
    "id": "v725N-FNAOO6"
   },
   "outputs": [],
   "source": [
    "drop_cols = [\n",
    "    'timestamp', 'index', 'price', 'trigger_candle', 'price_bos_choch',\n",
    "    'trend_bos_choch', 'signal_bos_choch', 'trend_after_bos_choch','reaction_type',\n",
    "    'reaction_type_ob',\n",
    "    'reaction_type_liq','has_strong_reaction',\n",
    "       'reaction_success', 'reaction_failed','price_retrace_ratio','max_price_move','price_retrace_ratio_ob',\n",
    "       'max_price_move_ob','max_price_move_liq','avg_max_price_move','bounced','partial_mitigated','bounced_ob'\n",
    "       ,'partial_mitigated_ob','bounced_liq' ,'violated','violated_ob','violated_liq'\n",
    "]\n"
   ]
  },
  {
   "cell_type": "code",
   "execution_count": null,
   "metadata": {
    "id": "Be6VGDCcAOO7"
   },
   "outputs": [],
   "source": [
    "train_data.fillna({\n",
    "    'structure_label': 'None',\n",
    "    'signal': 'None',\n",
    "    'trend': 'Unknown',\n",
    "\n",
    "    'swing_type': 'None',\n",
    "    'type': 'None',\n",
    "    'type_ob': 'None',\n",
    "    'type_liq': 'None'\n",
    "}, inplace=True)\n",
    "\n",
    "# Fill numeric NaNs\n",
    "train_data.fillna(0, inplace=True)\n"
   ]
  },
  {
   "cell_type": "code",
   "execution_count": null,
   "metadata": {
    "id": "TNXts9yvAOO7"
   },
   "outputs": [],
   "source": [
    "from sklearn.preprocessing import LabelEncoder\n",
    "\n",
    "categorical_cols = [\n",
    "    'structure_label', 'signal', 'trend',\n",
    "    'swing_type', 'type', 'type_ob', 'type_liq'\n",
    "]\n",
    "\n",
    "le = LabelEncoder()\n",
    "for col in categorical_cols:\n",
    "    train_data[col] = le.fit_transform(train_data[col].astype(str))\n"
   ]
  },
  {
   "cell_type": "code",
   "execution_count": null,
   "metadata": {
    "id": "BXY3NviDAOO8"
   },
   "outputs": [],
   "source": [
    "X = df_past_zones.drop(columns=['reaction_type','index','zone_high','zone_low'])\n",
    "Y = df_past_zones['reaction_type']"
   ]
  },
  {
   "cell_type": "code",
   "execution_count": null,
   "metadata": {
    "id": "_oMYK2_OAOO8"
   },
   "outputs": [],
   "source": [
    "X = df_past_zones.drop(columns=['is_target','candle_index','zone_index','touched_index','zone_type'])\n",
    "Y = df_past_zones['is_target']\n"
   ]
  },
  {
   "cell_type": "code",
   "execution_count": null,
   "metadata": {
    "id": "mC9IXvB8AOO8"
   },
   "outputs": [],
   "source": [
    "X = X.reset_index(drop= True)"
   ]
  },
  {
   "cell_type": "code",
   "execution_count": null,
   "metadata": {
    "id": "pmCnZpsEAOO8"
   },
   "outputs": [],
   "source": [
    "from sklearn.preprocessing import LabelEncoder\n",
    "\n",
    "# Encode all object columns\n",
    "for col in X.columns:\n",
    "    if X[col].dtype == 'object':\n",
    "        X[col] = LabelEncoder().fit_transform(X[col].astype(str))\n",
    "\n",
    "# Cast entire DataFrame to float32\n",
    "X = X.astype('float32')\n"
   ]
  },
  {
   "cell_type": "code",
   "execution_count": null,
   "metadata": {
    "id": "pnkAWYNjAOO8"
   },
   "outputs": [],
   "source": [
    "# Ensure all features are either int or float\n",
    "cols = list(X.columns)\n",
    "cols\n"
   ]
  },
  {
   "cell_type": "code",
   "execution_count": null,
   "metadata": {
    "id": "9QPRmFJcAOO9",
    "outputId": "4a612dbf-54b1-4272-e035-8b4bbc176cf9"
   },
   "outputs": [],
   "source": [
    "correlations = df_zone_reaction.corr()['reaction_type'].sort_values(ascending=False)\n",
    "print(correlations)\n"
   ]
  },
  {
   "cell_type": "code",
   "execution_count": null,
   "metadata": {
    "id": "K6rLUE_pAOO9"
   },
   "outputs": [],
   "source": [
    "from sklearn.model_selection import train_test_split\n",
    "\n",
    "train_x,val_x,train_y,val_y = train_test_split(X,Y,test_size=0.7)\n"
   ]
  },
  {
   "cell_type": "code",
   "execution_count": null,
   "metadata": {
    "id": "QeUawiDsAOO9",
    "outputId": "3a64c7fc-1c84-4d9d-dee4-bbe58db89c64"
   },
   "outputs": [],
   "source": [
    "val_x.tail(5)"
   ]
  },
  {
   "cell_type": "code",
   "execution_count": null,
   "metadata": {
    "id": "VQ_O6eGDAOO-",
    "outputId": "7f54cbf3-bbc3-4ceb-e1c1-4db8e5144a3d"
   },
   "outputs": [],
   "source": [
    "from xgboost import XGBClassifier\n",
    "\n",
    "model = XGBClassifier(\n",
    "    n_estimators=150,\n",
    "    max_depth=6,\n",
    "    learning_rate=0.05,\n",
    "    random_state=42,\n",
    "    use_label_encoder=False,\n",
    "    eval_metric='logloss'\n",
    ")\n",
    "\n",
    "model.fit(train_x, train_y)"
   ]
  },
  {
   "cell_type": "code",
   "execution_count": null,
   "metadata": {
    "id": "Yyd6uS7UAOO-",
    "outputId": "381bad62-445c-41d2-b2df-d92a478ae35f"
   },
   "outputs": [],
   "source": [
    "from sklearn.ensemble import RandomForestClassifier\n",
    "\n",
    "model = RandomForestClassifier(\n",
    "    n_estimators=150,\n",
    "    max_depth=6,\n",
    "    random_state=42,\n",
    ")\n",
    "\n",
    "model.fit(train_x, train_y)"
   ]
  },
  {
   "cell_type": "code",
   "execution_count": null,
   "metadata": {
    "id": "kfydF8B_AOO-",
    "outputId": "87857011-38f2-454a-9a97-0e9071419769"
   },
   "outputs": [],
   "source": [
    "from sklearn.metrics import classification_report, confusion_matrix, roc_auc_score\n",
    "\n",
    "# After training\n",
    "y_pred = model.predict(val_x)\n",
    "y_proba = model.predict_proba(val_x)[:,1]\n",
    "\n",
    "print(classification_report(val_y, y_pred))\n",
    "print(\"AUC:\", roc_auc_score(val_y, y_proba))\n"
   ]
  },
  {
   "cell_type": "code",
   "execution_count": null,
   "metadata": {
    "id": "DsBBIYhwAOO_",
    "outputId": "3f040344-bec4-4fd3-e1e6-17b62d442987"
   },
   "outputs": [],
   "source": [
    "# Get feature importance as dictionary\n",
    "importance_dict = model.get_booster().get_score(importance_type='gain')  # You can also use: 'weight', 'cover', 'total_gain', 'total_cover'\n",
    "\n",
    "# Convert to DataFrame for easier viewing\n",
    "importance_df = pd.DataFrame.from_dict(importance_dict, orient='index', columns=['Importance'])\n",
    "importance_df.index.name = 'Feature'\n",
    "importance_df = importance_df.sort_values(by='Importance', ascending=False)\n",
    "\n",
    "print(importance_df)"
   ]
  },
  {
   "cell_type": "code",
   "execution_count": null,
   "metadata": {
    "id": "MrwsTqx_AOO_",
    "outputId": "af1b8631-329d-40f5-8820-0a000ab325a9"
   },
   "outputs": [],
   "source": [
    "reaction_type"
   ]
  },
  {
   "cell_type": "code",
   "execution_count": null,
   "metadata": {
    "id": "yHZj_zJpAOO_"
   },
   "outputs": [],
   "source": [
    "model.feature_importances_"
   ]
  },
  {
   "cell_type": "code",
   "execution_count": null,
   "metadata": {
    "id": "cb4LzYi1AOO_"
   },
   "outputs": [],
   "source": [
    "X.iloc[-40]"
   ]
  },
  {
   "cell_type": "code",
   "execution_count": null,
   "metadata": {
    "id": "EEeSgGNYAOO_"
   },
   "outputs": [],
   "source": [
    "model.predict(X.iloc[-41].values.reshape(1,-1))\n"
   ]
  },
  {
   "cell_type": "code",
   "execution_count": null,
   "metadata": {
    "id": "Y7Hq9ztEAOPA"
   },
   "outputs": [],
   "source": [
    "from joblib import dump, load\n",
    "\n",
    "\n",
    "dump(model,'smcXGBoost.pkl')\n",
    "print(\"Saved successfully\")"
   ]
  },
  {
   "cell_type": "code",
   "execution_count": null,
   "metadata": {
    "id": "MOrJjU_qAOPA"
   },
   "outputs": [],
   "source": [
    "for k in train_data.iloc[50].keys():\n",
    "    print(f'{k} : {train_data.iloc[50][k]}')"
   ]
  }
 ],
 "metadata": {
  "colab": {
   "provenance": []
  },
  "kernelspec": {
   "display_name": "venv",
   "language": "python",
   "name": "python3"
  },
  "language_info": {
   "codemirror_mode": {
    "name": "ipython",
    "version": 3
   },
   "file_extension": ".py",
   "mimetype": "text/x-python",
   "name": "python",
   "nbconvert_exporter": "python",
   "pygments_lexer": "ipython3",
   "version": "3.12.7"
  }
 },
 "nbformat": 4,
 "nbformat_minor": 0
}
