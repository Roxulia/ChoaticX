{
 "cells": [
  {
   "cell_type": "code",
   "execution_count": null,
   "metadata": {
    "colab": {
     "base_uri": "https://localhost:8080/"
    },
    "executionInfo": {
     "elapsed": 8509,
     "status": "ok",
     "timestamp": 1747316872531,
     "user": {
      "displayName": "Yabanhito Narwoikie",
      "userId": "03656859950307606706"
     },
     "user_tz": -390
    },
    "id": "kvUIGHxL_VPf",
    "outputId": "f7e20cac-e859-434b-e1a6-2819afb0ec11"
   },
   "outputs": [],
   "source": [
    "!pip install ta"
   ]
  },
  {
   "cell_type": "code",
   "execution_count": 1,
   "metadata": {},
   "outputs": [],
   "source": [
    "import sys\n",
    "import os\n",
    "\n",
    "# Add the root directory \"chaoticX\" to the system path\n",
    "sys.path.append(os.path.abspath(\"..\"))  # one level up from Notebooks/\n"
   ]
  },
  {
   "cell_type": "code",
   "execution_count": 2,
   "metadata": {
    "executionInfo": {
     "elapsed": 391,
     "status": "ok",
     "timestamp": 1747316872903,
     "user": {
      "displayName": "Yabanhito Narwoikie",
      "userId": "03656859950307606706"
     },
     "user_tz": -390
    },
    "id": "P8QucV-ZAOON"
   },
   "outputs": [],
   "source": [
    "import pandas as pd\n",
    "import numpy as np\n",
    "import matplotlib.pyplot as plt\n",
    "import ta\n",
    "from Data.timeFrames import timeFrame\n",
    "from Data.binanceAPI import BinanceAPI\n",
    "from Core.zone_detection import ZoneDetector\n",
    "from Core.zone_merge import ZoneMerger\n",
    "from Core.zone_reactions import ZoneReactor\n",
    "from ML.Model import ModelHandler\n"
   ]
  },
  {
   "cell_type": "code",
   "execution_count": null,
   "metadata": {
    "colab": {
     "base_uri": "https://localhost:8080/"
    },
    "executionInfo": {
     "elapsed": 24211,
     "status": "ok",
     "timestamp": 1747316897116,
     "user": {
      "displayName": "Yabanhito Narwoikie",
      "userId": "03656859950307606706"
     },
     "user_tz": -390
    },
    "id": "cpGDr5ahAdMX",
    "outputId": "e33c44be-9855-492f-f265-058a3abb484f"
   },
   "outputs": [],
   "source": [
    "from google.colab import drive\n",
    "drive.mount('/content/drive')\n"
   ]
  },
  {
   "cell_type": "code",
   "execution_count": 3,
   "metadata": {},
   "outputs": [],
   "source": [
    "df = pd.read_csv('../Datasets/train_dataset.csv')\n"
   ]
  },
  {
   "cell_type": "code",
   "execution_count": 4,
   "metadata": {},
   "outputs": [
    {
     "data": {
      "text/plain": [
       "{'touch_type': 15.917057991027832,\n",
       " 'distance_to_nearest_zone_above': 13.719236373901367,\n",
       " 'count': 9.527777671813965,\n",
       " 'conf_1h_count': 7.502933979034424,\n",
       " 'below_ema 20': 7.195952892303467,\n",
       " 'above_conf_count_BuLiq': 5.7219085693359375,\n",
       " 'below_type': 5.520761966705322,\n",
       " 'distance_to_nearest_zone_below': 5.377983093261719,\n",
       " 'above_atr': 5.340757846832275,\n",
       " 'conf_count_BuFVG': 5.294818878173828,\n",
       " 'candle_high': 4.895845890045166,\n",
       " 'below_zone_low': 4.634347915649414,\n",
       " 'below_conf_count_BuLiq': 4.224490165710449,\n",
       " 'volume_on_creation': 4.195095539093018,\n",
       " 'above_conf_count_BrFVG': 4.169815540313721,\n",
       " 'below_avg_volume_past_5': 4.129554748535156,\n",
       " 'candle_open': 4.053562164306641,\n",
       " 'candle_close': 3.984543800354004,\n",
       " 'conf_count_BuLiq': 3.963528633117676,\n",
       " 'conf_15min_count': 3.5624382495880127,\n",
       " 'below_zone_width': 3.4329915046691895,\n",
       " 'below_avg_volume_around_zone': 3.4091732501983643,\n",
       " 'avg_volume_past_5': 3.3649494647979736,\n",
       " 'conf_count_BrOB': 3.323895215988159,\n",
       " 'below_rsi': 3.248492479324341,\n",
       " 'candle_rsi': 3.2483253479003906,\n",
       " 'conf_3min_count': 3.227132797241211,\n",
       " 'body_size': 3.1764121055603027,\n",
       " 'above_avg_volume_past_5': 3.1188583374023438,\n",
       " 'above_zone_width': 3.0998497009277344,\n",
       " 'above_conf_count_BuOB': 3.0901005268096924,\n",
       " 'conf_count_BuOB': 3.039966106414795,\n",
       " 'zone_high': 2.9579718112945557,\n",
       " 'target': 2.953662157058716,\n",
       " 'below_atr': 2.935729742050171,\n",
       " 'wick_ratio': 2.911783218383789,\n",
       " 'atr_mean': 2.7676007747650146,\n",
       " 'below_zone_high': 2.7297286987304688,\n",
       " 'ema 20': 2.617913007736206,\n",
       " 'below_momentum_5': 2.6095211505889893,\n",
       " 'conf_1min_count': 2.6046183109283447,\n",
       " 'momentum_5': 2.504833698272705,\n",
       " 'candle_low': 2.4810702800750732,\n",
       " 'below_conf_1h_count': 2.4667203426361084,\n",
       " 'below_count': 2.457002639770508,\n",
       " 'below_avg_atr': 2.442028284072876,\n",
       " 'candle_atr_mean': 2.3861989974975586,\n",
       " 'below_wick_ratio': 2.3807430267333984,\n",
       " 'conf_count_BrFVG': 2.3716952800750732,\n",
       " 'prev_volatility_5': 2.368624448776245,\n",
       " 'candle_ema20': 2.308192491531372,\n",
       " 'above_atr_mean': 2.2988922595977783,\n",
       " 'above_zone_high': 2.279587745666504,\n",
       " 'below_avg_rsi': 2.2730045318603516,\n",
       " 'above_volume_on_creation': 2.270702362060547,\n",
       " 'avg_rsi': 2.2143678665161133,\n",
       " 'above_body_size': 2.1980650424957275,\n",
       " 'below_conf_1min_count': 2.186560869216919,\n",
       " 'candle_volume': 2.1648378372192383,\n",
       " 'above_ema 20': 2.147610902786255,\n",
       " 'zone_width': 2.106428384780884,\n",
       " 'above_rsi': 2.0682809352874756,\n",
       " 'above_momentum_5': 2.044466018676758,\n",
       " 'below_ema 50': 1.9022575616836548,\n",
       " 'above_conf_1h_count': 1.8370522260665894,\n",
       " 'below_body_size': 1.7191979885101318,\n",
       " 'conf_count_BrLiq': 1.7172322273254395,\n",
       " 'below_avg_ema_20': 1.6693785190582275,\n",
       " 'atr': 1.558739185333252,\n",
       " 'below_conf_count_BuOB': 1.5509389638900757,\n",
       " 'below_conf_count_BuFVG': 1.500038504600525,\n",
       " 'above_conf_count_BrLiq': 1.490531086921692,\n",
       " 'candle_ema50': 1.4708653688430786,\n",
       " 'below_conf_count_BrLiq': 1.4552593231201172,\n",
       " 'type': 1.332888126373291,\n",
       " 'above_conf_count_BrOB': 1.1504571437835693,\n",
       " 'below_conf_count_BrFVG': 0.9100236892700195,\n",
       " 'above_time_frame': 0.7534046769142151,\n",
       " 'above_conf_1D_count': 0.48588109016418457,\n",
       " 'above_avg_rsi': 0.3922140598297119,\n",
       " 'equal_level_deviation': 0.2180424928665161}"
      ]
     },
     "execution_count": 4,
     "metadata": {},
     "output_type": "execute_result"
    }
   ],
   "source": [
    "modelHandler = ModelHandler(model_type='xgb')\n",
    "modelHandler.load('../Models/model.pkl')\n",
    "data = modelHandler.getFeatureImportance(feature_names=list(df.columns))\n",
    "sorted_importance = dict(sorted(data.items(), key=lambda item: item[1], reverse=True))\n",
    "\n",
    "sorted_importance"
   ]
  },
  {
   "cell_type": "code",
   "execution_count": 7,
   "metadata": {},
   "outputs": [
    {
     "data": {
      "text/plain": [
       "{'below_ema 50': 1.9022575616836548,\n",
       " 'below_body_size': 1.7191979885101318,\n",
       " 'below_avg_ema_20': 1.6693785190582275,\n",
       " 'below_conf_count_BuOB': 1.5509389638900757,\n",
       " 'below_conf_count_BuFVG': 1.500038504600525,\n",
       " 'below_conf_count_BrLiq': 1.4552593231201172,\n",
       " 'below_conf_count_BrFVG': 0.9100236892700195}"
      ]
     },
     "execution_count": 7,
     "metadata": {},
     "output_type": "execute_result"
    }
   ],
   "source": [
    "below_features = {key : value for key, value in sorted_importance.items() if key.startswith('below_') and value < 2}\n",
    "below_features"
   ]
  },
  {
   "cell_type": "code",
   "execution_count": 8,
   "metadata": {},
   "outputs": [
    {
     "data": {
      "text/plain": [
       "{'above_conf_1h_count': 1.8370522260665894,\n",
       " 'above_conf_count_BrLiq': 1.490531086921692,\n",
       " 'above_conf_count_BrOB': 1.1504571437835693,\n",
       " 'above_time_frame': 0.7534046769142151,\n",
       " 'above_conf_1D_count': 0.48588109016418457,\n",
       " 'above_avg_rsi': 0.3922140598297119}"
      ]
     },
     "execution_count": 8,
     "metadata": {},
     "output_type": "execute_result"
    }
   ],
   "source": [
    "above_features = {key : value for key, value in sorted_importance.items() if key.startswith('above_') and value < 2}\n",
    "above_features"
   ]
  },
  {
   "cell_type": "code",
   "execution_count": 12,
   "metadata": {
    "id": "9QPRmFJcAOO9",
    "outputId": "4a612dbf-54b1-4272-e035-8b4bbc176cf9"
   },
   "outputs": [
    {
     "data": {
      "text/plain": [
       "{'target': 1.0,\n",
       " 'above_time_frame': 0.3679320746300365,\n",
       " 'above_conf_count_BuLiq': 0.32349983828793344,\n",
       " 'above_wick_ratio': 0.2788409060828912,\n",
       " 'above_conf_is_buy_zone': 0.27803835422704554,\n",
       " 'distance_to_nearest_zone_above': 0.27750098171455184,\n",
       " 'above_conf_count_BrLiq': 0.2729358750076576,\n",
       " 'distance_to_nearest_zone_below': 0.2278224402901493,\n",
       " 'above_zone_width': 0.2179695235238414,\n",
       " 'above_conf_1h_count': 0.20407302013541723,\n",
       " 'above_atr_mean': 0.1989489561604861,\n",
       " 'above_body_size': 0.19493945503478988,\n",
       " 'above_conf_count_BuFVG': 0.18134969920707475,\n",
       " 'momentum_5': 0.17340371076670666,\n",
       " 'above_conf_count_BuOB': 0.17224058388735491,\n",
       " 'touch_type': 0.17074302384753248,\n",
       " 'rsi': 0.16675392036937475,\n",
       " 'above_conf_count_BrFVG': 0.16339976973597548,\n",
       " 'below_type': 0.15351445124399332,\n",
       " 'below_liquidity_height': 0.14885594802511956,\n",
       " 'below_avg_swing_strength': 0.1488558235669987,\n",
       " 'above_conf_count_BrOB': 0.14322267617459053,\n",
       " 'below_avg_rsi': 0.14222243323783554,\n",
       " 'below_equal_level_deviation': 0.13341946898176274,\n",
       " 'prev_volatility_5': 0.12618567570079872,\n",
       " 'above_avg_rsi': 0.113818680027164,\n",
       " 'body_size': 0.10962265807645548,\n",
       " 'above_liquidity_height': 0.10821282427105065,\n",
       " 'above_avg_swing_strength': 0.10821273012013503,\n",
       " 'conf_is_buy_zone': 0.10817741354016322,\n",
       " 'atr': 0.10183781038209572,\n",
       " 'below_avg_volume_around_zone': 0.0995484397778116,\n",
       " 'avg_volume_past_5': 0.09788190752019901,\n",
       " 'below_avg_atr': 0.09767280630636448,\n",
       " 'volume_on_creation': 0.09764366483676169,\n",
       " 'zone_width': 0.09383321563441463,\n",
       " 'below_avg_atr_mean': 0.08767914964316131,\n",
       " 'below_count': 0.08576488149907131,\n",
       " 'above_equal_level_deviation': 0.08512632626637187,\n",
       " 'atr_mean': 0.08494522234139344,\n",
       " 'above_count': 0.0847350579845487,\n",
       " 'below_avg_ema_20': 0.08420553909172777,\n",
       " 'above_volume_on_creation': 0.08338672210630223,\n",
       " 'below_avg_ema_50': 0.08250731228481986,\n",
       " 'candle_volume': 0.07980158222656217,\n",
       " 'above_avg_volume_past_5': 0.07903453269260212,\n",
       " 'conf_count_BuLiq': 0.07020175748854228,\n",
       " 'above_avg_ema_50': 0.06472919999223496,\n",
       " 'above_avg_ema_20': 0.06459841659565095,\n",
       " 'below_conf_count_BuOB': 0.06339540600240817,\n",
       " 'below_conf_count_BuLiq': 0.05675831780467145,\n",
       " 'above_avg_atr_mean': 0.05584804545227507,\n",
       " 'above_avg_atr': 0.054853644677970895,\n",
       " 'below_avg_volume_past_5': 0.044441673499906686,\n",
       " 'above_avg_volume_around_zone': 0.04006832479496786,\n",
       " 'below_conf_count_BrLiq': 0.03911580596713019,\n",
       " 'below_conf_1h_count': 0.03906193173311841,\n",
       " 'below_conf_count_BrOB': 0.03905472673888589,\n",
       " 'below_momentum_5': 0.03866159483541843,\n",
       " 'below_conf_is_buy_zone': 0.03603711637990404,\n",
       " 'below_conf_count_BuFVG': 0.022649170099015594,\n",
       " 'below_volume_on_creation': 0.021381827878787497,\n",
       " 'conf_count_BuOB': 0.020084125906993322,\n",
       " 'candle_rsi': 0.011051619520189784,\n",
       " 'below_conf_count_BrFVG': 0.009988113232904862,\n",
       " 'conf_count_BuFVG': -0.004287583967929853,\n",
       " 'type': -0.009113299721581905,\n",
       " 'conf_1h_count': -0.011621597479099192,\n",
       " 'below_atr': -0.021358945206392047,\n",
       " 'below_zone_width': -0.02416880503239171,\n",
       " 'conf_count_BrLiq': -0.025171767593414406,\n",
       " 'below_prev_volatility_5': -0.026175158690025953,\n",
       " 'below_atr_mean': -0.029391269513500635,\n",
       " 'conf_count_BrFVG': -0.029560202657380293,\n",
       " 'conf_count_BrOB': -0.03466151380026564,\n",
       " 'candle_atr': -0.03570804586741975,\n",
       " 'below_body_size': -0.03768911105082633,\n",
       " 'wick_ratio': -0.05169560674293845,\n",
       " 'candle_close': -0.06427068400181134,\n",
       " 'candle_high': -0.06463604050340384,\n",
       " 'candle_low': -0.06468049304249471,\n",
       " 'candle_open': -0.06502883019363084,\n",
       " 'above_prev_volatility_5': -0.06510229804050752,\n",
       " 'candle_ema20': -0.0664980868731937,\n",
       " 'candle_ema50': -0.06937856516728372,\n",
       " 'candle_atr_mean': -0.06968491426086082,\n",
       " 'below_rsi': -0.0707762866043165,\n",
       " 'zone_high': -0.07118159831899569,\n",
       " 'zone_low': -0.07332745889810366,\n",
       " 'below_zone_high': -0.0750380885699798,\n",
       " 'below_zone_low': -0.07887029676070134,\n",
       " 'ema 20': -0.07978219326800291,\n",
       " 'above_atr': -0.08113765336397406,\n",
       " 'ema 50': -0.0832078020315527,\n",
       " 'below_wick_ratio': -0.09586260519944413,\n",
       " 'above_zone_low': -0.11826620907909541,\n",
       " 'above_zone_high': -0.12247643606636797,\n",
       " 'below_ema 20': -0.1277000944422694,\n",
       " 'below_ema 50': -0.12927468731298425,\n",
       " 'above_momentum_5': -0.13217618311733248,\n",
       " 'above_ema 50': -0.13582251668734735,\n",
       " 'above_rsi': -0.13714848601643315,\n",
       " 'above_ema 20': -0.13727979099108098,\n",
       " 'above_type': -0.3380327386929459}"
      ]
     },
     "execution_count": 12,
     "metadata": {},
     "output_type": "execute_result"
    }
   ],
   "source": [
    "correlations = df.corr()['target'].sort_values(ascending=False)\n",
    "correlations_dict = correlations.to_dict()\n",
    "{key : value for key,value in correlations_dict.items() if  pd.notna(value) or value > 0.1 or value < -0.1}\n"
   ]
  },
  {
   "cell_type": "code",
   "execution_count": null,
   "metadata": {
    "executionInfo": {
     "elapsed": 1127,
     "status": "ok",
     "timestamp": 1747316919982,
     "user": {
      "displayName": "Yabanhito Narwoikie",
      "userId": "03656859950307606706"
     },
     "user_tz": -390
    },
    "id": "TbFogZNFAsaK"
   },
   "outputs": [],
   "source": [
    "df = pd.read_csv('/content/drive/MyDrive/Colab Notebooks/OHLC.csv')"
   ]
  },
  {
   "cell_type": "code",
   "execution_count": null,
   "metadata": {},
   "outputs": [],
   "source": [
    "df.loc[~((df['is_target'] == 1) | (df['is_target'] == 0))]\n"
   ]
  },
  {
   "cell_type": "code",
   "execution_count": null,
   "metadata": {},
   "outputs": [],
   "source": [
    "for col in df.columns:\n",
    "    print(f'{col} : {df[col].dtype}')"
   ]
  },
  {
   "cell_type": "code",
   "execution_count": null,
   "metadata": {},
   "outputs": [],
   "source": [
    "df.shape"
   ]
  },
  {
   "cell_type": "code",
   "execution_count": null,
   "metadata": {
    "colab": {
     "base_uri": "https://localhost:8080/",
     "height": 398
    },
    "executionInfo": {
     "elapsed": 99,
     "status": "ok",
     "timestamp": 1747277162878,
     "user": {
      "displayName": "Yabanhito Narwoikie",
      "userId": "03656859950307606706"
     },
     "user_tz": 420
    },
    "id": "_1PB2OFF1Pkk",
    "outputId": "437cde30-c96c-400e-beaf-d87ebbca4d49"
   },
   "outputs": [],
   "source": [
    "api = BinanceAPI()\n",
    "df_4h = api.get_ohlcv(interval='4h')\n",
    "df_1d = api.get_ohlcv(interval='1D')\n",
    "df_1h = api.get_ohlcv()"
   ]
  },
  {
   "cell_type": "code",
   "execution_count": null,
   "metadata": {},
   "outputs": [],
   "source": [
    "detector1h = ZoneDetector(df_1h)\n",
    "zone_1h = detector1h.get_zones()\n",
    "detector4h = ZoneDetector(df_4h,timeframe= \"4h\")\n",
    "zone_4h = detector4h.get_zones()\n",
    "detector1d = ZoneDetector(df_1d,timeframe=\"1D\")\n",
    "zone_1d = detector1d.get_zones()\n"
   ]
  },
  {
   "cell_type": "code",
   "execution_count": null,
   "metadata": {},
   "outputs": [],
   "source": [
    "merger = ZoneMerger(zone_1h+zone_4h+zone_1d)\n",
    "\n",
    "zones = merger.merge()\n",
    "#zones = merger.add_liq_confluence(zones)"
   ]
  },
  {
   "cell_type": "code",
   "execution_count": null,
   "metadata": {},
   "outputs": [],
   "source": [
    "reactor = ZoneReactor(df_1h, zones)\n",
    "zones = reactor.get_zone_reaction()\n",
    "zones = merger.getNearbyZone(zones)"
   ]
  },
  {
   "cell_type": "code",
   "execution_count": null,
   "metadata": {},
   "outputs": [],
   "source": [
    "zones = reactor.get_next_target_zone()"
   ]
  },
  {
   "cell_type": "code",
   "execution_count": null,
   "metadata": {},
   "outputs": [],
   "source": [
    "zones[-1]"
   ]
  },
  {
   "cell_type": "code",
   "execution_count": null,
   "metadata": {},
   "outputs": [],
   "source": [
    "import requests\n",
    "\n",
    "def get_orderbook_price(symbol, target_price):\n",
    "    url = \"https://api.binance.com/api/v3/depth\"\n",
    "    params = {\"symbol\": symbol.upper(), \"limit\": 10000}\n",
    "    res = requests.get(url, params=params).json()\n",
    "\n",
    "    target_price = str(float(target_price))  # Ensure formatting\n",
    "\n",
    "    bids = {price: qty for price, qty in res[\"bids\"]}\n",
    "    asks = {price: qty for price, qty in res[\"asks\"]}\n",
    "\n",
    "    bid_qty = bids.get(target_price, None)\n",
    "    ask_qty = asks.get(target_price, None)\n",
    "\n",
    "    return {\n",
    "        \"bid_quantity\": bid_qty,\n",
    "        \"ask_quantity\": ask_qty,\n",
    "        \"response\" : res\n",
    "    }\n",
    "\n",
    "# Example usage:\n",
    "print(get_orderbook_price(\"BTCUSDT\", 109000.00))\n"
   ]
  },
  {
   "cell_type": "code",
   "execution_count": null,
   "metadata": {
    "id": "3JudR_eaAOOt"
   },
   "outputs": [],
   "source": [
    "df_zone_reaction['level'] = df_zone_reaction['level'].fillna((df_zone_reaction['zone_high']+df_zone_reaction['zone_low'])/2)\n",
    "df_zone_reaction['zone_width'] = df_zone_reaction['zone_width'].fillna(0)\n",
    "df_zone_reaction['body_size'] = df_zone_reaction['body_size'].fillna(0)\n",
    "df_zone_reaction['wick_ratio'] = df_zone_reaction['wick_ratio'].fillna(0)\n",
    "df_zone_reaction['volume_on_creation'] = df_zone_reaction['volume_on_creation'].fillna(0)\n",
    "df_zone_reaction['avg_volume_past_5'] = df_zone_reaction['avg_volume_past_5'].fillna(0)\n",
    "df_zone_reaction['prev_volatility_5'] = df_zone_reaction['prev_volatility_5'].fillna(0)\n",
    "df_zone_reaction['momentum_5'] = df_zone_reaction['momentum_5'].fillna(0)\n",
    "df_zone_reaction['avg_volume_around_zone'] = df_zone_reaction['avg_volume_around_zone'].fillna(0)\n",
    "df_zone_reaction['equal_level_deviation'] = df_zone_reaction['equal_level_deviation'].fillna(0)\n",
    "df_zone_reaction['duration_between_first_last_touch'] = df_zone_reaction['duration_between_first_last_touch'].fillna(0)"
   ]
  },
  {
   "cell_type": "code",
   "execution_count": null,
   "metadata": {
    "id": "DYBemBF3AOOt",
    "outputId": "a3f4a522-cc79-4913-8d21-3c51b8566bca"
   },
   "outputs": [],
   "source": [
    "df_zone_reaction['type'].unique()"
   ]
  },
  {
   "cell_type": "code",
   "execution_count": null,
   "metadata": {
    "id": "vOMqj8sLAOOt"
   },
   "outputs": [],
   "source": [
    "df_zone_reaction.to_csv('reactions.csv',index=False)"
   ]
  },
  {
   "cell_type": "code",
   "execution_count": null,
   "metadata": {
    "colab": {
     "base_uri": "https://localhost:8080/",
     "height": 300
    },
    "executionInfo": {
     "elapsed": 123,
     "status": "ok",
     "timestamp": 1746810630950,
     "user": {
      "displayName": "Yabanhito Narwoikie",
      "userId": "03656859950307606706"
     },
     "user_tz": 420
    },
    "id": "JEXvMuItAOOu",
    "outputId": "6df58099-10c0-4a77-ed20-9054a13cae5f"
   },
   "outputs": [],
   "source": [
    "df_zone_reaction.describe()"
   ]
  },
  {
   "cell_type": "code",
   "execution_count": null,
   "metadata": {
    "colab": {
     "base_uri": "https://localhost:8080/",
     "height": 743
    },
    "executionInfo": {
     "elapsed": 19,
     "status": "ok",
     "timestamp": 1747110356381,
     "user": {
      "displayName": "Yabanhito Narwoikie",
      "userId": "03656859950307606706"
     },
     "user_tz": 420
    },
    "id": "oOgwSYFYAOOu",
    "outputId": "39bae00a-2443-4050-ca98-75e136b78288"
   },
   "outputs": [],
   "source": [
    "df_zone_reaction.notna().sum()"
   ]
  },
  {
   "cell_type": "code",
   "execution_count": null,
   "metadata": {
    "id": "9QoE0RrrAOOu"
   },
   "outputs": [],
   "source": [
    "df_zone_reaction= df_zone_reaction.dropna()"
   ]
  },
  {
   "cell_type": "code",
   "execution_count": null,
   "metadata": {
    "id": "7KHUaiv5FpJ5"
   },
   "outputs": [],
   "source": [
    "df_ob_fvg_reaction = df_zone_reaction.loc[~df_zone_reaction['type'].isin(['Buy-Side Liq','Sell-Side Liq'])]\n",
    "df_liq_reaction = df_zone_reaction.loc[df_zone_reaction['type'] .isin(['Buy-Sidde Liq','Sell-Side Liq'])]"
   ]
  },
  {
   "cell_type": "code",
   "execution_count": null,
   "metadata": {
    "id": "asfQWph4AOOv"
   },
   "outputs": [],
   "source": [
    "reaction_type1 = list(df_ob_fvg_reaction.reaction_type.unique())\n",
    "reaction_type2 = list(df_liq_reaction.reaction_type.unique())\n",
    "zone_type = list(df_zone_reaction['type'].unique())"
   ]
  },
  {
   "cell_type": "code",
   "execution_count": null,
   "metadata": {
    "colab": {
     "base_uri": "https://localhost:8080/"
    },
    "executionInfo": {
     "elapsed": 21,
     "status": "ok",
     "timestamp": 1747110380190,
     "user": {
      "displayName": "Yabanhito Narwoikie",
      "userId": "03656859950307606706"
     },
     "user_tz": 420
    },
    "id": "R7BuRhSVAOOv",
    "outputId": "b7a26660-c068-4ff9-909f-96dcfe87b91a"
   },
   "outputs": [],
   "source": [
    "df_ob_fvg_reaction['type'] = df_ob_fvg_reaction['type'].apply(lambda x : zone_type.index(x))\n",
    "df_ob_fvg_reaction['nearest_zone_type'] = df_ob_fvg_reaction['nearest_zone_type'].apply(lambda x : zone_type.index(x))\n",
    "df_liq_reaction['type'] = df_liq_reaction['type'].apply(lambda x : zone_type.index(x))\n",
    "df_liq_reaction['nearest_zone_type'] = df_liq_reaction['nearest_zone_type'].apply(lambda x : zone_type.index(x))\n",
    "\n"
   ]
  },
  {
   "cell_type": "code",
   "execution_count": null,
   "metadata": {
    "colab": {
     "base_uri": "https://localhost:8080/"
    },
    "executionInfo": {
     "elapsed": 59,
     "status": "ok",
     "timestamp": 1747110383414,
     "user": {
      "displayName": "Yabanhito Narwoikie",
      "userId": "03656859950307606706"
     },
     "user_tz": 420
    },
    "id": "6PeQ4rxQAOOv",
    "outputId": "8384e3e7-7e6e-4bdb-d7fb-4f3ce4690c9a"
   },
   "outputs": [],
   "source": [
    "df_ob_fvg_reaction['reaction_type'] = df_ob_fvg_reaction['reaction_type'].apply(lambda x : reaction_type1.index(x))\n",
    "df_liq_reaction['reaction_type'] = df_liq_reaction['reaction_type'].apply(lambda x : reaction_type2.index(x))"
   ]
  },
  {
   "cell_type": "code",
   "execution_count": null,
   "metadata": {
    "colab": {
     "base_uri": "https://localhost:8080/",
     "height": 743
    },
    "executionInfo": {
     "elapsed": 55,
     "status": "ok",
     "timestamp": 1747110387384,
     "user": {
      "displayName": "Yabanhito Narwoikie",
      "userId": "03656859950307606706"
     },
     "user_tz": 420
    },
    "id": "txic68vgAOOw",
    "outputId": "462a5eae-d5ee-4afc-f5fe-b0b595fe93cb"
   },
   "outputs": [],
   "source": [
    "df_zone_reaction.dtypes"
   ]
  },
  {
   "cell_type": "code",
   "execution_count": null,
   "metadata": {
    "id": "ufDfjD-uAOOw"
   },
   "outputs": [],
   "source": [
    "X1 = df_liq_reaction.drop(columns=['reaction_type','nearest_zone_index','index','zone_high','zone_low','duration_between_first_last_touch'])\n",
    "Y1 = df_liq_reaction['reaction_type']\n",
    "X2 = df_ob_fvg_reaction.drop(columns=['reaction_type','nearest_zone_index','index','zone_high','zone_low','duration_between_first_last_touch'])\n",
    "Y2 = df_ob_fvg_reaction['reaction_type']"
   ]
  },
  {
   "cell_type": "code",
   "execution_count": null,
   "metadata": {
    "id": "K7x3wGN3HhOz"
   },
   "outputs": [],
   "source": [
    "from sklearn.model_selection import train_test_split\n",
    "\n",
    "train_x1,val_x1,train_y1,val_y1 = train_test_split(X1,Y1,test_size=0.7)\n",
    "train_x2,val_x2,train_y2,val_y2 = train_test_split(X2,Y2,test_size=0.7)"
   ]
  },
  {
   "cell_type": "code",
   "execution_count": null,
   "metadata": {
    "colab": {
     "base_uri": "https://localhost:8080/",
     "height": 393
    },
    "executionInfo": {
     "elapsed": 1747,
     "status": "ok",
     "timestamp": 1747110440943,
     "user": {
      "displayName": "Yabanhito Narwoikie",
      "userId": "03656859950307606706"
     },
     "user_tz": 420
    },
    "id": "brM12-HuHyzQ",
    "outputId": "81382e39-6776-4dc9-ba17-e697fe2447a9"
   },
   "outputs": [],
   "source": [
    "from xgboost import XGBClassifier\n",
    "\n",
    "liq_model = XGBClassifier(\n",
    "    n_estimators=150,\n",
    "    max_depth=6,\n",
    "    learning_rate=0.05,\n",
    "    random_state=42,\n",
    "    use_label_encoder=False,\n",
    "    eval_metric='logloss'\n",
    ")\n",
    "ob_fvg_model = XGBClassifier(\n",
    "    n_estimators=150,\n",
    "    max_depth=6,\n",
    "    learning_rate=0.05,\n",
    "    random_state=42,\n",
    "    use_label_encoder=False,\n",
    "    eval_metric='logloss'\n",
    ")\n",
    "liq_model.fit(train_x1, train_y1)\n",
    "ob_fvg_model.fit(train_x2,train_y2)"
   ]
  },
  {
   "cell_type": "code",
   "execution_count": null,
   "metadata": {
    "colab": {
     "base_uri": "https://localhost:8080/"
    },
    "executionInfo": {
     "elapsed": 77,
     "status": "ok",
     "timestamp": 1747110444663,
     "user": {
      "displayName": "Yabanhito Narwoikie",
      "userId": "03656859950307606706"
     },
     "user_tz": 420
    },
    "id": "JxOPZunAILDy",
    "outputId": "7d133daf-62b2-4c24-a575-06e4a1af428b"
   },
   "outputs": [],
   "source": [
    "from sklearn.metrics import classification_report, confusion_matrix, roc_auc_score\n",
    "\n",
    "# After training\n",
    "y_pred1 = liq_model.predict(val_x1)\n",
    "y_pred2 = ob_fvg_model.predict(val_x2)\n",
    "\n",
    "print(classification_report(val_y1, y_pred1))\n",
    "print(classification_report(val_y2, y_pred2))\n"
   ]
  },
  {
   "cell_type": "code",
   "execution_count": null,
   "metadata": {
    "colab": {
     "base_uri": "https://localhost:8080/"
    },
    "executionInfo": {
     "elapsed": 10,
     "status": "ok",
     "timestamp": 1746812627924,
     "user": {
      "displayName": "Yabanhito Narwoikie",
      "userId": "03656859950307606706"
     },
     "user_tz": 420
    },
    "id": "cv6xyldRJG2Y",
    "outputId": "d6e12de6-960c-4366-84ed-dd2d94f4e2f2"
   },
   "outputs": [],
   "source": [
    "print(X2.columns)\n",
    "print(X1.columns)"
   ]
  },
  {
   "cell_type": "code",
   "execution_count": null,
   "metadata": {
    "id": "Q3kH3qvgAOOx"
   },
   "outputs": [],
   "source": [
    "labels = label_direction_based_on_zone_touch(df,fvg,ob,liq,threshold=0.1)"
   ]
  },
  {
   "cell_type": "markdown",
   "metadata": {
    "id": "k0Os0Z8LAOO4"
   },
   "source": [
    "Data Combination of SMC Elements"
   ]
  },
  {
   "cell_type": "code",
   "execution_count": null,
   "metadata": {
    "id": "P690Nq6lAOO4"
   },
   "outputs": [],
   "source": [
    "def smc_combine(df):\n",
    "    merged = df.copy()\n",
    "    merged = merged.reset_index(drop = True)\n",
    "    merged['index'] = merged.index  # ensure index column exists\n",
    "    fvg = detect_fvg(df)\n",
    "    #fvg = check_fvg_reactions(df,fvg)\n",
    "    ob = detect_order_blocks(df)\n",
    "    #ob = check_ob_reactions(df,ob)\n",
    "    swings = detect_swings(df,20)\n",
    "    labeled_swings = label_structure_from_swings(swings)\n",
    "    bos_choch=lookahead_bos_choch(labeled_swings,df,50)\n",
    "    liq = detect_liquidity_zones(df,swings)\n",
    "    #liq = check_liquidity_reactions(df,liq)\n",
    "\n",
    "    fvg_df = pd.DataFrame(fvg).set_index('index')\n",
    "    ob_df = pd.DataFrame(ob).set_index('index')\n",
    "    bos_choch_df = pd.DataFrame(bos_choch).set_index('trigger_candle')\n",
    "    labeled_swings_df = pd.DataFrame(labeled_swings).set_index('index')\n",
    "    liq_df = pd.DataFrame(liq).set_index('start_index')\n",
    "    merged = merged.merge(fvg_df, on='index', how='left', suffixes=('', '_fvg'))\n",
    "    merged = merged.merge(ob_df, on='index', how='left', suffixes=('', '_ob'))\n",
    "    merged = merged.merge(labeled_swings_df,on = 'index',how='left',suffixes=('','_swings'))\n",
    "    merged = merged.merge(bos_choch_df, on='index', how='left', suffixes=('', '_bos_choch'))\n",
    "    merged = merged.merge(liq_df, left_on='index', right_index=True, how='left', suffixes=('', '_liq'))\n",
    "    merged['timestamp'] = df.index\n",
    "    return merged"
   ]
  },
  {
   "cell_type": "code",
   "execution_count": null,
   "metadata": {
    "id": "fHyqjynCAOO4"
   },
   "outputs": [],
   "source": [
    "smc_15m = smc_combine(df)\n",
    "smc_1hr = smc_combine(df_1h)\n",
    "smc_4hr = smc_combine(df_4h)\n",
    "smc_1d = smc_combine(df_1d)"
   ]
  },
  {
   "cell_type": "code",
   "execution_count": null,
   "metadata": {
    "id": "dBVmemI2AOO5"
   },
   "outputs": [],
   "source": [
    "def add_htf_features(base_df,htf_df,prefix):\n",
    "    base_df = base_df.copy()\n",
    "    htf_df = htf_df.copy()\n",
    "    base_df = base_df.set_index('timestamp')\n",
    "    htf_df = htf_df.set_index('timestamp')\n",
    "    for feature in ['trend', 'fvg_high', 'fvg_low', 'ob_high', 'ob_low','level','swing_type']:\n",
    "        if feature in htf_df.columns:\n",
    "            base_df[f'{prefix}_{feature}'] = htf_df[feature].reindex(base_df.index, method='ffill')\n",
    "\n",
    "    return base_df.reset_index()"
   ]
  },
  {
   "cell_type": "code",
   "execution_count": null,
   "metadata": {
    "id": "zNE1J16LAOO5"
   },
   "outputs": [],
   "source": [
    "smc_15m = add_htf_features(smc_15m, smc_1hr, prefix='1h')\n",
    "smc_15m = add_htf_features(smc_15m,smc_4hr, prefix='4h')\n",
    "smc_15m = add_htf_features(smc_15m, smc_1d, prefix='1d')\n"
   ]
  },
  {
   "cell_type": "code",
   "execution_count": null,
   "metadata": {
    "id": "jfsKAI16AOO5"
   },
   "outputs": [],
   "source": [
    "smc_15m.tail()"
   ]
  },
  {
   "cell_type": "code",
   "execution_count": null,
   "metadata": {
    "id": "bsShZX8XAOO5"
   },
   "outputs": [],
   "source": [
    "smc_4hr.tail(20)"
   ]
  },
  {
   "cell_type": "code",
   "execution_count": null,
   "metadata": {
    "id": "Fb8XulV0AOO6"
   },
   "outputs": [],
   "source": [
    "smc_15m.to_csv('smc.csv',index=False)"
   ]
  },
  {
   "cell_type": "code",
   "execution_count": null,
   "metadata": {
    "id": "3IKL53yAAOO6"
   },
   "outputs": [],
   "source": [
    "train_data = pd.read_csv('smc.csv')\n",
    "\n",
    "# --- 1. Zone Confluence ---\n",
    "train_data['fvg_ob_confluence'] = (\n",
    "    (train_data['type'] == train_data['type_ob']) &\n",
    "    train_data['type'].notna()\n",
    ").astype(int)\n",
    "\n",
    "train_data['fvg_liq_confluence'] = (\n",
    "    (train_data['type'].notna()) &\n",
    "    (train_data['type_liq'].notna()) &\n",
    "    (abs(train_data['level'] - train_data['low']) < 1000)\n",
    ").astype(int)\n",
    "\n",
    "train_data['ob_liq_confluence'] = (\n",
    "    (train_data['type_ob'].notna()) &\n",
    "    (train_data['type_liq'].notna()) &\n",
    "    (abs(train_data['level'] - train_data['low']) < 1000)\n",
    ").astype(int)\n",
    "\n",
    "# --- 2. Timing Features ---\n",
    "train_data['time_since_bos_choch'] = train_data['index'] - train_data['trigger_candle']\n",
    "train_data['delay_to_liquidity_sweep'] = train_data['swept_index'] - train_data['index']\n",
    "\n",
    "# --- 3. Reaction Strengths ---\n",
    "train_data['avg_max_price_move'] = train_data[[\n",
    "    'max_price_move',\n",
    "    'max_price_move_ob',\n",
    "    'max_price_move_liq'\n",
    "]].mean(axis=1)\n",
    "\n",
    "train_data['has_strong_reaction'] = train_data['reaction_type'].isin(['clean bounce', 'bounce + break']).astype(int)\n",
    "\n",
    "# --- 4. Labels ---\n",
    "train_data['reaction_success'] = train_data['reaction_type'].isin(['clean bounce', 'bounce + break']).astype(int)\n",
    "train_data['reaction_failed'] = (train_data['reaction_type'] == 'violation').astype(int)\n",
    "\n",
    "train_data['setup_success'] = (\n",
    "    (train_data['reaction_type_ob'].isin(['clean bounce'])) |\n",
    "    (train_data['reaction_type'].isin(['clean bounce'])) |\n",
    "    (train_data['reaction_type_liq'].isin(['clean bounce']))\n",
    ").astype(int)\n",
    "\n",
    "# Show the newly added features\n",
    "train_data.tail()\n"
   ]
  },
  {
   "cell_type": "code",
   "execution_count": null,
   "metadata": {
    "id": "v725N-FNAOO6"
   },
   "outputs": [],
   "source": [
    "drop_cols = [\n",
    "    'timestamp', 'index', 'price', 'trigger_candle', 'price_bos_choch',\n",
    "    'trend_bos_choch', 'signal_bos_choch', 'trend_after_bos_choch','reaction_type',\n",
    "    'reaction_type_ob',\n",
    "    'reaction_type_liq','has_strong_reaction',\n",
    "       'reaction_success', 'reaction_failed','price_retrace_ratio','max_price_move','price_retrace_ratio_ob',\n",
    "       'max_price_move_ob','max_price_move_liq','avg_max_price_move','bounced','partial_mitigated','bounced_ob'\n",
    "       ,'partial_mitigated_ob','bounced_liq' ,'violated','violated_ob','violated_liq'\n",
    "]\n"
   ]
  },
  {
   "cell_type": "code",
   "execution_count": null,
   "metadata": {
    "id": "Be6VGDCcAOO7"
   },
   "outputs": [],
   "source": [
    "train_data.fillna({\n",
    "    'structure_label': 'None',\n",
    "    'signal': 'None',\n",
    "    'trend': 'Unknown',\n",
    "\n",
    "    'swing_type': 'None',\n",
    "    'type': 'None',\n",
    "    'type_ob': 'None',\n",
    "    'type_liq': 'None'\n",
    "}, inplace=True)\n",
    "\n",
    "# Fill numeric NaNs\n",
    "train_data.fillna(0, inplace=True)\n"
   ]
  },
  {
   "cell_type": "code",
   "execution_count": null,
   "metadata": {
    "id": "TNXts9yvAOO7"
   },
   "outputs": [],
   "source": [
    "from sklearn.preprocessing import LabelEncoder\n",
    "\n",
    "categorical_cols = [\n",
    "    'structure_label', 'signal', 'trend',\n",
    "    'swing_type', 'type', 'type_ob', 'type_liq'\n",
    "]\n",
    "\n",
    "le = LabelEncoder()\n",
    "for col in categorical_cols:\n",
    "    train_data[col] = le.fit_transform(train_data[col].astype(str))\n"
   ]
  },
  {
   "cell_type": "code",
   "execution_count": null,
   "metadata": {
    "id": "BXY3NviDAOO8"
   },
   "outputs": [],
   "source": [
    "X = df_past_zones.drop(columns=['reaction_type','index','zone_high','zone_low'])\n",
    "Y = df_past_zones['reaction_type']"
   ]
  },
  {
   "cell_type": "code",
   "execution_count": null,
   "metadata": {
    "id": "_oMYK2_OAOO8"
   },
   "outputs": [],
   "source": [
    "X = df_past_zones.drop(columns=['is_target','candle_index','zone_index','touched_index','zone_type'])\n",
    "Y = df_past_zones['is_target']\n"
   ]
  },
  {
   "cell_type": "code",
   "execution_count": null,
   "metadata": {
    "id": "mC9IXvB8AOO8"
   },
   "outputs": [],
   "source": [
    "X = X.reset_index(drop= True)"
   ]
  },
  {
   "cell_type": "code",
   "execution_count": null,
   "metadata": {
    "id": "pmCnZpsEAOO8"
   },
   "outputs": [],
   "source": [
    "from sklearn.preprocessing import LabelEncoder\n",
    "\n",
    "# Encode all object columns\n",
    "for col in X.columns:\n",
    "    if X[col].dtype == 'object':\n",
    "        X[col] = LabelEncoder().fit_transform(X[col].astype(str))\n",
    "\n",
    "# Cast entire DataFrame to float32\n",
    "X = X.astype('float32')\n"
   ]
  },
  {
   "cell_type": "code",
   "execution_count": null,
   "metadata": {
    "id": "pnkAWYNjAOO8"
   },
   "outputs": [],
   "source": [
    "# Ensure all features are either int or float\n",
    "cols = list(X.columns)\n",
    "cols\n"
   ]
  },
  {
   "cell_type": "code",
   "execution_count": null,
   "metadata": {
    "id": "K6rLUE_pAOO9"
   },
   "outputs": [],
   "source": [
    "from sklearn.model_selection import train_test_split\n",
    "\n",
    "train_x,val_x,train_y,val_y = train_test_split(X,Y,test_size=0.7)\n"
   ]
  },
  {
   "cell_type": "code",
   "execution_count": null,
   "metadata": {
    "id": "QeUawiDsAOO9",
    "outputId": "3a64c7fc-1c84-4d9d-dee4-bbe58db89c64"
   },
   "outputs": [],
   "source": [
    "val_x.tail(5)"
   ]
  },
  {
   "cell_type": "code",
   "execution_count": null,
   "metadata": {
    "id": "VQ_O6eGDAOO-",
    "outputId": "7f54cbf3-bbc3-4ceb-e1c1-4db8e5144a3d"
   },
   "outputs": [],
   "source": [
    "from xgboost import XGBClassifier\n",
    "\n",
    "model = XGBClassifier(\n",
    "    n_estimators=150,\n",
    "    max_depth=6,\n",
    "    learning_rate=0.05,\n",
    "    random_state=42,\n",
    "    use_label_encoder=False,\n",
    "    eval_metric='logloss'\n",
    ")\n",
    "\n",
    "model.fit(train_x, train_y)"
   ]
  },
  {
   "cell_type": "code",
   "execution_count": null,
   "metadata": {
    "id": "Yyd6uS7UAOO-",
    "outputId": "381bad62-445c-41d2-b2df-d92a478ae35f"
   },
   "outputs": [],
   "source": [
    "from sklearn.ensemble import RandomForestClassifier\n",
    "\n",
    "model = RandomForestClassifier(\n",
    "    n_estimators=150,\n",
    "    max_depth=6,\n",
    "    random_state=42,\n",
    ")\n",
    "\n",
    "model.fit(train_x, train_y)"
   ]
  },
  {
   "cell_type": "code",
   "execution_count": null,
   "metadata": {
    "id": "kfydF8B_AOO-",
    "outputId": "87857011-38f2-454a-9a97-0e9071419769"
   },
   "outputs": [],
   "source": [
    "from sklearn.metrics import classification_report, confusion_matrix, roc_auc_score\n",
    "\n",
    "# After training\n",
    "y_pred = model.predict(val_x)\n",
    "y_proba = model.predict_proba(val_x)[:,1]\n",
    "\n",
    "print(classification_report(val_y, y_pred))\n",
    "print(\"AUC:\", roc_auc_score(val_y, y_proba))\n"
   ]
  },
  {
   "cell_type": "code",
   "execution_count": null,
   "metadata": {
    "id": "DsBBIYhwAOO_",
    "outputId": "3f040344-bec4-4fd3-e1e6-17b62d442987"
   },
   "outputs": [],
   "source": [
    "# Get feature importance as dictionary\n",
    "importance_dict = model.get_booster().get_score(importance_type='gain')  # You can also use: 'weight', 'cover', 'total_gain', 'total_cover'\n",
    "\n",
    "# Convert to DataFrame for easier viewing\n",
    "importance_df = pd.DataFrame.from_dict(importance_dict, orient='index', columns=['Importance'])\n",
    "importance_df.index.name = 'Feature'\n",
    "importance_df = importance_df.sort_values(by='Importance', ascending=False)\n",
    "\n",
    "print(importance_df)"
   ]
  },
  {
   "cell_type": "code",
   "execution_count": null,
   "metadata": {
    "id": "MrwsTqx_AOO_",
    "outputId": "af1b8631-329d-40f5-8820-0a000ab325a9"
   },
   "outputs": [],
   "source": [
    "reaction_type"
   ]
  },
  {
   "cell_type": "code",
   "execution_count": null,
   "metadata": {
    "id": "yHZj_zJpAOO_"
   },
   "outputs": [],
   "source": [
    "model.feature_importances_"
   ]
  },
  {
   "cell_type": "code",
   "execution_count": null,
   "metadata": {
    "id": "cb4LzYi1AOO_"
   },
   "outputs": [],
   "source": [
    "X.iloc[-40]"
   ]
  },
  {
   "cell_type": "code",
   "execution_count": null,
   "metadata": {
    "id": "EEeSgGNYAOO_"
   },
   "outputs": [],
   "source": [
    "model.predict(X.iloc[-41].values.reshape(1,-1))\n"
   ]
  },
  {
   "cell_type": "code",
   "execution_count": null,
   "metadata": {
    "id": "Y7Hq9ztEAOPA"
   },
   "outputs": [],
   "source": [
    "from joblib import dump, load\n",
    "\n",
    "\n",
    "dump(model,'smcXGBoost.pkl')\n",
    "print(\"Saved successfully\")"
   ]
  },
  {
   "cell_type": "code",
   "execution_count": null,
   "metadata": {
    "id": "MOrJjU_qAOPA"
   },
   "outputs": [],
   "source": [
    "for k in train_data.iloc[50].keys():\n",
    "    print(f'{k} : {train_data.iloc[50][k]}')"
   ]
  }
 ],
 "metadata": {
  "colab": {
   "provenance": []
  },
  "kernelspec": {
   "display_name": ".venv",
   "language": "python",
   "name": "python3"
  },
  "language_info": {
   "codemirror_mode": {
    "name": "ipython",
    "version": 3
   },
   "file_extension": ".py",
   "mimetype": "text/x-python",
   "name": "python",
   "nbconvert_exporter": "python",
   "pygments_lexer": "ipython3",
   "version": "3.12.7"
  }
 },
 "nbformat": 4,
 "nbformat_minor": 0
}
