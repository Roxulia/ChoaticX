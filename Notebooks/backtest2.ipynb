{
 "cells": [
  {
   "cell_type": "code",
   "execution_count": null,
   "metadata": {
    "colab": {
     "base_uri": "https://localhost:8080/"
    },
    "executionInfo": {
     "elapsed": 8509,
     "status": "ok",
     "timestamp": 1747316872531,
     "user": {
      "displayName": "Yabanhito Narwoikie",
      "userId": "03656859950307606706"
     },
     "user_tz": -390
    },
    "id": "kvUIGHxL_VPf",
    "outputId": "f7e20cac-e859-434b-e1a6-2819afb0ec11"
   },
   "outputs": [],
   "source": [
    "!pip install ta"
   ]
  },
  {
   "cell_type": "code",
   "execution_count": null,
   "metadata": {},
   "outputs": [],
   "source": [
    "import sys\n",
    "import os\n",
    "\n",
    "# Add the root directory \"chaoticX\" to the system path\n",
    "sys.path.append(os.path.abspath(\"..\"))  # one level up from Notebooks/\n"
   ]
  },
  {
   "cell_type": "code",
   "execution_count": null,
   "metadata": {
    "executionInfo": {
     "elapsed": 391,
     "status": "ok",
     "timestamp": 1747316872903,
     "user": {
      "displayName": "Yabanhito Narwoikie",
      "userId": "03656859950307606706"
     },
     "user_tz": -390
    },
    "id": "P8QucV-ZAOON"
   },
   "outputs": [],
   "source": [
    "import pandas as pd\n",
    "import numpy as np\n",
    "import matplotlib.pyplot as plt\n",
    "import ta\n",
    "from Data.timeFrames import timeFrame\n",
    "from Data.binanceAPI import BinanceAPI\n",
    "from Core.zone_detection import ZoneDetector\n",
    "from Core.zone_merge import ZoneMerger\n",
    "from Core.zone_reactions import ZoneReactor\n",
    "from ML.Model import ModelHandler\n"
   ]
  },
  {
   "cell_type": "code",
   "execution_count": null,
   "metadata": {
    "colab": {
     "base_uri": "https://localhost:8080/"
    },
    "executionInfo": {
     "elapsed": 24211,
     "status": "ok",
     "timestamp": 1747316897116,
     "user": {
      "displayName": "Yabanhito Narwoikie",
      "userId": "03656859950307606706"
     },
     "user_tz": -390
    },
    "id": "cpGDr5ahAdMX",
    "outputId": "e33c44be-9855-492f-f265-058a3abb484f"
   },
   "outputs": [],
   "source": [
    "from google.colab import drive\n",
    "drive.mount('/content/drive')\n"
   ]
  },
  {
   "cell_type": "code",
   "execution_count": null,
   "metadata": {},
   "outputs": [],
   "source": [
    "df = pd.read_csv('../Datasets/train_dataset.csv')\n",
    "list(df.columns)"
   ]
  },
  {
   "cell_type": "code",
   "execution_count": null,
   "metadata": {},
   "outputs": [],
   "source": [
    "modelHandler = ModelHandler(model_type='xgb')\n",
    "modelHandler.load('../Models/Model_1h_4h_1D_.pkl')\n",
    "columns = list(df.columns)\n",
    "columns.remove('target')\n",
    "data = modelHandler.getFeatureImportance(feature_names=columns)\n",
    "sorted_importance = dict(sorted(data.items(), key=lambda item: item[1], reverse=True))\n",
    "sorted_importance"
   ]
  },
  {
   "cell_type": "code",
   "execution_count": null,
   "metadata": {},
   "outputs": [],
   "source": [
    "set(columns) - set(sorted_importance.keys())"
   ]
  },
  {
   "cell_type": "code",
   "execution_count": null,
   "metadata": {},
   "outputs": [],
   "source": [
    "below_features = {key : value for key, value in sorted_importance.items() if key.startswith('below_') and value < 2}\n",
    "below_features"
   ]
  },
  {
   "cell_type": "code",
   "execution_count": null,
   "metadata": {},
   "outputs": [],
   "source": [
    "above_features = {key : value for key, value in sorted_importance.items() if key.startswith('above_') and value < 2}\n",
    "above_features"
   ]
  },
  {
   "cell_type": "code",
   "execution_count": null,
   "metadata": {
    "id": "9QPRmFJcAOO9",
    "outputId": "4a612dbf-54b1-4272-e035-8b4bbc176cf9"
   },
   "outputs": [],
   "source": [
    "correlations = df.corr()['target'].sort_values(ascending=False)\n",
    "correlations_dict = correlations.to_dict()\n",
    "notcorr = [key  for key,value in correlations_dict.items() if not pd.notna(value) or value == 0]\n",
    "notcorr"
   ]
  },
  {
   "cell_type": "code",
   "execution_count": null,
   "metadata": {},
   "outputs": [],
   "source": [
    "\n",
    "not_corr_importances = {key : value for key, value in data.items() if  key  in notcorr}\n",
    "not_corr_importances"
   ]
  },
  {
   "cell_type": "code",
   "execution_count": null,
   "metadata": {
    "executionInfo": {
     "elapsed": 1127,
     "status": "ok",
     "timestamp": 1747316919982,
     "user": {
      "displayName": "Yabanhito Narwoikie",
      "userId": "03656859950307606706"
     },
     "user_tz": -390
    },
    "id": "TbFogZNFAsaK"
   },
   "outputs": [],
   "source": [
    "df = pd.read_csv('/content/drive/MyDrive/Colab Notebooks/OHLC.csv')"
   ]
  },
  {
   "cell_type": "code",
   "execution_count": null,
   "metadata": {},
   "outputs": [],
   "source": [
    "df.loc[~((df['is_target'] == 1) | (df['is_target'] == 0))]\n"
   ]
  },
  {
   "cell_type": "code",
   "execution_count": null,
   "metadata": {},
   "outputs": [],
   "source": [
    "for col in df.columns:\n",
    "    print(f'{col} : {df[col].dtype}')"
   ]
  },
  {
   "cell_type": "code",
   "execution_count": null,
   "metadata": {},
   "outputs": [],
   "source": [
    "df.shape"
   ]
  },
  {
   "cell_type": "code",
   "execution_count": null,
   "metadata": {
    "colab": {
     "base_uri": "https://localhost:8080/",
     "height": 398
    },
    "executionInfo": {
     "elapsed": 99,
     "status": "ok",
     "timestamp": 1747277162878,
     "user": {
      "displayName": "Yabanhito Narwoikie",
      "userId": "03656859950307606706"
     },
     "user_tz": 420
    },
    "id": "_1PB2OFF1Pkk",
    "outputId": "437cde30-c96c-400e-beaf-d87ebbca4d49"
   },
   "outputs": [],
   "source": [
    "api = BinanceAPI()\n",
    "df_4h = api.get_ohlcv(interval='4h')\n",
    "df_1d = api.get_ohlcv(interval='1D')\n",
    "df_1h = api.get_ohlcv()"
   ]
  },
  {
   "cell_type": "code",
   "execution_count": null,
   "metadata": {},
   "outputs": [],
   "source": [
    "detector1h = ZoneDetector(df_1h)\n",
    "zone_1h = detector1h.get_zones()\n",
    "detector4h = ZoneDetector(df_4h,timeframe= \"4h\")\n",
    "zone_4h = detector4h.get_zones()\n",
    "detector1d = ZoneDetector(df_1d,timeframe=\"1D\")\n",
    "zone_1d = detector1d.get_zones()\n"
   ]
  },
  {
   "cell_type": "code",
   "execution_count": null,
   "metadata": {},
   "outputs": [],
   "source": [
    "merger = ZoneMerger(zone_1h+zone_4h+zone_1d)\n",
    "\n",
    "zones = merger.merge()\n",
    "#zones = merger.add_liq_confluence(zones)"
   ]
  },
  {
   "cell_type": "code",
   "execution_count": null,
   "metadata": {},
   "outputs": [],
   "source": [
    "reactor = ZoneReactor(df_1h, zones)\n",
    "zones = reactor.get_zone_reaction()\n",
    "zones = merger.getNearbyZone(zones)"
   ]
  },
  {
   "cell_type": "code",
   "execution_count": null,
   "metadata": {},
   "outputs": [],
   "source": [
    "zones = reactor.get_next_target_zone()"
   ]
  },
  {
   "cell_type": "code",
   "execution_count": null,
   "metadata": {},
   "outputs": [],
   "source": [
    "zones[-1]"
   ]
  },
  {
   "cell_type": "code",
   "execution_count": null,
   "metadata": {},
   "outputs": [],
   "source": [
    "import requests\n",
    "\n",
    "def get_orderbook_price(symbol, target_price):\n",
    "    url = \"https://api.binance.com/api/v3/depth\"\n",
    "    params = {\"symbol\": symbol.upper(), \"limit\": 10000}\n",
    "    res = requests.get(url, params=params).json()\n",
    "\n",
    "    target_price = str(float(target_price))  # Ensure formatting\n",
    "\n",
    "    bids = {price: qty for price, qty in res[\"bids\"]}\n",
    "    asks = {price: qty for price, qty in res[\"asks\"]}\n",
    "\n",
    "    bid_qty = bids.get(target_price, None)\n",
    "    ask_qty = asks.get(target_price, None)\n",
    "\n",
    "    return {\n",
    "        \"bid_quantity\": bid_qty,\n",
    "        \"ask_quantity\": ask_qty,\n",
    "        \"response\" : res\n",
    "    }\n",
    "\n",
    "# Example usage:\n",
    "print(get_orderbook_price(\"BTCUSDT\", 109000.00))\n"
   ]
  },
  {
   "cell_type": "code",
   "execution_count": null,
   "metadata": {
    "id": "3JudR_eaAOOt"
   },
   "outputs": [],
   "source": [
    "df_zone_reaction['level'] = df_zone_reaction['level'].fillna((df_zone_reaction['zone_high']+df_zone_reaction['zone_low'])/2)\n",
    "df_zone_reaction['zone_width'] = df_zone_reaction['zone_width'].fillna(0)\n",
    "df_zone_reaction['body_size'] = df_zone_reaction['body_size'].fillna(0)\n",
    "df_zone_reaction['wick_ratio'] = df_zone_reaction['wick_ratio'].fillna(0)\n",
    "df_zone_reaction['volume_on_creation'] = df_zone_reaction['volume_on_creation'].fillna(0)\n",
    "df_zone_reaction['avg_volume_past_5'] = df_zone_reaction['avg_volume_past_5'].fillna(0)\n",
    "df_zone_reaction['prev_volatility_5'] = df_zone_reaction['prev_volatility_5'].fillna(0)\n",
    "df_zone_reaction['momentum_5'] = df_zone_reaction['momentum_5'].fillna(0)\n",
    "df_zone_reaction['avg_volume_around_zone'] = df_zone_reaction['avg_volume_around_zone'].fillna(0)\n",
    "df_zone_reaction['equal_level_deviation'] = df_zone_reaction['equal_level_deviation'].fillna(0)\n",
    "df_zone_reaction['duration_between_first_last_touch'] = df_zone_reaction['duration_between_first_last_touch'].fillna(0)"
   ]
  },
  {
   "cell_type": "code",
   "execution_count": null,
   "metadata": {
    "id": "DYBemBF3AOOt",
    "outputId": "a3f4a522-cc79-4913-8d21-3c51b8566bca"
   },
   "outputs": [],
   "source": [
    "df_zone_reaction['type'].unique()"
   ]
  },
  {
   "cell_type": "code",
   "execution_count": null,
   "metadata": {
    "id": "vOMqj8sLAOOt"
   },
   "outputs": [],
   "source": [
    "df_zone_reaction.to_csv('reactions.csv',index=False)"
   ]
  },
  {
   "cell_type": "code",
   "execution_count": null,
   "metadata": {
    "colab": {
     "base_uri": "https://localhost:8080/",
     "height": 300
    },
    "executionInfo": {
     "elapsed": 123,
     "status": "ok",
     "timestamp": 1746810630950,
     "user": {
      "displayName": "Yabanhito Narwoikie",
      "userId": "03656859950307606706"
     },
     "user_tz": 420
    },
    "id": "JEXvMuItAOOu",
    "outputId": "6df58099-10c0-4a77-ed20-9054a13cae5f"
   },
   "outputs": [],
   "source": [
    "df_zone_reaction.describe()"
   ]
  },
  {
   "cell_type": "code",
   "execution_count": null,
   "metadata": {
    "colab": {
     "base_uri": "https://localhost:8080/",
     "height": 743
    },
    "executionInfo": {
     "elapsed": 19,
     "status": "ok",
     "timestamp": 1747110356381,
     "user": {
      "displayName": "Yabanhito Narwoikie",
      "userId": "03656859950307606706"
     },
     "user_tz": 420
    },
    "id": "oOgwSYFYAOOu",
    "outputId": "39bae00a-2443-4050-ca98-75e136b78288"
   },
   "outputs": [],
   "source": [
    "df_zone_reaction.notna().sum()"
   ]
  },
  {
   "cell_type": "code",
   "execution_count": null,
   "metadata": {
    "id": "9QoE0RrrAOOu"
   },
   "outputs": [],
   "source": [
    "df_zone_reaction= df_zone_reaction.dropna()"
   ]
  },
  {
   "cell_type": "code",
   "execution_count": null,
   "metadata": {
    "id": "7KHUaiv5FpJ5"
   },
   "outputs": [],
   "source": [
    "df_ob_fvg_reaction = df_zone_reaction.loc[~df_zone_reaction['type'].isin(['Buy-Side Liq','Sell-Side Liq'])]\n",
    "df_liq_reaction = df_zone_reaction.loc[df_zone_reaction['type'] .isin(['Buy-Sidde Liq','Sell-Side Liq'])]"
   ]
  },
  {
   "cell_type": "code",
   "execution_count": null,
   "metadata": {
    "id": "asfQWph4AOOv"
   },
   "outputs": [],
   "source": [
    "reaction_type1 = list(df_ob_fvg_reaction.reaction_type.unique())\n",
    "reaction_type2 = list(df_liq_reaction.reaction_type.unique())\n",
    "zone_type = list(df_zone_reaction['type'].unique())"
   ]
  },
  {
   "cell_type": "code",
   "execution_count": null,
   "metadata": {
    "colab": {
     "base_uri": "https://localhost:8080/"
    },
    "executionInfo": {
     "elapsed": 21,
     "status": "ok",
     "timestamp": 1747110380190,
     "user": {
      "displayName": "Yabanhito Narwoikie",
      "userId": "03656859950307606706"
     },
     "user_tz": 420
    },
    "id": "R7BuRhSVAOOv",
    "outputId": "b7a26660-c068-4ff9-909f-96dcfe87b91a"
   },
   "outputs": [],
   "source": [
    "df_ob_fvg_reaction['type'] = df_ob_fvg_reaction['type'].apply(lambda x : zone_type.index(x))\n",
    "df_ob_fvg_reaction['nearest_zone_type'] = df_ob_fvg_reaction['nearest_zone_type'].apply(lambda x : zone_type.index(x))\n",
    "df_liq_reaction['type'] = df_liq_reaction['type'].apply(lambda x : zone_type.index(x))\n",
    "df_liq_reaction['nearest_zone_type'] = df_liq_reaction['nearest_zone_type'].apply(lambda x : zone_type.index(x))\n",
    "\n"
   ]
  },
  {
   "cell_type": "code",
   "execution_count": null,
   "metadata": {
    "colab": {
     "base_uri": "https://localhost:8080/"
    },
    "executionInfo": {
     "elapsed": 59,
     "status": "ok",
     "timestamp": 1747110383414,
     "user": {
      "displayName": "Yabanhito Narwoikie",
      "userId": "03656859950307606706"
     },
     "user_tz": 420
    },
    "id": "6PeQ4rxQAOOv",
    "outputId": "8384e3e7-7e6e-4bdb-d7fb-4f3ce4690c9a"
   },
   "outputs": [],
   "source": [
    "df_ob_fvg_reaction['reaction_type'] = df_ob_fvg_reaction['reaction_type'].apply(lambda x : reaction_type1.index(x))\n",
    "df_liq_reaction['reaction_type'] = df_liq_reaction['reaction_type'].apply(lambda x : reaction_type2.index(x))"
   ]
  },
  {
   "cell_type": "code",
   "execution_count": null,
   "metadata": {
    "colab": {
     "base_uri": "https://localhost:8080/",
     "height": 743
    },
    "executionInfo": {
     "elapsed": 55,
     "status": "ok",
     "timestamp": 1747110387384,
     "user": {
      "displayName": "Yabanhito Narwoikie",
      "userId": "03656859950307606706"
     },
     "user_tz": 420
    },
    "id": "txic68vgAOOw",
    "outputId": "462a5eae-d5ee-4afc-f5fe-b0b595fe93cb"
   },
   "outputs": [],
   "source": [
    "df_zone_reaction.dtypes"
   ]
  },
  {
   "cell_type": "code",
   "execution_count": null,
   "metadata": {
    "id": "ufDfjD-uAOOw"
   },
   "outputs": [],
   "source": [
    "X1 = df_liq_reaction.drop(columns=['reaction_type','nearest_zone_index','index','zone_high','zone_low','duration_between_first_last_touch'])\n",
    "Y1 = df_liq_reaction['reaction_type']\n",
    "X2 = df_ob_fvg_reaction.drop(columns=['reaction_type','nearest_zone_index','index','zone_high','zone_low','duration_between_first_last_touch'])\n",
    "Y2 = df_ob_fvg_reaction['reaction_type']"
   ]
  },
  {
   "cell_type": "code",
   "execution_count": null,
   "metadata": {
    "id": "K7x3wGN3HhOz"
   },
   "outputs": [],
   "source": [
    "from sklearn.model_selection import train_test_split\n",
    "\n",
    "train_x1,val_x1,train_y1,val_y1 = train_test_split(X1,Y1,test_size=0.7)\n",
    "train_x2,val_x2,train_y2,val_y2 = train_test_split(X2,Y2,test_size=0.7)"
   ]
  },
  {
   "cell_type": "code",
   "execution_count": null,
   "metadata": {
    "colab": {
     "base_uri": "https://localhost:8080/",
     "height": 393
    },
    "executionInfo": {
     "elapsed": 1747,
     "status": "ok",
     "timestamp": 1747110440943,
     "user": {
      "displayName": "Yabanhito Narwoikie",
      "userId": "03656859950307606706"
     },
     "user_tz": 420
    },
    "id": "brM12-HuHyzQ",
    "outputId": "81382e39-6776-4dc9-ba17-e697fe2447a9"
   },
   "outputs": [],
   "source": [
    "from xgboost import XGBClassifier\n",
    "\n",
    "liq_model = XGBClassifier(\n",
    "    n_estimators=150,\n",
    "    max_depth=6,\n",
    "    learning_rate=0.05,\n",
    "    random_state=42,\n",
    "    use_label_encoder=False,\n",
    "    eval_metric='logloss'\n",
    ")\n",
    "ob_fvg_model = XGBClassifier(\n",
    "    n_estimators=150,\n",
    "    max_depth=6,\n",
    "    learning_rate=0.05,\n",
    "    random_state=42,\n",
    "    use_label_encoder=False,\n",
    "    eval_metric='logloss'\n",
    ")\n",
    "liq_model.fit(train_x1, train_y1)\n",
    "ob_fvg_model.fit(train_x2,train_y2)"
   ]
  },
  {
   "cell_type": "code",
   "execution_count": null,
   "metadata": {
    "colab": {
     "base_uri": "https://localhost:8080/"
    },
    "executionInfo": {
     "elapsed": 77,
     "status": "ok",
     "timestamp": 1747110444663,
     "user": {
      "displayName": "Yabanhito Narwoikie",
      "userId": "03656859950307606706"
     },
     "user_tz": 420
    },
    "id": "JxOPZunAILDy",
    "outputId": "7d133daf-62b2-4c24-a575-06e4a1af428b"
   },
   "outputs": [],
   "source": [
    "from sklearn.metrics import classification_report, confusion_matrix, roc_auc_score\n",
    "\n",
    "# After training\n",
    "y_pred1 = liq_model.predict(val_x1)\n",
    "y_pred2 = ob_fvg_model.predict(val_x2)\n",
    "\n",
    "print(classification_report(val_y1, y_pred1))\n",
    "print(classification_report(val_y2, y_pred2))\n"
   ]
  },
  {
   "cell_type": "code",
   "execution_count": null,
   "metadata": {
    "colab": {
     "base_uri": "https://localhost:8080/"
    },
    "executionInfo": {
     "elapsed": 10,
     "status": "ok",
     "timestamp": 1746812627924,
     "user": {
      "displayName": "Yabanhito Narwoikie",
      "userId": "03656859950307606706"
     },
     "user_tz": 420
    },
    "id": "cv6xyldRJG2Y",
    "outputId": "d6e12de6-960c-4366-84ed-dd2d94f4e2f2"
   },
   "outputs": [],
   "source": [
    "print(X2.columns)\n",
    "print(X1.columns)"
   ]
  },
  {
   "cell_type": "code",
   "execution_count": null,
   "metadata": {
    "id": "Q3kH3qvgAOOx"
   },
   "outputs": [],
   "source": [
    "labels = label_direction_based_on_zone_touch(df,fvg,ob,liq,threshold=0.1)"
   ]
  },
  {
   "cell_type": "markdown",
   "metadata": {
    "id": "k0Os0Z8LAOO4"
   },
   "source": [
    "Data Combination of SMC Elements"
   ]
  },
  {
   "cell_type": "code",
   "execution_count": null,
   "metadata": {
    "id": "P690Nq6lAOO4"
   },
   "outputs": [],
   "source": [
    "def smc_combine(df):\n",
    "    merged = df.copy()\n",
    "    merged = merged.reset_index(drop = True)\n",
    "    merged['index'] = merged.index  # ensure index column exists\n",
    "    fvg = detect_fvg(df)\n",
    "    #fvg = check_fvg_reactions(df,fvg)\n",
    "    ob = detect_order_blocks(df)\n",
    "    #ob = check_ob_reactions(df,ob)\n",
    "    swings = detect_swings(df,20)\n",
    "    labeled_swings = label_structure_from_swings(swings)\n",
    "    bos_choch=lookahead_bos_choch(labeled_swings,df,50)\n",
    "    liq = detect_liquidity_zones(df,swings)\n",
    "    #liq = check_liquidity_reactions(df,liq)\n",
    "\n",
    "    fvg_df = pd.DataFrame(fvg).set_index('index')\n",
    "    ob_df = pd.DataFrame(ob).set_index('index')\n",
    "    bos_choch_df = pd.DataFrame(bos_choch).set_index('trigger_candle')\n",
    "    labeled_swings_df = pd.DataFrame(labeled_swings).set_index('index')\n",
    "    liq_df = pd.DataFrame(liq).set_index('start_index')\n",
    "    merged = merged.merge(fvg_df, on='index', how='left', suffixes=('', '_fvg'))\n",
    "    merged = merged.merge(ob_df, on='index', how='left', suffixes=('', '_ob'))\n",
    "    merged = merged.merge(labeled_swings_df,on = 'index',how='left',suffixes=('','_swings'))\n",
    "    merged = merged.merge(bos_choch_df, on='index', how='left', suffixes=('', '_bos_choch'))\n",
    "    merged = merged.merge(liq_df, left_on='index', right_index=True, how='left', suffixes=('', '_liq'))\n",
    "    merged['timestamp'] = df.index\n",
    "    return merged"
   ]
  },
  {
   "cell_type": "code",
   "execution_count": null,
   "metadata": {
    "id": "fHyqjynCAOO4"
   },
   "outputs": [],
   "source": [
    "smc_15m = smc_combine(df)\n",
    "smc_1hr = smc_combine(df_1h)\n",
    "smc_4hr = smc_combine(df_4h)\n",
    "smc_1d = smc_combine(df_1d)"
   ]
  },
  {
   "cell_type": "code",
   "execution_count": null,
   "metadata": {
    "id": "dBVmemI2AOO5"
   },
   "outputs": [],
   "source": [
    "def add_htf_features(base_df,htf_df,prefix):\n",
    "    base_df = base_df.copy()\n",
    "    htf_df = htf_df.copy()\n",
    "    base_df = base_df.set_index('timestamp')\n",
    "    htf_df = htf_df.set_index('timestamp')\n",
    "    for feature in ['trend', 'fvg_high', 'fvg_low', 'ob_high', 'ob_low','level','swing_type']:\n",
    "        if feature in htf_df.columns:\n",
    "            base_df[f'{prefix}_{feature}'] = htf_df[feature].reindex(base_df.index, method='ffill')\n",
    "\n",
    "    return base_df.reset_index()"
   ]
  },
  {
   "cell_type": "code",
   "execution_count": null,
   "metadata": {
    "id": "zNE1J16LAOO5"
   },
   "outputs": [],
   "source": [
    "smc_15m = add_htf_features(smc_15m, smc_1hr, prefix='1h')\n",
    "smc_15m = add_htf_features(smc_15m,smc_4hr, prefix='4h')\n",
    "smc_15m = add_htf_features(smc_15m, smc_1d, prefix='1d')\n"
   ]
  },
  {
   "cell_type": "code",
   "execution_count": null,
   "metadata": {
    "id": "jfsKAI16AOO5"
   },
   "outputs": [],
   "source": [
    "smc_15m.tail()"
   ]
  },
  {
   "cell_type": "code",
   "execution_count": null,
   "metadata": {
    "id": "bsShZX8XAOO5"
   },
   "outputs": [],
   "source": [
    "smc_4hr.tail(20)"
   ]
  },
  {
   "cell_type": "code",
   "execution_count": null,
   "metadata": {
    "id": "Fb8XulV0AOO6"
   },
   "outputs": [],
   "source": [
    "smc_15m.to_csv('smc.csv',index=False)"
   ]
  },
  {
   "cell_type": "code",
   "execution_count": null,
   "metadata": {
    "id": "3IKL53yAAOO6"
   },
   "outputs": [],
   "source": [
    "train_data = pd.read_csv('smc.csv')\n",
    "\n",
    "# --- 1. Zone Confluence ---\n",
    "train_data['fvg_ob_confluence'] = (\n",
    "    (train_data['type'] == train_data['type_ob']) &\n",
    "    train_data['type'].notna()\n",
    ").astype(int)\n",
    "\n",
    "train_data['fvg_liq_confluence'] = (\n",
    "    (train_data['type'].notna()) &\n",
    "    (train_data['type_liq'].notna()) &\n",
    "    (abs(train_data['level'] - train_data['low']) < 1000)\n",
    ").astype(int)\n",
    "\n",
    "train_data['ob_liq_confluence'] = (\n",
    "    (train_data['type_ob'].notna()) &\n",
    "    (train_data['type_liq'].notna()) &\n",
    "    (abs(train_data['level'] - train_data['low']) < 1000)\n",
    ").astype(int)\n",
    "\n",
    "# --- 2. Timing Features ---\n",
    "train_data['time_since_bos_choch'] = train_data['index'] - train_data['trigger_candle']\n",
    "train_data['delay_to_liquidity_sweep'] = train_data['swept_index'] - train_data['index']\n",
    "\n",
    "# --- 3. Reaction Strengths ---\n",
    "train_data['avg_max_price_move'] = train_data[[\n",
    "    'max_price_move',\n",
    "    'max_price_move_ob',\n",
    "    'max_price_move_liq'\n",
    "]].mean(axis=1)\n",
    "\n",
    "train_data['has_strong_reaction'] = train_data['reaction_type'].isin(['clean bounce', 'bounce + break']).astype(int)\n",
    "\n",
    "# --- 4. Labels ---\n",
    "train_data['reaction_success'] = train_data['reaction_type'].isin(['clean bounce', 'bounce + break']).astype(int)\n",
    "train_data['reaction_failed'] = (train_data['reaction_type'] == 'violation').astype(int)\n",
    "\n",
    "train_data['setup_success'] = (\n",
    "    (train_data['reaction_type_ob'].isin(['clean bounce'])) |\n",
    "    (train_data['reaction_type'].isin(['clean bounce'])) |\n",
    "    (train_data['reaction_type_liq'].isin(['clean bounce']))\n",
    ").astype(int)\n",
    "\n",
    "# Show the newly added features\n",
    "train_data.tail()\n"
   ]
  },
  {
   "cell_type": "code",
   "execution_count": null,
   "metadata": {
    "id": "v725N-FNAOO6"
   },
   "outputs": [],
   "source": [
    "drop_cols = [\n",
    "    'timestamp', 'index', 'price', 'trigger_candle', 'price_bos_choch',\n",
    "    'trend_bos_choch', 'signal_bos_choch', 'trend_after_bos_choch','reaction_type',\n",
    "    'reaction_type_ob',\n",
    "    'reaction_type_liq','has_strong_reaction',\n",
    "       'reaction_success', 'reaction_failed','price_retrace_ratio','max_price_move','price_retrace_ratio_ob',\n",
    "       'max_price_move_ob','max_price_move_liq','avg_max_price_move','bounced','partial_mitigated','bounced_ob'\n",
    "       ,'partial_mitigated_ob','bounced_liq' ,'violated','violated_ob','violated_liq'\n",
    "]\n"
   ]
  },
  {
   "cell_type": "code",
   "execution_count": null,
   "metadata": {
    "id": "Be6VGDCcAOO7"
   },
   "outputs": [],
   "source": [
    "train_data.fillna({\n",
    "    'structure_label': 'None',\n",
    "    'signal': 'None',\n",
    "    'trend': 'Unknown',\n",
    "\n",
    "    'swing_type': 'None',\n",
    "    'type': 'None',\n",
    "    'type_ob': 'None',\n",
    "    'type_liq': 'None'\n",
    "}, inplace=True)\n",
    "\n",
    "# Fill numeric NaNs\n",
    "train_data.fillna(0, inplace=True)\n"
   ]
  },
  {
   "cell_type": "code",
   "execution_count": null,
   "metadata": {
    "id": "TNXts9yvAOO7"
   },
   "outputs": [],
   "source": [
    "from sklearn.preprocessing import LabelEncoder\n",
    "\n",
    "categorical_cols = [\n",
    "    'structure_label', 'signal', 'trend',\n",
    "    'swing_type', 'type', 'type_ob', 'type_liq'\n",
    "]\n",
    "\n",
    "le = LabelEncoder()\n",
    "for col in categorical_cols:\n",
    "    train_data[col] = le.fit_transform(train_data[col].astype(str))\n"
   ]
  },
  {
   "cell_type": "code",
   "execution_count": null,
   "metadata": {
    "id": "BXY3NviDAOO8"
   },
   "outputs": [],
   "source": [
    "X = df_past_zones.drop(columns=['reaction_type','index','zone_high','zone_low'])\n",
    "Y = df_past_zones['reaction_type']"
   ]
  },
  {
   "cell_type": "code",
   "execution_count": null,
   "metadata": {
    "id": "_oMYK2_OAOO8"
   },
   "outputs": [],
   "source": [
    "X = df_past_zones.drop(columns=['is_target','candle_index','zone_index','touched_index','zone_type'])\n",
    "Y = df_past_zones['is_target']\n"
   ]
  },
  {
   "cell_type": "code",
   "execution_count": null,
   "metadata": {
    "id": "mC9IXvB8AOO8"
   },
   "outputs": [],
   "source": [
    "X = X.reset_index(drop= True)"
   ]
  },
  {
   "cell_type": "code",
   "execution_count": null,
   "metadata": {
    "id": "pmCnZpsEAOO8"
   },
   "outputs": [],
   "source": [
    "from sklearn.preprocessing import LabelEncoder\n",
    "\n",
    "# Encode all object columns\n",
    "for col in X.columns:\n",
    "    if X[col].dtype == 'object':\n",
    "        X[col] = LabelEncoder().fit_transform(X[col].astype(str))\n",
    "\n",
    "# Cast entire DataFrame to float32\n",
    "X = X.astype('float32')\n"
   ]
  },
  {
   "cell_type": "code",
   "execution_count": null,
   "metadata": {
    "id": "pnkAWYNjAOO8"
   },
   "outputs": [],
   "source": [
    "# Ensure all features are either int or float\n",
    "cols = list(X.columns)\n",
    "cols\n"
   ]
  },
  {
   "cell_type": "code",
   "execution_count": null,
   "metadata": {
    "id": "K6rLUE_pAOO9"
   },
   "outputs": [],
   "source": [
    "from sklearn.model_selection import train_test_split\n",
    "\n",
    "train_x,val_x,train_y,val_y = train_test_split(X,Y,test_size=0.7)\n"
   ]
  },
  {
   "cell_type": "code",
   "execution_count": null,
   "metadata": {
    "id": "QeUawiDsAOO9",
    "outputId": "3a64c7fc-1c84-4d9d-dee4-bbe58db89c64"
   },
   "outputs": [],
   "source": [
    "val_x.tail(5)"
   ]
  },
  {
   "cell_type": "code",
   "execution_count": null,
   "metadata": {
    "id": "VQ_O6eGDAOO-",
    "outputId": "7f54cbf3-bbc3-4ceb-e1c1-4db8e5144a3d"
   },
   "outputs": [],
   "source": [
    "from xgboost import XGBClassifier\n",
    "\n",
    "model = XGBClassifier(\n",
    "    n_estimators=150,\n",
    "    max_depth=6,\n",
    "    learning_rate=0.05,\n",
    "    random_state=42,\n",
    "    use_label_encoder=False,\n",
    "    eval_metric='logloss'\n",
    ")\n",
    "\n",
    "model.fit(train_x, train_y)"
   ]
  },
  {
   "cell_type": "code",
   "execution_count": null,
   "metadata": {
    "id": "Yyd6uS7UAOO-",
    "outputId": "381bad62-445c-41d2-b2df-d92a478ae35f"
   },
   "outputs": [],
   "source": [
    "from sklearn.ensemble import RandomForestClassifier\n",
    "\n",
    "model = RandomForestClassifier(\n",
    "    n_estimators=150,\n",
    "    max_depth=6,\n",
    "    random_state=42,\n",
    ")\n",
    "\n",
    "model.fit(train_x, train_y)"
   ]
  },
  {
   "cell_type": "code",
   "execution_count": null,
   "metadata": {
    "id": "kfydF8B_AOO-",
    "outputId": "87857011-38f2-454a-9a97-0e9071419769"
   },
   "outputs": [],
   "source": [
    "from sklearn.metrics import classification_report, confusion_matrix, roc_auc_score\n",
    "\n",
    "# After training\n",
    "y_pred = model.predict(val_x)\n",
    "y_proba = model.predict_proba(val_x)[:,1]\n",
    "\n",
    "print(classification_report(val_y, y_pred))\n",
    "print(\"AUC:\", roc_auc_score(val_y, y_proba))\n"
   ]
  },
  {
   "cell_type": "code",
   "execution_count": null,
   "metadata": {
    "id": "DsBBIYhwAOO_",
    "outputId": "3f040344-bec4-4fd3-e1e6-17b62d442987"
   },
   "outputs": [],
   "source": [
    "# Get feature importance as dictionary\n",
    "importance_dict = model.get_booster().get_score(importance_type='gain')  # You can also use: 'weight', 'cover', 'total_gain', 'total_cover'\n",
    "\n",
    "# Convert to DataFrame for easier viewing\n",
    "importance_df = pd.DataFrame.from_dict(importance_dict, orient='index', columns=['Importance'])\n",
    "importance_df.index.name = 'Feature'\n",
    "importance_df = importance_df.sort_values(by='Importance', ascending=False)\n",
    "\n",
    "print(importance_df)"
   ]
  },
  {
   "cell_type": "code",
   "execution_count": null,
   "metadata": {
    "id": "MrwsTqx_AOO_",
    "outputId": "af1b8631-329d-40f5-8820-0a000ab325a9"
   },
   "outputs": [],
   "source": [
    "reaction_type"
   ]
  },
  {
   "cell_type": "code",
   "execution_count": null,
   "metadata": {
    "id": "yHZj_zJpAOO_"
   },
   "outputs": [],
   "source": [
    "model.feature_importances_"
   ]
  },
  {
   "cell_type": "code",
   "execution_count": null,
   "metadata": {
    "id": "cb4LzYi1AOO_"
   },
   "outputs": [],
   "source": [
    "X.iloc[-40]"
   ]
  },
  {
   "cell_type": "code",
   "execution_count": null,
   "metadata": {
    "id": "EEeSgGNYAOO_"
   },
   "outputs": [],
   "source": [
    "model.predict(X.iloc[-41].values.reshape(1,-1))\n"
   ]
  },
  {
   "cell_type": "code",
   "execution_count": null,
   "metadata": {
    "id": "Y7Hq9ztEAOPA"
   },
   "outputs": [],
   "source": [
    "from joblib import dump, load\n",
    "\n",
    "\n",
    "dump(model,'smcXGBoost.pkl')\n",
    "print(\"Saved successfully\")"
   ]
  },
  {
   "cell_type": "code",
   "execution_count": null,
   "metadata": {
    "id": "MOrJjU_qAOPA"
   },
   "outputs": [],
   "source": [
    "for k in train_data.iloc[50].keys():\n",
    "    print(f'{k} : {train_data.iloc[50][k]}')"
   ]
  }
 ],
 "metadata": {
  "colab": {
   "provenance": []
  },
  "kernelspec": {
   "display_name": ".venv",
   "language": "python",
   "name": "python3"
  },
  "language_info": {
   "codemirror_mode": {
    "name": "ipython",
    "version": 3
   },
   "file_extension": ".py",
   "mimetype": "text/x-python",
   "name": "python",
   "nbconvert_exporter": "python",
   "pygments_lexer": "ipython3",
   "version": "3.12.7"
  }
 },
 "nbformat": 4,
 "nbformat_minor": 0
}
